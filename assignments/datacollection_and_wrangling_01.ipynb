{
 "cells": [
  {
   "cell_type": "markdown",
   "metadata": {},
   "source": [
    "# <img style=\"float: left; padding-right: 10px; width: 200px\" src=\"https://raw.githubusercontent.com/trivikverma/researchgroup/master/assets/media/logo.png\"> EPA-1316 Introduction to *Urban* Data Science \n",
    "\n",
    "\n",
    "## Assignment 1: Data Collection and Wrangling\n",
    "\n",
    "**TU Delft**<br>\n",
    "**Q1 2021**<br>\n",
    "**Instructor:** Trivik Verma <br>\n",
    "**TAs:**  Auriane Técourt, Luka Janssens, Marya El Malki, Mobeen Nawaz, Stephan Olde, Ruth Nelson, Juliana Gonçalves \n",
    "<br>\n",
    "<br>\n",
    "**Assignment done by:** Raquel Romão, student number 5629608\n",
    "\n",
    "**[Centre for Urban Science & Policy]( https://cusp.tbm.tudelft.nl/)**<br>\n",
    "\n",
    "---\n",
    "\n"
   ]
  },
  {
   "cell_type": "markdown",
   "metadata": {},
   "source": [
    "# ``Introduction``\n",
    "\n",
    "In this assignment I worked with the dataset provenient from the World Development Indicators database, bearing in mind the hypothesis that the access to safe water could be predicted by analyzing certain indicators (as explained later in this file).\n",
    "\n",
    "Therefore, similarly to what was stated in the assignment, I divided the solution of this first assignment in 4 tasks:\n",
    "\n",
    "1. Reading and Summarizing the Data.\n",
    "2. Subsetting the Data.\n",
    "3. Manage Missing Data.\n",
    "4. Shape the Data.\n",
    "5. Saving the Results."
   ]
  },
  {
   "cell_type": "markdown",
   "metadata": {},
   "source": [
    "<br/>\n",
    "\n",
    "***\n",
    "\n",
    "# ``Task 1: Downloading the Data``\n"
   ]
  },
  {
   "cell_type": "markdown",
   "metadata": {},
   "source": [
    "First, I imported the libraries that I would use."
   ]
  },
  {
   "cell_type": "code",
   "execution_count": 2,
   "metadata": {},
   "outputs": [],
   "source": [
    "import os             \n",
    "import pandas as pd\n",
    "import numpy as np"
   ]
  },
  {
   "cell_type": "markdown",
   "metadata": {},
   "source": [
    "I then loaded the `WDIData.csv` file into Python and saved its data as **`df`**."
   ]
  },
  {
   "cell_type": "code",
   "execution_count": 3,
   "metadata": {},
   "outputs": [],
   "source": [
    "d = 'data/WDIData.csv'\n",
    "\n",
    "df = pd.read_csv(d)"
   ]
  },
  {
   "cell_type": "markdown",
   "metadata": {},
   "source": [
    "To look at the first and last 5 rows I resorted to the panda functions `head()` and `tail()`."
   ]
  },
  {
   "cell_type": "code",
   "execution_count": 4,
   "metadata": {
    "scrolled": true
   },
   "outputs": [
    {
     "data": {
      "text/html": [
       "<div>\n",
       "<style scoped>\n",
       "    .dataframe tbody tr th:only-of-type {\n",
       "        vertical-align: middle;\n",
       "    }\n",
       "\n",
       "    .dataframe tbody tr th {\n",
       "        vertical-align: top;\n",
       "    }\n",
       "\n",
       "    .dataframe thead th {\n",
       "        text-align: right;\n",
       "    }\n",
       "</style>\n",
       "<table border=\"1\" class=\"dataframe\">\n",
       "  <thead>\n",
       "    <tr style=\"text-align: right;\">\n",
       "      <th></th>\n",
       "      <th>Country Name</th>\n",
       "      <th>Country Code</th>\n",
       "      <th>Indicator Name</th>\n",
       "      <th>Indicator Code</th>\n",
       "      <th>1960</th>\n",
       "      <th>1961</th>\n",
       "      <th>1962</th>\n",
       "      <th>1963</th>\n",
       "      <th>1964</th>\n",
       "      <th>1965</th>\n",
       "      <th>...</th>\n",
       "      <th>2012</th>\n",
       "      <th>2013</th>\n",
       "      <th>2014</th>\n",
       "      <th>2015</th>\n",
       "      <th>2016</th>\n",
       "      <th>2017</th>\n",
       "      <th>2018</th>\n",
       "      <th>2019</th>\n",
       "      <th>2020</th>\n",
       "      <th>Unnamed: 65</th>\n",
       "    </tr>\n",
       "  </thead>\n",
       "  <tbody>\n",
       "    <tr>\n",
       "      <th>0</th>\n",
       "      <td>Africa Eastern and Southern</td>\n",
       "      <td>AFE</td>\n",
       "      <td>Access to clean fuels and technologies for coo...</td>\n",
       "      <td>EG.CFT.ACCS.ZS</td>\n",
       "      <td>NaN</td>\n",
       "      <td>NaN</td>\n",
       "      <td>NaN</td>\n",
       "      <td>NaN</td>\n",
       "      <td>NaN</td>\n",
       "      <td>NaN</td>\n",
       "      <td>...</td>\n",
       "      <td>16.320475</td>\n",
       "      <td>16.643243</td>\n",
       "      <td>16.994695</td>\n",
       "      <td>17.313168</td>\n",
       "      <td>17.604950</td>\n",
       "      <td>NaN</td>\n",
       "      <td>NaN</td>\n",
       "      <td>NaN</td>\n",
       "      <td>NaN</td>\n",
       "      <td>NaN</td>\n",
       "    </tr>\n",
       "    <tr>\n",
       "      <th>1</th>\n",
       "      <td>Africa Eastern and Southern</td>\n",
       "      <td>AFE</td>\n",
       "      <td>Access to electricity (% of population)</td>\n",
       "      <td>EG.ELC.ACCS.ZS</td>\n",
       "      <td>NaN</td>\n",
       "      <td>NaN</td>\n",
       "      <td>NaN</td>\n",
       "      <td>NaN</td>\n",
       "      <td>NaN</td>\n",
       "      <td>NaN</td>\n",
       "      <td>...</td>\n",
       "      <td>32.224027</td>\n",
       "      <td>32.046478</td>\n",
       "      <td>31.323579</td>\n",
       "      <td>33.312163</td>\n",
       "      <td>38.380433</td>\n",
       "      <td>39.754201</td>\n",
       "      <td>42.168241</td>\n",
       "      <td>43.640661</td>\n",
       "      <td>NaN</td>\n",
       "      <td>NaN</td>\n",
       "    </tr>\n",
       "    <tr>\n",
       "      <th>2</th>\n",
       "      <td>Africa Eastern and Southern</td>\n",
       "      <td>AFE</td>\n",
       "      <td>Access to electricity, rural (% of rural popul...</td>\n",
       "      <td>EG.ELC.ACCS.RU.ZS</td>\n",
       "      <td>NaN</td>\n",
       "      <td>NaN</td>\n",
       "      <td>NaN</td>\n",
       "      <td>NaN</td>\n",
       "      <td>NaN</td>\n",
       "      <td>NaN</td>\n",
       "      <td>...</td>\n",
       "      <td>20.525353</td>\n",
       "      <td>19.461383</td>\n",
       "      <td>17.790698</td>\n",
       "      <td>16.553470</td>\n",
       "      <td>23.907897</td>\n",
       "      <td>24.624725</td>\n",
       "      <td>26.813900</td>\n",
       "      <td>28.841150</td>\n",
       "      <td>NaN</td>\n",
       "      <td>NaN</td>\n",
       "    </tr>\n",
       "    <tr>\n",
       "      <th>3</th>\n",
       "      <td>Africa Eastern and Southern</td>\n",
       "      <td>AFE</td>\n",
       "      <td>Access to electricity, urban (% of urban popul...</td>\n",
       "      <td>EG.ELC.ACCS.UR.ZS</td>\n",
       "      <td>NaN</td>\n",
       "      <td>NaN</td>\n",
       "      <td>NaN</td>\n",
       "      <td>NaN</td>\n",
       "      <td>NaN</td>\n",
       "      <td>NaN</td>\n",
       "      <td>...</td>\n",
       "      <td>66.303599</td>\n",
       "      <td>66.496010</td>\n",
       "      <td>65.828988</td>\n",
       "      <td>66.926692</td>\n",
       "      <td>68.722184</td>\n",
       "      <td>71.085418</td>\n",
       "      <td>71.994933</td>\n",
       "      <td>73.589886</td>\n",
       "      <td>NaN</td>\n",
       "      <td>NaN</td>\n",
       "    </tr>\n",
       "    <tr>\n",
       "      <th>4</th>\n",
       "      <td>Africa Eastern and Southern</td>\n",
       "      <td>AFE</td>\n",
       "      <td>Account ownership at a financial institution o...</td>\n",
       "      <td>FX.OWN.TOTL.ZS</td>\n",
       "      <td>NaN</td>\n",
       "      <td>NaN</td>\n",
       "      <td>NaN</td>\n",
       "      <td>NaN</td>\n",
       "      <td>NaN</td>\n",
       "      <td>NaN</td>\n",
       "      <td>...</td>\n",
       "      <td>NaN</td>\n",
       "      <td>NaN</td>\n",
       "      <td>NaN</td>\n",
       "      <td>NaN</td>\n",
       "      <td>NaN</td>\n",
       "      <td>NaN</td>\n",
       "      <td>NaN</td>\n",
       "      <td>NaN</td>\n",
       "      <td>NaN</td>\n",
       "      <td>NaN</td>\n",
       "    </tr>\n",
       "  </tbody>\n",
       "</table>\n",
       "<p>5 rows × 66 columns</p>\n",
       "</div>"
      ],
      "text/plain": [
       "                  Country Name Country Code  \\\n",
       "0  Africa Eastern and Southern          AFE   \n",
       "1  Africa Eastern and Southern          AFE   \n",
       "2  Africa Eastern and Southern          AFE   \n",
       "3  Africa Eastern and Southern          AFE   \n",
       "4  Africa Eastern and Southern          AFE   \n",
       "\n",
       "                                      Indicator Name     Indicator Code  1960  \\\n",
       "0  Access to clean fuels and technologies for coo...     EG.CFT.ACCS.ZS   NaN   \n",
       "1            Access to electricity (% of population)     EG.ELC.ACCS.ZS   NaN   \n",
       "2  Access to electricity, rural (% of rural popul...  EG.ELC.ACCS.RU.ZS   NaN   \n",
       "3  Access to electricity, urban (% of urban popul...  EG.ELC.ACCS.UR.ZS   NaN   \n",
       "4  Account ownership at a financial institution o...     FX.OWN.TOTL.ZS   NaN   \n",
       "\n",
       "   1961  1962  1963  1964  1965  ...       2012       2013       2014  \\\n",
       "0   NaN   NaN   NaN   NaN   NaN  ...  16.320475  16.643243  16.994695   \n",
       "1   NaN   NaN   NaN   NaN   NaN  ...  32.224027  32.046478  31.323579   \n",
       "2   NaN   NaN   NaN   NaN   NaN  ...  20.525353  19.461383  17.790698   \n",
       "3   NaN   NaN   NaN   NaN   NaN  ...  66.303599  66.496010  65.828988   \n",
       "4   NaN   NaN   NaN   NaN   NaN  ...        NaN        NaN        NaN   \n",
       "\n",
       "        2015       2016       2017       2018       2019  2020  Unnamed: 65  \n",
       "0  17.313168  17.604950        NaN        NaN        NaN   NaN          NaN  \n",
       "1  33.312163  38.380433  39.754201  42.168241  43.640661   NaN          NaN  \n",
       "2  16.553470  23.907897  24.624725  26.813900  28.841150   NaN          NaN  \n",
       "3  66.926692  68.722184  71.085418  71.994933  73.589886   NaN          NaN  \n",
       "4        NaN        NaN        NaN        NaN        NaN   NaN          NaN  \n",
       "\n",
       "[5 rows x 66 columns]"
      ]
     },
     "execution_count": 4,
     "metadata": {},
     "output_type": "execute_result"
    }
   ],
   "source": [
    "df.head()"
   ]
  },
  {
   "cell_type": "code",
   "execution_count": 5,
   "metadata": {
    "scrolled": true
   },
   "outputs": [
    {
     "data": {
      "text/html": [
       "<div>\n",
       "<style scoped>\n",
       "    .dataframe tbody tr th:only-of-type {\n",
       "        vertical-align: middle;\n",
       "    }\n",
       "\n",
       "    .dataframe tbody tr th {\n",
       "        vertical-align: top;\n",
       "    }\n",
       "\n",
       "    .dataframe thead th {\n",
       "        text-align: right;\n",
       "    }\n",
       "</style>\n",
       "<table border=\"1\" class=\"dataframe\">\n",
       "  <thead>\n",
       "    <tr style=\"text-align: right;\">\n",
       "      <th></th>\n",
       "      <th>Country Name</th>\n",
       "      <th>Country Code</th>\n",
       "      <th>Indicator Name</th>\n",
       "      <th>Indicator Code</th>\n",
       "      <th>1960</th>\n",
       "      <th>1961</th>\n",
       "      <th>1962</th>\n",
       "      <th>1963</th>\n",
       "      <th>1964</th>\n",
       "      <th>1965</th>\n",
       "      <th>...</th>\n",
       "      <th>2012</th>\n",
       "      <th>2013</th>\n",
       "      <th>2014</th>\n",
       "      <th>2015</th>\n",
       "      <th>2016</th>\n",
       "      <th>2017</th>\n",
       "      <th>2018</th>\n",
       "      <th>2019</th>\n",
       "      <th>2020</th>\n",
       "      <th>Unnamed: 65</th>\n",
       "    </tr>\n",
       "  </thead>\n",
       "  <tbody>\n",
       "    <tr>\n",
       "      <th>383833</th>\n",
       "      <td>Zimbabwe</td>\n",
       "      <td>ZWE</td>\n",
       "      <td>Women who believe a husband is justified in be...</td>\n",
       "      <td>SG.VAW.REFU.ZS</td>\n",
       "      <td>NaN</td>\n",
       "      <td>NaN</td>\n",
       "      <td>NaN</td>\n",
       "      <td>NaN</td>\n",
       "      <td>NaN</td>\n",
       "      <td>NaN</td>\n",
       "      <td>...</td>\n",
       "      <td>NaN</td>\n",
       "      <td>NaN</td>\n",
       "      <td>NaN</td>\n",
       "      <td>14.5</td>\n",
       "      <td>NaN</td>\n",
       "      <td>NaN</td>\n",
       "      <td>NaN</td>\n",
       "      <td>NaN</td>\n",
       "      <td>NaN</td>\n",
       "      <td>NaN</td>\n",
       "    </tr>\n",
       "    <tr>\n",
       "      <th>383834</th>\n",
       "      <td>Zimbabwe</td>\n",
       "      <td>ZWE</td>\n",
       "      <td>Women who were first married by age 15 (% of w...</td>\n",
       "      <td>SP.M15.2024.FE.ZS</td>\n",
       "      <td>NaN</td>\n",
       "      <td>NaN</td>\n",
       "      <td>NaN</td>\n",
       "      <td>NaN</td>\n",
       "      <td>NaN</td>\n",
       "      <td>NaN</td>\n",
       "      <td>...</td>\n",
       "      <td>NaN</td>\n",
       "      <td>NaN</td>\n",
       "      <td>NaN</td>\n",
       "      <td>3.7</td>\n",
       "      <td>NaN</td>\n",
       "      <td>NaN</td>\n",
       "      <td>NaN</td>\n",
       "      <td>5.4</td>\n",
       "      <td>NaN</td>\n",
       "      <td>NaN</td>\n",
       "    </tr>\n",
       "    <tr>\n",
       "      <th>383835</th>\n",
       "      <td>Zimbabwe</td>\n",
       "      <td>ZWE</td>\n",
       "      <td>Women who were first married by age 18 (% of w...</td>\n",
       "      <td>SP.M18.2024.FE.ZS</td>\n",
       "      <td>NaN</td>\n",
       "      <td>NaN</td>\n",
       "      <td>NaN</td>\n",
       "      <td>NaN</td>\n",
       "      <td>NaN</td>\n",
       "      <td>NaN</td>\n",
       "      <td>...</td>\n",
       "      <td>NaN</td>\n",
       "      <td>NaN</td>\n",
       "      <td>33.5</td>\n",
       "      <td>32.4</td>\n",
       "      <td>NaN</td>\n",
       "      <td>NaN</td>\n",
       "      <td>NaN</td>\n",
       "      <td>33.7</td>\n",
       "      <td>NaN</td>\n",
       "      <td>NaN</td>\n",
       "    </tr>\n",
       "    <tr>\n",
       "      <th>383836</th>\n",
       "      <td>Zimbabwe</td>\n",
       "      <td>ZWE</td>\n",
       "      <td>Women's share of population ages 15+ living wi...</td>\n",
       "      <td>SH.DYN.AIDS.FE.ZS</td>\n",
       "      <td>NaN</td>\n",
       "      <td>NaN</td>\n",
       "      <td>NaN</td>\n",
       "      <td>NaN</td>\n",
       "      <td>NaN</td>\n",
       "      <td>NaN</td>\n",
       "      <td>...</td>\n",
       "      <td>59.2</td>\n",
       "      <td>59.3</td>\n",
       "      <td>59.4</td>\n",
       "      <td>59.4</td>\n",
       "      <td>59.5</td>\n",
       "      <td>59.5</td>\n",
       "      <td>59.6</td>\n",
       "      <td>59.6</td>\n",
       "      <td>NaN</td>\n",
       "      <td>NaN</td>\n",
       "    </tr>\n",
       "    <tr>\n",
       "      <th>383837</th>\n",
       "      <td>Zimbabwe</td>\n",
       "      <td>ZWE</td>\n",
       "      <td>Young people (ages 15-24) newly infected with HIV</td>\n",
       "      <td>SH.HIV.INCD.YG</td>\n",
       "      <td>NaN</td>\n",
       "      <td>NaN</td>\n",
       "      <td>NaN</td>\n",
       "      <td>NaN</td>\n",
       "      <td>NaN</td>\n",
       "      <td>NaN</td>\n",
       "      <td>...</td>\n",
       "      <td>21000.0</td>\n",
       "      <td>20000.0</td>\n",
       "      <td>19000.0</td>\n",
       "      <td>18000.0</td>\n",
       "      <td>16000.0</td>\n",
       "      <td>15000.0</td>\n",
       "      <td>13000.0</td>\n",
       "      <td>13000.0</td>\n",
       "      <td>NaN</td>\n",
       "      <td>NaN</td>\n",
       "    </tr>\n",
       "  </tbody>\n",
       "</table>\n",
       "<p>5 rows × 66 columns</p>\n",
       "</div>"
      ],
      "text/plain": [
       "       Country Name Country Code  \\\n",
       "383833     Zimbabwe          ZWE   \n",
       "383834     Zimbabwe          ZWE   \n",
       "383835     Zimbabwe          ZWE   \n",
       "383836     Zimbabwe          ZWE   \n",
       "383837     Zimbabwe          ZWE   \n",
       "\n",
       "                                           Indicator Name     Indicator Code  \\\n",
       "383833  Women who believe a husband is justified in be...     SG.VAW.REFU.ZS   \n",
       "383834  Women who were first married by age 15 (% of w...  SP.M15.2024.FE.ZS   \n",
       "383835  Women who were first married by age 18 (% of w...  SP.M18.2024.FE.ZS   \n",
       "383836  Women's share of population ages 15+ living wi...  SH.DYN.AIDS.FE.ZS   \n",
       "383837  Young people (ages 15-24) newly infected with HIV     SH.HIV.INCD.YG   \n",
       "\n",
       "        1960  1961  1962  1963  1964  1965  ...     2012     2013     2014  \\\n",
       "383833   NaN   NaN   NaN   NaN   NaN   NaN  ...      NaN      NaN      NaN   \n",
       "383834   NaN   NaN   NaN   NaN   NaN   NaN  ...      NaN      NaN      NaN   \n",
       "383835   NaN   NaN   NaN   NaN   NaN   NaN  ...      NaN      NaN     33.5   \n",
       "383836   NaN   NaN   NaN   NaN   NaN   NaN  ...     59.2     59.3     59.4   \n",
       "383837   NaN   NaN   NaN   NaN   NaN   NaN  ...  21000.0  20000.0  19000.0   \n",
       "\n",
       "           2015     2016     2017     2018     2019  2020  Unnamed: 65  \n",
       "383833     14.5      NaN      NaN      NaN      NaN   NaN          NaN  \n",
       "383834      3.7      NaN      NaN      NaN      5.4   NaN          NaN  \n",
       "383835     32.4      NaN      NaN      NaN     33.7   NaN          NaN  \n",
       "383836     59.4     59.5     59.5     59.6     59.6   NaN          NaN  \n",
       "383837  18000.0  16000.0  15000.0  13000.0  13000.0   NaN          NaN  \n",
       "\n",
       "[5 rows x 66 columns]"
      ]
     },
     "execution_count": 5,
     "metadata": {},
     "output_type": "execute_result"
    }
   ],
   "source": [
    "df.tail()"
   ]
  },
  {
   "cell_type": "markdown",
   "metadata": {},
   "source": [
    "Afterwards, I explored further the data and extrated different information about it:"
   ]
  },
  {
   "cell_type": "markdown",
   "metadata": {},
   "source": [
    "* general info;"
   ]
  },
  {
   "cell_type": "code",
   "execution_count": 6,
   "metadata": {
    "scrolled": true
   },
   "outputs": [
    {
     "name": "stdout",
     "output_type": "stream",
     "text": [
      "<class 'pandas.core.frame.DataFrame'>\n",
      "RangeIndex: 383838 entries, 0 to 383837\n",
      "Data columns (total 66 columns):\n",
      " #   Column          Non-Null Count   Dtype  \n",
      "---  ------          --------------   -----  \n",
      " 0   Country Name    383838 non-null  object \n",
      " 1   Country Code    383838 non-null  object \n",
      " 2   Indicator Name  383838 non-null  object \n",
      " 3   Indicator Code  383838 non-null  object \n",
      " 4   1960            37536 non-null   float64\n",
      " 5   1961            42463 non-null   float64\n",
      " 6   1962            44707 non-null   float64\n",
      " 7   1963            44547 non-null   float64\n",
      " 8   1964            45099 non-null   float64\n",
      " 9   1965            47298 non-null   float64\n",
      " 10  1966            47382 non-null   float64\n",
      " 11  1967            49106 non-null   float64\n",
      " 12  1968            48667 non-null   float64\n",
      " 13  1969            50503 non-null   float64\n",
      " 14  1970            69181 non-null   float64\n",
      " 15  1971            76156 non-null   float64\n",
      " 16  1972            79269 non-null   float64\n",
      " 17  1973            78763 non-null   float64\n",
      " 18  1974            80278 non-null   float64\n",
      " 19  1975            83975 non-null   float64\n",
      " 20  1976            86304 non-null   float64\n",
      " 21  1977            90290 non-null   float64\n",
      " 22  1978            89876 non-null   float64\n",
      " 23  1979            90731 non-null   float64\n",
      " 24  1980            95678 non-null   float64\n",
      " 25  1981            98050 non-null   float64\n",
      " 26  1982            99781 non-null   float64\n",
      " 27  1983            99286 non-null   float64\n",
      " 28  1984            100043 non-null  float64\n",
      " 29  1985            101417 non-null  float64\n",
      " 30  1986            102263 non-null  float64\n",
      " 31  1987            103903 non-null  float64\n",
      " 32  1988            102368 non-null  float64\n",
      " 33  1989            104238 non-null  float64\n",
      " 34  1990            126918 non-null  float64\n",
      " 35  1991            134287 non-null  float64\n",
      " 36  1992            139382 non-null  float64\n",
      " 37  1993            139959 non-null  float64\n",
      " 38  1994            142253 non-null  float64\n",
      " 39  1995            150011 non-null  float64\n",
      " 40  1996            149842 non-null  float64\n",
      " 41  1997            152161 non-null  float64\n",
      " 42  1998            153326 non-null  float64\n",
      " 43  1999            158907 non-null  float64\n",
      " 44  2000            184318 non-null  float64\n",
      " 45  2001            178666 non-null  float64\n",
      " 46  2002            184113 non-null  float64\n",
      " 47  2003            183816 non-null  float64\n",
      " 48  2004            189339 non-null  float64\n",
      " 49  2005            200165 non-null  float64\n",
      " 50  2006            200862 non-null  float64\n",
      " 51  2007            206106 non-null  float64\n",
      " 52  2008            203842 non-null  float64\n",
      " 53  2009            205015 non-null  float64\n",
      " 54  2010            218835 non-null  float64\n",
      " 55  2011            210993 non-null  float64\n",
      " 56  2012            215533 non-null  float64\n",
      " 57  2013            209665 non-null  float64\n",
      " 58  2014            216942 non-null  float64\n",
      " 59  2015            211443 non-null  float64\n",
      " 60  2016            211302 non-null  float64\n",
      " 61  2017            207552 non-null  float64\n",
      " 62  2018            197315 non-null  float64\n",
      " 63  2019            163536 non-null  float64\n",
      " 64  2020            61930 non-null   float64\n",
      " 65  Unnamed: 65     0 non-null       float64\n",
      "dtypes: float64(62), object(4)\n",
      "memory usage: 193.3+ MB\n"
     ]
    }
   ],
   "source": [
    "df.info()"
   ]
  },
  {
   "cell_type": "markdown",
   "metadata": {},
   "source": [
    "* the data type of each column;"
   ]
  },
  {
   "cell_type": "code",
   "execution_count": 7,
   "metadata": {},
   "outputs": [
    {
     "data": {
      "text/plain": [
       "Country Name       object\n",
       "Country Code       object\n",
       "Indicator Name     object\n",
       "Indicator Code     object\n",
       "1960              float64\n",
       "                   ...   \n",
       "2017              float64\n",
       "2018              float64\n",
       "2019              float64\n",
       "2020              float64\n",
       "Unnamed: 65       float64\n",
       "Length: 66, dtype: object"
      ]
     },
     "execution_count": 7,
     "metadata": {},
     "output_type": "execute_result"
    }
   ],
   "source": [
    "df.dtypes"
   ]
  },
  {
   "cell_type": "markdown",
   "metadata": {},
   "source": [
    "* the Dataframe's shape (number of rows and columns);"
   ]
  },
  {
   "cell_type": "code",
   "execution_count": 8,
   "metadata": {},
   "outputs": [
    {
     "name": "stdout",
     "output_type": "stream",
     "text": [
      "(383838, 66)\n"
     ]
    }
   ],
   "source": [
    "print(df.shape) #output =(number of rows, number of columns)"
   ]
  },
  {
   "cell_type": "code",
   "execution_count": 9,
   "metadata": {},
   "outputs": [
    {
     "data": {
      "text/plain": [
       "383838"
      ]
     },
     "execution_count": 9,
     "metadata": {},
     "output_type": "execute_result"
    }
   ],
   "source": [
    "len(df) #number of rows"
   ]
  },
  {
   "cell_type": "code",
   "execution_count": 10,
   "metadata": {},
   "outputs": [
    {
     "data": {
      "text/plain": [
       "66"
      ]
     },
     "execution_count": 10,
     "metadata": {},
     "output_type": "execute_result"
    }
   ],
   "source": [
    "len(df.columns) #number of columns"
   ]
  },
  {
   "cell_type": "markdown",
   "metadata": {},
   "source": [
    "* the names of the columns;"
   ]
  },
  {
   "cell_type": "code",
   "execution_count": 11,
   "metadata": {
    "scrolled": true
   },
   "outputs": [
    {
     "data": {
      "text/plain": [
       "Index(['Country Name', 'Country Code', 'Indicator Name', 'Indicator Code',\n",
       "       '1960', '1961', '1962', '1963', '1964', '1965', '1966', '1967', '1968',\n",
       "       '1969', '1970', '1971', '1972', '1973', '1974', '1975', '1976', '1977',\n",
       "       '1978', '1979', '1980', '1981', '1982', '1983', '1984', '1985', '1986',\n",
       "       '1987', '1988', '1989', '1990', '1991', '1992', '1993', '1994', '1995',\n",
       "       '1996', '1997', '1998', '1999', '2000', '2001', '2002', '2003', '2004',\n",
       "       '2005', '2006', '2007', '2008', '2009', '2010', '2011', '2012', '2013',\n",
       "       '2014', '2015', '2016', '2017', '2018', '2019', '2020', 'Unnamed: 65'],\n",
       "      dtype='object')"
      ]
     },
     "execution_count": 11,
     "metadata": {},
     "output_type": "execute_result"
    }
   ],
   "source": [
    "df.columns"
   ]
  },
  {
   "cell_type": "markdown",
   "metadata": {},
   "source": [
    "I decided to rename the first 4 columns, since it would make it easier to access them."
   ]
  },
  {
   "cell_type": "code",
   "execution_count": 12,
   "metadata": {},
   "outputs": [],
   "source": [
    "df=df.rename(columns={'Country Name': 'country_name'})\n",
    "df=df.rename(columns={'Country Code': 'country_code'})\n",
    "df=df.rename(columns={'Indicator Name': 'indicator_name'})\n",
    "df=df.rename(columns={'Indicator Code': 'indicator_code'})"
   ]
  },
  {
   "cell_type": "markdown",
   "metadata": {},
   "source": [
    "Finally, using the functions `describe()` and `unique()` I came to other conclusions:"
   ]
  },
  {
   "cell_type": "code",
   "execution_count": 13,
   "metadata": {
    "scrolled": false
   },
   "outputs": [
    {
     "data": {
      "text/plain": [
       "count        383838\n",
       "unique          266\n",
       "top       Mauritius\n",
       "freq           1443\n",
       "Name: country_name, dtype: object"
      ]
     },
     "execution_count": 13,
     "metadata": {},
     "output_type": "execute_result"
    }
   ],
   "source": [
    "df.country_name.describe() "
   ]
  },
  {
   "cell_type": "code",
   "execution_count": 14,
   "metadata": {},
   "outputs": [
    {
     "data": {
      "text/plain": [
       "count                                            383838\n",
       "unique                                             1443\n",
       "top       Customs and other import duties (current LCU)\n",
       "freq                                                266\n",
       "Name: indicator_name, dtype: object"
      ]
     },
     "execution_count": 14,
     "metadata": {},
     "output_type": "execute_result"
    }
   ],
   "source": [
    "df.indicator_name.describe()"
   ]
  },
  {
   "cell_type": "markdown",
   "metadata": {},
   "source": [
    "* how many unique regions/countries are in the data;"
   ]
  },
  {
   "cell_type": "code",
   "execution_count": 15,
   "metadata": {},
   "outputs": [
    {
     "data": {
      "text/plain": [
       "266"
      ]
     },
     "execution_count": 15,
     "metadata": {},
     "output_type": "execute_result"
    }
   ],
   "source": [
    "len(df.country_code.unique())"
   ]
  },
  {
   "cell_type": "markdown",
   "metadata": {},
   "source": [
    "* how many unique national indicators are in the data."
   ]
  },
  {
   "cell_type": "code",
   "execution_count": 16,
   "metadata": {},
   "outputs": [
    {
     "data": {
      "text/plain": [
       "1443"
      ]
     },
     "execution_count": 16,
     "metadata": {},
     "output_type": "execute_result"
    }
   ],
   "source": [
    "len(df.indicator_code.unique())"
   ]
  },
  {
   "cell_type": "markdown",
   "metadata": {},
   "source": [
    "<br/>\n",
    "\n",
    "***\n",
    "\n",
    "# ``Task 2: Subsetting the Data``\n",
    "\n",
    "\n",
    "\n",
    "\n",
    "To subset the data, I beared in mind the hypothesis stated bellow.\n",
    "\n",
    "\n",
    "\n",
    "\n",
    "```text\n",
    "\n",
    "My hypothesis and thinking process\n",
    "\n",
    "\n",
    "At first, I chose to analyze if, by looking to the 2020 data for every country, it would be possible to predict which countries would have a higher percentage of its population vaccinated against Covid-19. Taking this into account, I wanted to control for the wealth, level of education, health expenditure and science level/research expenditure of each country. However, after selecting the variables and analyzing the data, I came to the conclusion that there was too many missing data (around 800, out of about 1000 entries - I opted not to show this analysis) for me to manage it and do an analysis that I would be satisfied with. Therefore, I decided to change my line of though and hypothesize something simpler. Hence, I settled on predicting which countries are more/less likely to have access to safe drinking water. \n",
    "\n",
    "Unsafe water is one of the world’s largest health and environmental problems – particularly for the poorest in the world. Providing it requires management efforts and many costs, that was why I hypothesized that wealthier countries (with a higher GDP) would have more access to it. As it is available in this website [1]: \"Despite the variable contexts in different countries, the common predictors of access to clean water and sanitation are income, education and geographical location\"; which is in agreement with my hypothesis that, naturally, the countries with a lower level of education have less access to save water (that is, the countries with more adolescents out of school - I tried to look for other indicators to measure the education and this appeared to be the one with the least missing values). Furthermore, the infrastructural challenges of developing municipal water networks in rural areas is also likely to play an important role in lower access levels relative to urbanized populations, therefore I also chose to control for the rural land area, hypothesizing that countries with a bigger rural land area would have less access to water. Finally, I controlled for other variables directly related to the consumption of safe drinking water: on one hand, I hypothesized that the higher the mortality rate attributed to unsafe water was, the lower the access to safe water would be; on the other hand, I chose to select the variable that takes into account how many people use drinking water services. Lastly, it is to expect that countries with less access to safe drinking water, would have a lower life expectancy, that is why I also chose to control for this variable.\n",
    "\n",
    "\n",
    "My choice of variables were, \n",
    "\n",
    "| Variable Name                                                                        | Variable Code     |\n",
    "| ------------------------------------------------------------------------------------ | ----------------- |\n",
    "| GDP (current US$)                                                                    | NY.GDP.MKTP.CD    |\n",
    "| Adolescents out of school (% of lower secondary school age)                          | SE.SEC.UNER.LO.ZS |\n",
    "| Mortality rate attributed to unsafe water, unsafe sanitation and lack of hygiene*    | SH.STA.WASH.P5    |\n",
    "| People using at least basic drinking water services (% of population)                | SH.H2O.BASW.ZS    |\n",
    "| Life expectancy at birth, total (years)                                              | SP.DYN.LE00.IN    |\n",
    "| Rural land area (sq. km)                                                             | AG.LND.TOTL.RU.K2 |\n",
    "\n",
    "\n",
    "*per 100,000 population.\n",
    "\n",
    "\n",
    "```\n",
    "[1] **[Website with informations about water access](https://ourworldindata.org/water-access)** \n",
    "\n",
    "\n",
    "<br>\n"
   ]
  },
  {
   "cell_type": "markdown",
   "metadata": {},
   "source": [
    "To chose my variables of interest, I started by trying to look for the variables that would fit better my hypothesis by searching, using specific keywords, in the list of all the unique indicators names."
   ]
  },
  {
   "cell_type": "code",
   "execution_count": 17,
   "metadata": {},
   "outputs": [],
   "source": [
    "indicators=df.indicator_name.unique()"
   ]
  },
  {
   "cell_type": "code",
   "execution_count": 18,
   "metadata": {},
   "outputs": [
    {
     "data": {
      "text/plain": [
       "['Agriculture, forestry, and fishing, value added (% of GDP)',\n",
       " 'Broad money (% of GDP)',\n",
       " 'Central government debt, total (% of GDP)',\n",
       " 'Claims on central government, etc. (% GDP)',\n",
       " 'Claims on other sectors of the domestic economy (% of GDP)',\n",
       " 'CO2 emissions (kg per 2010 US$ of GDP)',\n",
       " 'CO2 emissions (kg per 2017 PPP $ of GDP)',\n",
       " 'CO2 emissions (kg per PPP $ of GDP)',\n",
       " 'Coal rents (% of GDP)',\n",
       " 'Current account balance (% of GDP)',\n",
       " 'Current health expenditure (% of GDP)',\n",
       " 'Discrepancy in expenditure estimate of GDP (constant LCU)',\n",
       " 'Discrepancy in expenditure estimate of GDP (current LCU)',\n",
       " 'Domestic credit provided by financial sector (% of GDP)',\n",
       " 'Domestic credit to private sector (% of GDP)',\n",
       " 'Domestic credit to private sector by banks (% of GDP)',\n",
       " 'Domestic general government health expenditure (% of GDP)',\n",
       " 'Energy intensity level of primary energy (MJ/$2011 PPP GDP)',\n",
       " 'Energy use (kg of oil equivalent) per $1,000 GDP (constant 2017 PPP)',\n",
       " 'Expense (% of GDP)',\n",
       " 'Exports of goods and services (% of GDP)',\n",
       " 'External balance on goods and services (% of GDP)',\n",
       " 'Final consumption expenditure (% of GDP)',\n",
       " 'Foreign direct investment, net inflows (% of GDP)',\n",
       " 'Foreign direct investment, net outflows (% of GDP)',\n",
       " 'Forest rents (% of GDP)',\n",
       " 'GDP (constant 2010 US$)',\n",
       " 'GDP (constant LCU)',\n",
       " 'GDP (current LCU)',\n",
       " 'GDP (current US$)',\n",
       " 'GDP deflator (base year varies by country)',\n",
       " 'GDP deflator: linked series (base year varies by country)',\n",
       " 'GDP growth (annual %)',\n",
       " 'GDP per capita (constant 2010 US$)',\n",
       " 'GDP per capita (constant LCU)',\n",
       " 'GDP per capita (current LCU)',\n",
       " 'GDP per capita (current US$)',\n",
       " 'GDP per capita growth (annual %)',\n",
       " 'GDP per capita, PPP (constant 2017 international $)',\n",
       " 'GDP per capita, PPP (current international $)',\n",
       " 'GDP per person employed (constant 2017 PPP $)',\n",
       " 'GDP per unit of energy use (constant 2017 PPP $ per kg of oil equivalent)',\n",
       " 'GDP per unit of energy use (PPP $ per kg of oil equivalent)',\n",
       " 'GDP, PPP (constant 2017 international $)',\n",
       " 'GDP, PPP (current international $)',\n",
       " 'GDP: linked series (current LCU)',\n",
       " 'General government final consumption expenditure (% of GDP)',\n",
       " 'Government expenditure on education, total (% of GDP)',\n",
       " 'Government expenditure per student, primary (% of GDP per capita)',\n",
       " 'Government expenditure per student, secondary (% of GDP per capita)',\n",
       " 'Government expenditure per student, tertiary (% of GDP per capita)',\n",
       " 'Gross capital formation (% of GDP)',\n",
       " 'Gross domestic savings (% of GDP)',\n",
       " 'Gross fixed capital formation (% of GDP)',\n",
       " 'Gross fixed capital formation, private sector (% of GDP)',\n",
       " 'Gross national expenditure (% of GDP)',\n",
       " 'Gross savings (% of GDP)',\n",
       " 'Households and NPISHs final consumption expenditure (% of GDP)',\n",
       " 'Imports of goods and services (% of GDP)',\n",
       " 'Industry (including construction), value added (% of GDP)',\n",
       " 'Inflation, GDP deflator (annual %)',\n",
       " 'Inflation, GDP deflator: linked series (annual %)',\n",
       " 'Manufacturing, value added (% of GDP)',\n",
       " 'Market capitalization of listed domestic companies (% of GDP)',\n",
       " 'Merchandise trade (% of GDP)',\n",
       " 'Military expenditure (% of GDP)',\n",
       " 'Mineral rents (% of GDP)',\n",
       " 'Monetary Sector credit to private sector (% GDP)',\n",
       " 'Natural gas rents (% of GDP)',\n",
       " 'Net acquisition of financial assets (% of GDP)',\n",
       " 'Net incurrence of liabilities, total (% of GDP)',\n",
       " 'Net investment in nonfinancial assets (% of GDP)',\n",
       " 'Net lending (+) / net borrowing (-) (% of GDP)',\n",
       " 'Oil rents (% of GDP)',\n",
       " 'Personal remittances, received (% of GDP)',\n",
       " 'PPP conversion factor, GDP (LCU per international $)',\n",
       " 'Price level ratio of PPP conversion factor (GDP) to market exchange rate',\n",
       " 'Research and development expenditure (% of GDP)',\n",
       " 'Revenue, excluding grants (% of GDP)',\n",
       " 'Services, value added (% of GDP)',\n",
       " 'Stocks traded, total value (% of GDP)',\n",
       " 'Tax revenue (% of GDP)',\n",
       " 'Total natural resources rents (% of GDP)',\n",
       " 'Trade (% of GDP)',\n",
       " 'Trade in services (% of GDP)',\n",
       " 'Water productivity, total (constant 2010 US$ GDP per cubic meter of total freshwater withdrawal)']"
      ]
     },
     "execution_count": 18,
     "metadata": {},
     "output_type": "execute_result"
    }
   ],
   "source": [
    "[name for name in indicators if \"GDP\" in name]"
   ]
  },
  {
   "cell_type": "code",
   "execution_count": 19,
   "metadata": {},
   "outputs": [
    {
     "data": {
      "text/plain": [
       "['Adjusted net enrollment rate, primary (% of primary school age children)',\n",
       " 'Adjusted net enrollment rate, primary, female (% of primary school age children)',\n",
       " 'Adjusted net enrollment rate, primary, male (% of primary school age children)',\n",
       " 'Adolescents out of school (% of lower secondary school age)',\n",
       " 'Adolescents out of school, female (% of female lower secondary school age)',\n",
       " 'Adolescents out of school, male (% of male lower secondary school age)',\n",
       " 'Children out of school (% of primary school age)',\n",
       " 'Children out of school, female (% of female primary school age)',\n",
       " 'Children out of school, male (% of male primary school age)',\n",
       " 'Children out of school, primary',\n",
       " 'Children out of school, primary, female',\n",
       " 'Children out of school, primary, male',\n",
       " 'Lower secondary school starting age (years)',\n",
       " 'Net intake rate in grade 1 (% of official school-age population)',\n",
       " 'Net intake rate in grade 1, female (% of official school-age population)',\n",
       " 'Net intake rate in grade 1, male (% of official school-age population)',\n",
       " 'Primary school starting age (years)',\n",
       " 'Progression to secondary school (%)',\n",
       " 'Progression to secondary school, female (%)',\n",
       " 'Progression to secondary school, male (%)']"
      ]
     },
     "execution_count": 19,
     "metadata": {},
     "output_type": "execute_result"
    }
   ],
   "source": [
    "[name for name in indicators if \"school\" in name]"
   ]
  },
  {
   "cell_type": "code",
   "execution_count": 20,
   "metadata": {},
   "outputs": [
    {
     "data": {
      "text/plain": [
       "['Annual freshwater withdrawals, agriculture (% of total freshwater withdrawal)',\n",
       " 'Annual freshwater withdrawals, domestic (% of total freshwater withdrawal)',\n",
       " 'Annual freshwater withdrawals, industry (% of total freshwater withdrawal)',\n",
       " 'Annual freshwater withdrawals, total (% of internal resources)',\n",
       " 'Annual freshwater withdrawals, total (billion cubic meters)',\n",
       " 'Investment in water and sanitation with private participation (current US$)',\n",
       " 'Level of water stress: freshwater withdrawal as a proportion of available freshwater resources',\n",
       " 'Marine protected areas (% of territorial waters)',\n",
       " 'Mortality rate attributed to unsafe water, unsafe sanitation and lack of hygiene (per 100,000 population)',\n",
       " 'People using at least basic drinking water services (% of population)',\n",
       " 'People using at least basic drinking water services, rural (% of rural population)',\n",
       " 'People using at least basic drinking water services, urban (% of urban population)',\n",
       " 'People using safely managed drinking water services (% of population)',\n",
       " 'People using safely managed drinking water services, rural (% of rural population)',\n",
       " 'People using safely managed drinking water services, urban (% of urban population)',\n",
       " 'People with basic handwashing facilities including soap and water (% of population)',\n",
       " 'People with basic handwashing facilities including soap and water, rural (% of rural population)',\n",
       " 'People with basic handwashing facilities including soap and water, urban (% of urban population)',\n",
       " 'Public private partnerships investment in water and sanitation (current US$)',\n",
       " 'Renewable internal freshwater resources per capita (cubic meters)',\n",
       " 'Renewable internal freshwater resources, total (billion cubic meters)',\n",
       " 'Water productivity, total (constant 2010 US$ GDP per cubic meter of total freshwater withdrawal)']"
      ]
     },
     "execution_count": 20,
     "metadata": {},
     "output_type": "execute_result"
    }
   ],
   "source": [
    "[name for name in indicators if \"water\" in name]"
   ]
  },
  {
   "cell_type": "code",
   "execution_count": 21,
   "metadata": {},
   "outputs": [
    {
     "data": {
      "text/plain": [
       "['Life expectancy at birth, female (years)',\n",
       " 'Life expectancy at birth, male (years)',\n",
       " 'Life expectancy at birth, total (years)']"
      ]
     },
     "execution_count": 21,
     "metadata": {},
     "output_type": "execute_result"
    }
   ],
   "source": [
    "[name for name in indicators if \"expectancy\" in name]"
   ]
  },
  {
   "cell_type": "code",
   "execution_count": 22,
   "metadata": {
    "scrolled": true
   },
   "outputs": [
    {
     "data": {
      "text/plain": [
       "['Agricultural land (% of land area)',\n",
       " 'Arable land (% of land area)',\n",
       " 'Forest area (% of land area)',\n",
       " 'Land area where elevation is below 5 meters (% of total land area)',\n",
       " 'Permanent cropland (% of land area)',\n",
       " 'Population density (people per sq. km of land area)',\n",
       " 'Rural land area (sq. km)',\n",
       " 'Rural land area where elevation is below 5 meters (% of total land area)',\n",
       " 'Rural land area where elevation is below 5 meters (sq. km)',\n",
       " 'Terrestrial protected areas (% of total land area)',\n",
       " 'Urban land area (sq. km)',\n",
       " 'Urban land area where elevation is below 5 meters (% of total land area)',\n",
       " 'Urban land area where elevation is below 5 meters (sq. km)']"
      ]
     },
     "execution_count": 22,
     "metadata": {},
     "output_type": "execute_result"
    }
   ],
   "source": [
    "[name for name in indicators if \"land area\" in name]"
   ]
  },
  {
   "cell_type": "markdown",
   "metadata": {},
   "source": [
    "After selecting my variables, I created a list with their indexes:"
   ]
  },
  {
   "cell_type": "code",
   "execution_count": 23,
   "metadata": {},
   "outputs": [],
   "source": [
    "index = df.index\n",
    "variable_indice=0\n",
    "variables_indices_list=[]\n",
    "selected_variables=[\"GDP (current US$)\",\"Adolescents out of school (% of lower secondary school age)\",\"Mortality rate attributed to unsafe water, unsafe sanitation and lack of hygiene (per 100,000 population)\", \"People using at least basic drinking water services (% of population)\", \"Life expectancy at birth, total (years)\", \"Rural land area (sq. km)\"]\n",
    "\n",
    "for variable in selected_variables:\n",
    "    \n",
    "    condition = (df[\"indicator_name\"] == variable)\n",
    "\n",
    "    variable_indice = index[condition]\n",
    "\n",
    "    variables_indices_list = variables_indices_list + variable_indice.tolist()"
   ]
  },
  {
   "cell_type": "markdown",
   "metadata": {},
   "source": [
    "...which made it possible to get another list with their codes:"
   ]
  },
  {
   "cell_type": "code",
   "execution_count": 24,
   "metadata": {},
   "outputs": [
    {
     "data": {
      "text/plain": [
       "array(['AG.LND.TOTL.RU.K2', 'NY.GDP.MKTP.CD', 'SE.SEC.UNER.LO.ZS',\n",
       "       'SH.H2O.BASW.ZS', 'SH.STA.WASH.P5', 'SP.DYN.LE00.IN'], dtype='<U17')"
      ]
     },
     "execution_count": 24,
     "metadata": {},
     "output_type": "execute_result"
    }
   ],
   "source": [
    "variables=[]\n",
    "\n",
    "for index in variables_indices_list:\n",
    "    variables=variables + [df.indicator_code.iloc[index]]\n",
    "    \n",
    "variables=np.unique(variables)\n",
    "variables"
   ]
  },
  {
   "cell_type": "markdown",
   "metadata": {},
   "source": [
    "Then, I was able to reduce the data frame, use `head()` and show some other statitics such as number or rows, columns, names of variables and unique countries:"
   ]
  },
  {
   "cell_type": "code",
   "execution_count": 25,
   "metadata": {
    "scrolled": true
   },
   "outputs": [
    {
     "data": {
      "text/html": [
       "<div>\n",
       "<style scoped>\n",
       "    .dataframe tbody tr th:only-of-type {\n",
       "        vertical-align: middle;\n",
       "    }\n",
       "\n",
       "    .dataframe tbody tr th {\n",
       "        vertical-align: top;\n",
       "    }\n",
       "\n",
       "    .dataframe thead th {\n",
       "        text-align: right;\n",
       "    }\n",
       "</style>\n",
       "<table border=\"1\" class=\"dataframe\">\n",
       "  <thead>\n",
       "    <tr style=\"text-align: right;\">\n",
       "      <th></th>\n",
       "      <th>country_name</th>\n",
       "      <th>country_code</th>\n",
       "      <th>indicator_name</th>\n",
       "      <th>indicator_code</th>\n",
       "      <th>1960</th>\n",
       "      <th>1961</th>\n",
       "      <th>1962</th>\n",
       "      <th>1963</th>\n",
       "      <th>1964</th>\n",
       "      <th>1965</th>\n",
       "      <th>...</th>\n",
       "      <th>2012</th>\n",
       "      <th>2013</th>\n",
       "      <th>2014</th>\n",
       "      <th>2015</th>\n",
       "      <th>2016</th>\n",
       "      <th>2017</th>\n",
       "      <th>2018</th>\n",
       "      <th>2019</th>\n",
       "      <th>2020</th>\n",
       "      <th>Unnamed: 65</th>\n",
       "    </tr>\n",
       "  </thead>\n",
       "  <tbody>\n",
       "    <tr>\n",
       "      <th>49</th>\n",
       "      <td>Africa Eastern and Southern</td>\n",
       "      <td>AFE</td>\n",
       "      <td>Adolescents out of school (% of lower secondar...</td>\n",
       "      <td>SE.SEC.UNER.LO.ZS</td>\n",
       "      <td>NaN</td>\n",
       "      <td>NaN</td>\n",
       "      <td>NaN</td>\n",
       "      <td>NaN</td>\n",
       "      <td>NaN</td>\n",
       "      <td>NaN</td>\n",
       "      <td>...</td>\n",
       "      <td>NaN</td>\n",
       "      <td>NaN</td>\n",
       "      <td>NaN</td>\n",
       "      <td>NaN</td>\n",
       "      <td>NaN</td>\n",
       "      <td>NaN</td>\n",
       "      <td>NaN</td>\n",
       "      <td>NaN</td>\n",
       "      <td>NaN</td>\n",
       "      <td>NaN</td>\n",
       "    </tr>\n",
       "    <tr>\n",
       "      <th>466</th>\n",
       "      <td>Africa Eastern and Southern</td>\n",
       "      <td>AFE</td>\n",
       "      <td>GDP (current US$)</td>\n",
       "      <td>NY.GDP.MKTP.CD</td>\n",
       "      <td>1.929193e+10</td>\n",
       "      <td>1.970186e+10</td>\n",
       "      <td>2.147035e+10</td>\n",
       "      <td>2.570500e+10</td>\n",
       "      <td>2.350165e+10</td>\n",
       "      <td>2.678117e+10</td>\n",
       "      <td>...</td>\n",
       "      <td>9.131974e+11</td>\n",
       "      <td>9.276555e+11</td>\n",
       "      <td>9.563187e+11</td>\n",
       "      <td>8.930997e+11</td>\n",
       "      <td>8.547519e+11</td>\n",
       "      <td>9.622690e+11</td>\n",
       "      <td>9.840320e+11</td>\n",
       "      <td>9.778092e+11</td>\n",
       "      <td>8.984741e+11</td>\n",
       "      <td>NaN</td>\n",
       "    </tr>\n",
       "    <tr>\n",
       "      <th>696</th>\n",
       "      <td>Africa Eastern and Southern</td>\n",
       "      <td>AFE</td>\n",
       "      <td>Life expectancy at birth, total (years)</td>\n",
       "      <td>SP.DYN.LE00.IN</td>\n",
       "      <td>4.271605e+01</td>\n",
       "      <td>4.316694e+01</td>\n",
       "      <td>4.360399e+01</td>\n",
       "      <td>4.402562e+01</td>\n",
       "      <td>4.443272e+01</td>\n",
       "      <td>4.482692e+01</td>\n",
       "      <td>...</td>\n",
       "      <td>6.018556e+01</td>\n",
       "      <td>6.095336e+01</td>\n",
       "      <td>6.164737e+01</td>\n",
       "      <td>6.225929e+01</td>\n",
       "      <td>6.278768e+01</td>\n",
       "      <td>6.324626e+01</td>\n",
       "      <td>6.364899e+01</td>\n",
       "      <td>6.400520e+01</td>\n",
       "      <td>NaN</td>\n",
       "      <td>NaN</td>\n",
       "    </tr>\n",
       "    <tr>\n",
       "      <th>788</th>\n",
       "      <td>Africa Eastern and Southern</td>\n",
       "      <td>AFE</td>\n",
       "      <td>Mortality rate attributed to unsafe water, uns...</td>\n",
       "      <td>SH.STA.WASH.P5</td>\n",
       "      <td>NaN</td>\n",
       "      <td>NaN</td>\n",
       "      <td>NaN</td>\n",
       "      <td>NaN</td>\n",
       "      <td>NaN</td>\n",
       "      <td>NaN</td>\n",
       "      <td>...</td>\n",
       "      <td>NaN</td>\n",
       "      <td>NaN</td>\n",
       "      <td>NaN</td>\n",
       "      <td>NaN</td>\n",
       "      <td>3.941944e+01</td>\n",
       "      <td>NaN</td>\n",
       "      <td>NaN</td>\n",
       "      <td>NaN</td>\n",
       "      <td>NaN</td>\n",
       "      <td>NaN</td>\n",
       "    </tr>\n",
       "    <tr>\n",
       "      <th>959</th>\n",
       "      <td>Africa Eastern and Southern</td>\n",
       "      <td>AFE</td>\n",
       "      <td>People using at least basic drinking water ser...</td>\n",
       "      <td>SH.H2O.BASW.ZS</td>\n",
       "      <td>NaN</td>\n",
       "      <td>NaN</td>\n",
       "      <td>NaN</td>\n",
       "      <td>NaN</td>\n",
       "      <td>NaN</td>\n",
       "      <td>NaN</td>\n",
       "      <td>...</td>\n",
       "      <td>5.152585e+01</td>\n",
       "      <td>5.245538e+01</td>\n",
       "      <td>5.338135e+01</td>\n",
       "      <td>5.430405e+01</td>\n",
       "      <td>5.521221e+01</td>\n",
       "      <td>5.602001e+01</td>\n",
       "      <td>NaN</td>\n",
       "      <td>NaN</td>\n",
       "      <td>NaN</td>\n",
       "      <td>NaN</td>\n",
       "    </tr>\n",
       "    <tr>\n",
       "      <th>...</th>\n",
       "      <td>...</td>\n",
       "      <td>...</td>\n",
       "      <td>...</td>\n",
       "      <td>...</td>\n",
       "      <td>...</td>\n",
       "      <td>...</td>\n",
       "      <td>...</td>\n",
       "      <td>...</td>\n",
       "      <td>...</td>\n",
       "      <td>...</td>\n",
       "      <td>...</td>\n",
       "      <td>...</td>\n",
       "      <td>...</td>\n",
       "      <td>...</td>\n",
       "      <td>...</td>\n",
       "      <td>...</td>\n",
       "      <td>...</td>\n",
       "      <td>...</td>\n",
       "      <td>...</td>\n",
       "      <td>...</td>\n",
       "      <td>...</td>\n",
       "    </tr>\n",
       "    <tr>\n",
       "      <th>382861</th>\n",
       "      <td>Zimbabwe</td>\n",
       "      <td>ZWE</td>\n",
       "      <td>GDP (current US$)</td>\n",
       "      <td>NY.GDP.MKTP.CD</td>\n",
       "      <td>1.052990e+09</td>\n",
       "      <td>1.096647e+09</td>\n",
       "      <td>1.117602e+09</td>\n",
       "      <td>1.159512e+09</td>\n",
       "      <td>1.217138e+09</td>\n",
       "      <td>1.311436e+09</td>\n",
       "      <td>...</td>\n",
       "      <td>1.711485e+10</td>\n",
       "      <td>1.909102e+10</td>\n",
       "      <td>1.949552e+10</td>\n",
       "      <td>1.996312e+10</td>\n",
       "      <td>2.054868e+10</td>\n",
       "      <td>1.901533e+10</td>\n",
       "      <td>1.952362e+10</td>\n",
       "      <td>1.693243e+10</td>\n",
       "      <td>1.676851e+10</td>\n",
       "      <td>NaN</td>\n",
       "    </tr>\n",
       "    <tr>\n",
       "      <th>383091</th>\n",
       "      <td>Zimbabwe</td>\n",
       "      <td>ZWE</td>\n",
       "      <td>Life expectancy at birth, total (years)</td>\n",
       "      <td>SP.DYN.LE00.IN</td>\n",
       "      <td>5.301900e+01</td>\n",
       "      <td>5.348300e+01</td>\n",
       "      <td>5.394600e+01</td>\n",
       "      <td>5.440300e+01</td>\n",
       "      <td>5.484900e+01</td>\n",
       "      <td>5.527400e+01</td>\n",
       "      <td>...</td>\n",
       "      <td>5.503200e+01</td>\n",
       "      <td>5.689700e+01</td>\n",
       "      <td>5.841000e+01</td>\n",
       "      <td>5.953400e+01</td>\n",
       "      <td>6.029400e+01</td>\n",
       "      <td>6.081200e+01</td>\n",
       "      <td>6.119500e+01</td>\n",
       "      <td>6.149000e+01</td>\n",
       "      <td>NaN</td>\n",
       "      <td>NaN</td>\n",
       "    </tr>\n",
       "    <tr>\n",
       "      <th>383183</th>\n",
       "      <td>Zimbabwe</td>\n",
       "      <td>ZWE</td>\n",
       "      <td>Mortality rate attributed to unsafe water, uns...</td>\n",
       "      <td>SH.STA.WASH.P5</td>\n",
       "      <td>NaN</td>\n",
       "      <td>NaN</td>\n",
       "      <td>NaN</td>\n",
       "      <td>NaN</td>\n",
       "      <td>NaN</td>\n",
       "      <td>NaN</td>\n",
       "      <td>...</td>\n",
       "      <td>NaN</td>\n",
       "      <td>NaN</td>\n",
       "      <td>NaN</td>\n",
       "      <td>NaN</td>\n",
       "      <td>2.460000e+01</td>\n",
       "      <td>NaN</td>\n",
       "      <td>NaN</td>\n",
       "      <td>NaN</td>\n",
       "      <td>NaN</td>\n",
       "      <td>NaN</td>\n",
       "    </tr>\n",
       "    <tr>\n",
       "      <th>383354</th>\n",
       "      <td>Zimbabwe</td>\n",
       "      <td>ZWE</td>\n",
       "      <td>People using at least basic drinking water ser...</td>\n",
       "      <td>SH.H2O.BASW.ZS</td>\n",
       "      <td>NaN</td>\n",
       "      <td>NaN</td>\n",
       "      <td>NaN</td>\n",
       "      <td>NaN</td>\n",
       "      <td>NaN</td>\n",
       "      <td>NaN</td>\n",
       "      <td>...</td>\n",
       "      <td>6.648726e+01</td>\n",
       "      <td>6.597417e+01</td>\n",
       "      <td>6.547338e+01</td>\n",
       "      <td>6.498583e+01</td>\n",
       "      <td>6.451162e+01</td>\n",
       "      <td>6.405123e+01</td>\n",
       "      <td>NaN</td>\n",
       "      <td>NaN</td>\n",
       "      <td>NaN</td>\n",
       "      <td>NaN</td>\n",
       "    </tr>\n",
       "    <tr>\n",
       "      <th>383583</th>\n",
       "      <td>Zimbabwe</td>\n",
       "      <td>ZWE</td>\n",
       "      <td>Rural land area (sq. km)</td>\n",
       "      <td>AG.LND.TOTL.RU.K2</td>\n",
       "      <td>NaN</td>\n",
       "      <td>NaN</td>\n",
       "      <td>NaN</td>\n",
       "      <td>NaN</td>\n",
       "      <td>NaN</td>\n",
       "      <td>NaN</td>\n",
       "      <td>...</td>\n",
       "      <td>NaN</td>\n",
       "      <td>NaN</td>\n",
       "      <td>NaN</td>\n",
       "      <td>NaN</td>\n",
       "      <td>NaN</td>\n",
       "      <td>NaN</td>\n",
       "      <td>NaN</td>\n",
       "      <td>NaN</td>\n",
       "      <td>NaN</td>\n",
       "      <td>NaN</td>\n",
       "    </tr>\n",
       "  </tbody>\n",
       "</table>\n",
       "<p>1596 rows × 66 columns</p>\n",
       "</div>"
      ],
      "text/plain": [
       "                       country_name country_code  \\\n",
       "49      Africa Eastern and Southern          AFE   \n",
       "466     Africa Eastern and Southern          AFE   \n",
       "696     Africa Eastern and Southern          AFE   \n",
       "788     Africa Eastern and Southern          AFE   \n",
       "959     Africa Eastern and Southern          AFE   \n",
       "...                             ...          ...   \n",
       "382861                     Zimbabwe          ZWE   \n",
       "383091                     Zimbabwe          ZWE   \n",
       "383183                     Zimbabwe          ZWE   \n",
       "383354                     Zimbabwe          ZWE   \n",
       "383583                     Zimbabwe          ZWE   \n",
       "\n",
       "                                           indicator_name     indicator_code  \\\n",
       "49      Adolescents out of school (% of lower secondar...  SE.SEC.UNER.LO.ZS   \n",
       "466                                     GDP (current US$)     NY.GDP.MKTP.CD   \n",
       "696               Life expectancy at birth, total (years)     SP.DYN.LE00.IN   \n",
       "788     Mortality rate attributed to unsafe water, uns...     SH.STA.WASH.P5   \n",
       "959     People using at least basic drinking water ser...     SH.H2O.BASW.ZS   \n",
       "...                                                   ...                ...   \n",
       "382861                                  GDP (current US$)     NY.GDP.MKTP.CD   \n",
       "383091            Life expectancy at birth, total (years)     SP.DYN.LE00.IN   \n",
       "383183  Mortality rate attributed to unsafe water, uns...     SH.STA.WASH.P5   \n",
       "383354  People using at least basic drinking water ser...     SH.H2O.BASW.ZS   \n",
       "383583                           Rural land area (sq. km)  AG.LND.TOTL.RU.K2   \n",
       "\n",
       "                1960          1961          1962          1963          1964  \\\n",
       "49               NaN           NaN           NaN           NaN           NaN   \n",
       "466     1.929193e+10  1.970186e+10  2.147035e+10  2.570500e+10  2.350165e+10   \n",
       "696     4.271605e+01  4.316694e+01  4.360399e+01  4.402562e+01  4.443272e+01   \n",
       "788              NaN           NaN           NaN           NaN           NaN   \n",
       "959              NaN           NaN           NaN           NaN           NaN   \n",
       "...              ...           ...           ...           ...           ...   \n",
       "382861  1.052990e+09  1.096647e+09  1.117602e+09  1.159512e+09  1.217138e+09   \n",
       "383091  5.301900e+01  5.348300e+01  5.394600e+01  5.440300e+01  5.484900e+01   \n",
       "383183           NaN           NaN           NaN           NaN           NaN   \n",
       "383354           NaN           NaN           NaN           NaN           NaN   \n",
       "383583           NaN           NaN           NaN           NaN           NaN   \n",
       "\n",
       "                1965  ...          2012          2013          2014  \\\n",
       "49               NaN  ...           NaN           NaN           NaN   \n",
       "466     2.678117e+10  ...  9.131974e+11  9.276555e+11  9.563187e+11   \n",
       "696     4.482692e+01  ...  6.018556e+01  6.095336e+01  6.164737e+01   \n",
       "788              NaN  ...           NaN           NaN           NaN   \n",
       "959              NaN  ...  5.152585e+01  5.245538e+01  5.338135e+01   \n",
       "...              ...  ...           ...           ...           ...   \n",
       "382861  1.311436e+09  ...  1.711485e+10  1.909102e+10  1.949552e+10   \n",
       "383091  5.527400e+01  ...  5.503200e+01  5.689700e+01  5.841000e+01   \n",
       "383183           NaN  ...           NaN           NaN           NaN   \n",
       "383354           NaN  ...  6.648726e+01  6.597417e+01  6.547338e+01   \n",
       "383583           NaN  ...           NaN           NaN           NaN   \n",
       "\n",
       "                2015          2016          2017          2018          2019  \\\n",
       "49               NaN           NaN           NaN           NaN           NaN   \n",
       "466     8.930997e+11  8.547519e+11  9.622690e+11  9.840320e+11  9.778092e+11   \n",
       "696     6.225929e+01  6.278768e+01  6.324626e+01  6.364899e+01  6.400520e+01   \n",
       "788              NaN  3.941944e+01           NaN           NaN           NaN   \n",
       "959     5.430405e+01  5.521221e+01  5.602001e+01           NaN           NaN   \n",
       "...              ...           ...           ...           ...           ...   \n",
       "382861  1.996312e+10  2.054868e+10  1.901533e+10  1.952362e+10  1.693243e+10   \n",
       "383091  5.953400e+01  6.029400e+01  6.081200e+01  6.119500e+01  6.149000e+01   \n",
       "383183           NaN  2.460000e+01           NaN           NaN           NaN   \n",
       "383354  6.498583e+01  6.451162e+01  6.405123e+01           NaN           NaN   \n",
       "383583           NaN           NaN           NaN           NaN           NaN   \n",
       "\n",
       "                2020  Unnamed: 65  \n",
       "49               NaN          NaN  \n",
       "466     8.984741e+11          NaN  \n",
       "696              NaN          NaN  \n",
       "788              NaN          NaN  \n",
       "959              NaN          NaN  \n",
       "...              ...          ...  \n",
       "382861  1.676851e+10          NaN  \n",
       "383091           NaN          NaN  \n",
       "383183           NaN          NaN  \n",
       "383354           NaN          NaN  \n",
       "383583           NaN          NaN  \n",
       "\n",
       "[1596 rows x 66 columns]"
      ]
     },
     "execution_count": 25,
     "metadata": {},
     "output_type": "execute_result"
    }
   ],
   "source": [
    "#subset the data by creating a new dataframe only with my variables\n",
    "\n",
    "subset=df.loc[df.indicator_code.isin(variables)]\n",
    "subset"
   ]
  },
  {
   "cell_type": "code",
   "execution_count": 26,
   "metadata": {},
   "outputs": [
    {
     "data": {
      "text/plain": [
       "[0, 1, 2, 3, 60]"
      ]
     },
     "execution_count": 26,
     "metadata": {},
     "output_type": "execute_result"
    }
   ],
   "source": [
    "#to find the index no of relevant columns and store them in a variable\n",
    "\n",
    "col_name =[\"country_name\", \"country_code\", \"indicator_name\", \"indicator_code\", \"2016\"]\n",
    "colindex_no=[]\n",
    "for name in col_name:\n",
    "    colindex_no = colindex_no +[df.columns.get_loc(name)]\n",
    "colindex_no"
   ]
  },
  {
   "cell_type": "code",
   "execution_count": 27,
   "metadata": {
    "scrolled": true
   },
   "outputs": [
    {
     "data": {
      "text/html": [
       "<div>\n",
       "<style scoped>\n",
       "    .dataframe tbody tr th:only-of-type {\n",
       "        vertical-align: middle;\n",
       "    }\n",
       "\n",
       "    .dataframe tbody tr th {\n",
       "        vertical-align: top;\n",
       "    }\n",
       "\n",
       "    .dataframe thead th {\n",
       "        text-align: right;\n",
       "    }\n",
       "</style>\n",
       "<table border=\"1\" class=\"dataframe\">\n",
       "  <thead>\n",
       "    <tr style=\"text-align: right;\">\n",
       "      <th></th>\n",
       "      <th>country_name</th>\n",
       "      <th>country_code</th>\n",
       "      <th>indicator_name</th>\n",
       "      <th>indicator_code</th>\n",
       "      <th>2016</th>\n",
       "    </tr>\n",
       "  </thead>\n",
       "  <tbody>\n",
       "    <tr>\n",
       "      <th>49</th>\n",
       "      <td>Africa Eastern and Southern</td>\n",
       "      <td>AFE</td>\n",
       "      <td>Adolescents out of school (% of lower secondar...</td>\n",
       "      <td>SE.SEC.UNER.LO.ZS</td>\n",
       "      <td>NaN</td>\n",
       "    </tr>\n",
       "    <tr>\n",
       "      <th>466</th>\n",
       "      <td>Africa Eastern and Southern</td>\n",
       "      <td>AFE</td>\n",
       "      <td>GDP (current US$)</td>\n",
       "      <td>NY.GDP.MKTP.CD</td>\n",
       "      <td>8.547519e+11</td>\n",
       "    </tr>\n",
       "    <tr>\n",
       "      <th>696</th>\n",
       "      <td>Africa Eastern and Southern</td>\n",
       "      <td>AFE</td>\n",
       "      <td>Life expectancy at birth, total (years)</td>\n",
       "      <td>SP.DYN.LE00.IN</td>\n",
       "      <td>6.278768e+01</td>\n",
       "    </tr>\n",
       "    <tr>\n",
       "      <th>788</th>\n",
       "      <td>Africa Eastern and Southern</td>\n",
       "      <td>AFE</td>\n",
       "      <td>Mortality rate attributed to unsafe water, uns...</td>\n",
       "      <td>SH.STA.WASH.P5</td>\n",
       "      <td>3.941944e+01</td>\n",
       "    </tr>\n",
       "    <tr>\n",
       "      <th>959</th>\n",
       "      <td>Africa Eastern and Southern</td>\n",
       "      <td>AFE</td>\n",
       "      <td>People using at least basic drinking water ser...</td>\n",
       "      <td>SH.H2O.BASW.ZS</td>\n",
       "      <td>5.521221e+01</td>\n",
       "    </tr>\n",
       "  </tbody>\n",
       "</table>\n",
       "</div>"
      ],
      "text/plain": [
       "                    country_name country_code  \\\n",
       "49   Africa Eastern and Southern          AFE   \n",
       "466  Africa Eastern and Southern          AFE   \n",
       "696  Africa Eastern and Southern          AFE   \n",
       "788  Africa Eastern and Southern          AFE   \n",
       "959  Africa Eastern and Southern          AFE   \n",
       "\n",
       "                                        indicator_name     indicator_code  \\\n",
       "49   Adolescents out of school (% of lower secondar...  SE.SEC.UNER.LO.ZS   \n",
       "466                                  GDP (current US$)     NY.GDP.MKTP.CD   \n",
       "696            Life expectancy at birth, total (years)     SP.DYN.LE00.IN   \n",
       "788  Mortality rate attributed to unsafe water, uns...     SH.STA.WASH.P5   \n",
       "959  People using at least basic drinking water ser...     SH.H2O.BASW.ZS   \n",
       "\n",
       "             2016  \n",
       "49            NaN  \n",
       "466  8.547519e+11  \n",
       "696  6.278768e+01  \n",
       "788  3.941944e+01  \n",
       "959  5.521221e+01  "
      ]
     },
     "execution_count": 27,
     "metadata": {},
     "output_type": "execute_result"
    }
   ],
   "source": [
    "subset_2016=subset[col_name]\n",
    "subset_2016.head()"
   ]
  },
  {
   "cell_type": "code",
   "execution_count": 28,
   "metadata": {},
   "outputs": [
    {
     "data": {
      "text/plain": [
       "(1596, 5)"
      ]
     },
     "execution_count": 28,
     "metadata": {},
     "output_type": "execute_result"
    }
   ],
   "source": [
    "subset_2016.shape"
   ]
  },
  {
   "cell_type": "code",
   "execution_count": 29,
   "metadata": {},
   "outputs": [
    {
     "name": "stdout",
     "output_type": "stream",
     "text": [
      "<class 'pandas.core.frame.DataFrame'>\n",
      "Int64Index: 1596 entries, 49 to 383583\n",
      "Data columns (total 5 columns):\n",
      " #   Column          Non-Null Count  Dtype  \n",
      "---  ------          --------------  -----  \n",
      " 0   country_name    1596 non-null   object \n",
      " 1   country_code    1596 non-null   object \n",
      " 2   indicator_name  1596 non-null   object \n",
      " 3   indicator_code  1596 non-null   object \n",
      " 4   2016            1143 non-null   float64\n",
      "dtypes: float64(1), object(4)\n",
      "memory usage: 74.8+ KB\n"
     ]
    }
   ],
   "source": [
    "subset_2016.info()"
   ]
  },
  {
   "cell_type": "code",
   "execution_count": 30,
   "metadata": {},
   "outputs": [
    {
     "data": {
      "text/html": [
       "<div>\n",
       "<style scoped>\n",
       "    .dataframe tbody tr th:only-of-type {\n",
       "        vertical-align: middle;\n",
       "    }\n",
       "\n",
       "    .dataframe tbody tr th {\n",
       "        vertical-align: top;\n",
       "    }\n",
       "\n",
       "    .dataframe thead th {\n",
       "        text-align: right;\n",
       "    }\n",
       "</style>\n",
       "<table border=\"1\" class=\"dataframe\">\n",
       "  <thead>\n",
       "    <tr style=\"text-align: right;\">\n",
       "      <th></th>\n",
       "      <th>2016</th>\n",
       "    </tr>\n",
       "  </thead>\n",
       "  <tbody>\n",
       "    <tr>\n",
       "      <th>count</th>\n",
       "      <td>1.143000e+03</td>\n",
       "    </tr>\n",
       "    <tr>\n",
       "      <th>mean</th>\n",
       "      <td>5.490334e+11</td>\n",
       "    </tr>\n",
       "    <tr>\n",
       "      <th>std</th>\n",
       "      <td>4.063797e+12</td>\n",
       "    </tr>\n",
       "    <tr>\n",
       "      <th>min</th>\n",
       "      <td>5.647000e-02</td>\n",
       "    </tr>\n",
       "    <tr>\n",
       "      <th>25%</th>\n",
       "      <td>1.752264e+01</td>\n",
       "    </tr>\n",
       "    <tr>\n",
       "      <th>50%</th>\n",
       "      <td>7.475561e+01</td>\n",
       "    </tr>\n",
       "    <tr>\n",
       "      <th>75%</th>\n",
       "      <td>1.000000e+02</td>\n",
       "    </tr>\n",
       "    <tr>\n",
       "      <th>max</th>\n",
       "      <td>7.641725e+13</td>\n",
       "    </tr>\n",
       "  </tbody>\n",
       "</table>\n",
       "</div>"
      ],
      "text/plain": [
       "               2016\n",
       "count  1.143000e+03\n",
       "mean   5.490334e+11\n",
       "std    4.063797e+12\n",
       "min    5.647000e-02\n",
       "25%    1.752264e+01\n",
       "50%    7.475561e+01\n",
       "75%    1.000000e+02\n",
       "max    7.641725e+13"
      ]
     },
     "execution_count": 30,
     "metadata": {},
     "output_type": "execute_result"
    }
   ],
   "source": [
    "subset_2016.describe()"
   ]
  },
  {
   "cell_type": "code",
   "execution_count": 31,
   "metadata": {},
   "outputs": [
    {
     "data": {
      "text/plain": [
       "array(['Africa Eastern and Southern', 'Africa Western and Central',\n",
       "       'Arab World', 'Caribbean small states',\n",
       "       'Central Europe and the Baltics', 'Early-demographic dividend',\n",
       "       'East Asia & Pacific',\n",
       "       'East Asia & Pacific (excluding high income)',\n",
       "       'East Asia & Pacific (IDA & IBRD countries)', 'Euro area',\n",
       "       'Europe & Central Asia',\n",
       "       'Europe & Central Asia (excluding high income)',\n",
       "       'Europe & Central Asia (IDA & IBRD countries)', 'European Union',\n",
       "       'Fragile and conflict affected situations',\n",
       "       'Heavily indebted poor countries (HIPC)', 'High income',\n",
       "       'IBRD only', 'IDA & IBRD total', 'IDA blend', 'IDA only',\n",
       "       'IDA total', 'Late-demographic dividend',\n",
       "       'Latin America & Caribbean',\n",
       "       'Latin America & Caribbean (excluding high income)',\n",
       "       'Latin America & the Caribbean (IDA & IBRD countries)',\n",
       "       'Least developed countries: UN classification',\n",
       "       'Low & middle income', 'Low income', 'Lower middle income',\n",
       "       'Middle East & North Africa',\n",
       "       'Middle East & North Africa (excluding high income)',\n",
       "       'Middle East & North Africa (IDA & IBRD countries)',\n",
       "       'Middle income', 'North America', 'Not classified', 'OECD members',\n",
       "       'Other small states', 'Pacific island small states',\n",
       "       'Post-demographic dividend', 'Pre-demographic dividend',\n",
       "       'Small states', 'South Asia', 'South Asia (IDA & IBRD)',\n",
       "       'Sub-Saharan Africa', 'Sub-Saharan Africa (excluding high income)',\n",
       "       'Sub-Saharan Africa (IDA & IBRD countries)', 'Upper middle income',\n",
       "       'World', 'Afghanistan', 'Albania', 'Algeria', 'American Samoa',\n",
       "       'Andorra', 'Angola', 'Antigua and Barbuda', 'Argentina', 'Armenia',\n",
       "       'Aruba', 'Australia', 'Austria', 'Azerbaijan', 'Bahamas, The',\n",
       "       'Bahrain', 'Bangladesh', 'Barbados', 'Belarus', 'Belgium',\n",
       "       'Belize', 'Benin', 'Bermuda', 'Bhutan', 'Bolivia',\n",
       "       'Bosnia and Herzegovina', 'Botswana', 'Brazil',\n",
       "       'British Virgin Islands', 'Brunei Darussalam', 'Bulgaria',\n",
       "       'Burkina Faso', 'Burundi', 'Cabo Verde', 'Cambodia', 'Cameroon',\n",
       "       'Canada', 'Cayman Islands', 'Central African Republic', 'Chad',\n",
       "       'Channel Islands', 'Chile', 'China', 'Colombia', 'Comoros',\n",
       "       'Congo, Dem. Rep.', 'Congo, Rep.', 'Costa Rica', \"Cote d'Ivoire\",\n",
       "       'Croatia', 'Cuba', 'Curacao', 'Cyprus', 'Czech Republic',\n",
       "       'Denmark', 'Djibouti', 'Dominica', 'Dominican Republic', 'Ecuador',\n",
       "       'Egypt, Arab Rep.', 'El Salvador', 'Equatorial Guinea', 'Eritrea',\n",
       "       'Estonia', 'Eswatini', 'Ethiopia', 'Faroe Islands', 'Fiji',\n",
       "       'Finland', 'France', 'French Polynesia', 'Gabon', 'Gambia, The',\n",
       "       'Georgia', 'Germany', 'Ghana', 'Gibraltar', 'Greece', 'Greenland',\n",
       "       'Grenada', 'Guam', 'Guatemala', 'Guinea', 'Guinea-Bissau',\n",
       "       'Guyana', 'Haiti', 'Honduras', 'Hong Kong SAR, China', 'Hungary',\n",
       "       'Iceland', 'India', 'Indonesia', 'Iran, Islamic Rep.', 'Iraq',\n",
       "       'Ireland', 'Isle of Man', 'Israel', 'Italy', 'Jamaica', 'Japan',\n",
       "       'Jordan', 'Kazakhstan', 'Kenya', 'Kiribati',\n",
       "       \"Korea, Dem. People's Rep.\", 'Korea, Rep.', 'Kosovo', 'Kuwait',\n",
       "       'Kyrgyz Republic', 'Lao PDR', 'Latvia', 'Lebanon', 'Lesotho',\n",
       "       'Liberia', 'Libya', 'Liechtenstein', 'Lithuania', 'Luxembourg',\n",
       "       'Macao SAR, China', 'Madagascar', 'Malawi', 'Malaysia', 'Maldives',\n",
       "       'Mali', 'Malta', 'Marshall Islands', 'Mauritania', 'Mauritius',\n",
       "       'Mexico', 'Micronesia, Fed. Sts.', 'Moldova', 'Monaco', 'Mongolia',\n",
       "       'Montenegro', 'Morocco', 'Mozambique', 'Myanmar', 'Namibia',\n",
       "       'Nauru', 'Nepal', 'Netherlands', 'New Caledonia', 'New Zealand',\n",
       "       'Nicaragua', 'Niger', 'Nigeria', 'North Macedonia',\n",
       "       'Northern Mariana Islands', 'Norway', 'Oman', 'Pakistan', 'Palau',\n",
       "       'Panama', 'Papua New Guinea', 'Paraguay', 'Peru', 'Philippines',\n",
       "       'Poland', 'Portugal', 'Puerto Rico', 'Qatar', 'Romania',\n",
       "       'Russian Federation', 'Rwanda', 'Samoa', 'San Marino',\n",
       "       'Sao Tome and Principe', 'Saudi Arabia', 'Senegal', 'Serbia',\n",
       "       'Seychelles', 'Sierra Leone', 'Singapore',\n",
       "       'Sint Maarten (Dutch part)', 'Slovak Republic', 'Slovenia',\n",
       "       'Solomon Islands', 'Somalia', 'South Africa', 'South Sudan',\n",
       "       'Spain', 'Sri Lanka', 'St. Kitts and Nevis', 'St. Lucia',\n",
       "       'St. Martin (French part)', 'St. Vincent and the Grenadines',\n",
       "       'Sudan', 'Suriname', 'Sweden', 'Switzerland',\n",
       "       'Syrian Arab Republic', 'Tajikistan', 'Tanzania', 'Thailand',\n",
       "       'Timor-Leste', 'Togo', 'Tonga', 'Trinidad and Tobago', 'Tunisia',\n",
       "       'Turkey', 'Turkmenistan', 'Turks and Caicos Islands', 'Tuvalu',\n",
       "       'Uganda', 'Ukraine', 'United Arab Emirates', 'United Kingdom',\n",
       "       'United States', 'Uruguay', 'Uzbekistan', 'Vanuatu',\n",
       "       'Venezuela, RB', 'Vietnam', 'Virgin Islands (U.S.)',\n",
       "       'West Bank and Gaza', 'Yemen, Rep.', 'Zambia', 'Zimbabwe'],\n",
       "      dtype=object)"
      ]
     },
     "execution_count": 31,
     "metadata": {},
     "output_type": "execute_result"
    }
   ],
   "source": [
    "subset_2016.country_name.unique()"
   ]
  },
  {
   "cell_type": "markdown",
   "metadata": {},
   "source": [
    "<br/>\n",
    "\n",
    "***\n",
    "\n",
    "# ``Task 3: Manage Missing Data``"
   ]
  },
  {
   "cell_type": "markdown",
   "metadata": {},
   "source": [
    "To deal with the missing data, I mainly opted to:\n",
    "\n",
    "1. Dropping off cases (or rows) in the data with missing variables\n",
    "2. Excluding variables in the data with any missing data (and even excluding completely my first hypothesis)\n",
    "3. Selectively choosing indicators with only a limited amount of missing data\n"
   ]
  },
  {
   "cell_type": "markdown",
   "metadata": {},
   "source": [
    "After testing various years, I chose to go with 2016 for the year to subset the data, once it was for this one that all the indicators simultaneously appeared to have the least missing values."
   ]
  },
  {
   "cell_type": "markdown",
   "metadata": {},
   "source": [
    "Next, I tried to get a sense of how many missing values there are in the subseted dataframe for each column:"
   ]
  },
  {
   "cell_type": "code",
   "execution_count": 32,
   "metadata": {
    "scrolled": true
   },
   "outputs": [
    {
     "name": "stdout",
     "output_type": "stream",
     "text": [
      "0\n",
      "0\n",
      "0\n",
      "0\n",
      "453\n"
     ]
    }
   ],
   "source": [
    "print(np.sum([subset_2016.country_name.isnull()]))\n",
    "print(np.sum([subset_2016.country_code.isnull()]))\n",
    "print(np.sum([subset_2016.indicator_name.isnull()]))\n",
    "print(np.sum([subset_2016.indicator_code.isnull()]))\n",
    "print(np.sum([subset_2016.get(\"2016\").isnull()]))"
   ]
  },
  {
   "cell_type": "markdown",
   "metadata": {},
   "source": [
    "Afterwards, I attempted to located where the missing values occur and get their index:"
   ]
  },
  {
   "cell_type": "code",
   "execution_count": 33,
   "metadata": {
    "scrolled": false
   },
   "outputs": [
    {
     "data": {
      "text/html": [
       "<div>\n",
       "<style scoped>\n",
       "    .dataframe tbody tr th:only-of-type {\n",
       "        vertical-align: middle;\n",
       "    }\n",
       "\n",
       "    .dataframe tbody tr th {\n",
       "        vertical-align: top;\n",
       "    }\n",
       "\n",
       "    .dataframe thead th {\n",
       "        text-align: right;\n",
       "    }\n",
       "</style>\n",
       "<table border=\"1\" class=\"dataframe\">\n",
       "  <thead>\n",
       "    <tr style=\"text-align: right;\">\n",
       "      <th></th>\n",
       "      <th>country_name</th>\n",
       "      <th>country_code</th>\n",
       "      <th>indicator_name</th>\n",
       "      <th>indicator_code</th>\n",
       "      <th>2016</th>\n",
       "    </tr>\n",
       "  </thead>\n",
       "  <tbody>\n",
       "    <tr>\n",
       "      <th>49</th>\n",
       "      <td>Africa Eastern and Southern</td>\n",
       "      <td>AFE</td>\n",
       "      <td>Adolescents out of school (% of lower secondar...</td>\n",
       "      <td>SE.SEC.UNER.LO.ZS</td>\n",
       "      <td>NaN</td>\n",
       "    </tr>\n",
       "    <tr>\n",
       "      <th>1188</th>\n",
       "      <td>Africa Eastern and Southern</td>\n",
       "      <td>AFE</td>\n",
       "      <td>Rural land area (sq. km)</td>\n",
       "      <td>AG.LND.TOTL.RU.K2</td>\n",
       "      <td>NaN</td>\n",
       "    </tr>\n",
       "    <tr>\n",
       "      <th>1492</th>\n",
       "      <td>Africa Western and Central</td>\n",
       "      <td>AFW</td>\n",
       "      <td>Adolescents out of school (% of lower secondar...</td>\n",
       "      <td>SE.SEC.UNER.LO.ZS</td>\n",
       "      <td>NaN</td>\n",
       "    </tr>\n",
       "    <tr>\n",
       "      <th>2631</th>\n",
       "      <td>Africa Western and Central</td>\n",
       "      <td>AFW</td>\n",
       "      <td>Rural land area (sq. km)</td>\n",
       "      <td>AG.LND.TOTL.RU.K2</td>\n",
       "      <td>NaN</td>\n",
       "    </tr>\n",
       "    <tr>\n",
       "      <th>4074</th>\n",
       "      <td>Arab World</td>\n",
       "      <td>ARB</td>\n",
       "      <td>Rural land area (sq. km)</td>\n",
       "      <td>AG.LND.TOTL.RU.K2</td>\n",
       "      <td>NaN</td>\n",
       "    </tr>\n",
       "    <tr>\n",
       "      <th>...</th>\n",
       "      <td>...</td>\n",
       "      <td>...</td>\n",
       "      <td>...</td>\n",
       "      <td>...</td>\n",
       "      <td>...</td>\n",
       "    </tr>\n",
       "    <tr>\n",
       "      <th>380697</th>\n",
       "      <td>Yemen, Rep.</td>\n",
       "      <td>YEM</td>\n",
       "      <td>Rural land area (sq. km)</td>\n",
       "      <td>AG.LND.TOTL.RU.K2</td>\n",
       "      <td>NaN</td>\n",
       "    </tr>\n",
       "    <tr>\n",
       "      <th>381001</th>\n",
       "      <td>Zambia</td>\n",
       "      <td>ZMB</td>\n",
       "      <td>Adolescents out of school (% of lower secondar...</td>\n",
       "      <td>SE.SEC.UNER.LO.ZS</td>\n",
       "      <td>NaN</td>\n",
       "    </tr>\n",
       "    <tr>\n",
       "      <th>382140</th>\n",
       "      <td>Zambia</td>\n",
       "      <td>ZMB</td>\n",
       "      <td>Rural land area (sq. km)</td>\n",
       "      <td>AG.LND.TOTL.RU.K2</td>\n",
       "      <td>NaN</td>\n",
       "    </tr>\n",
       "    <tr>\n",
       "      <th>382444</th>\n",
       "      <td>Zimbabwe</td>\n",
       "      <td>ZWE</td>\n",
       "      <td>Adolescents out of school (% of lower secondar...</td>\n",
       "      <td>SE.SEC.UNER.LO.ZS</td>\n",
       "      <td>NaN</td>\n",
       "    </tr>\n",
       "    <tr>\n",
       "      <th>383583</th>\n",
       "      <td>Zimbabwe</td>\n",
       "      <td>ZWE</td>\n",
       "      <td>Rural land area (sq. km)</td>\n",
       "      <td>AG.LND.TOTL.RU.K2</td>\n",
       "      <td>NaN</td>\n",
       "    </tr>\n",
       "  </tbody>\n",
       "</table>\n",
       "<p>453 rows × 5 columns</p>\n",
       "</div>"
      ],
      "text/plain": [
       "                       country_name country_code  \\\n",
       "49      Africa Eastern and Southern          AFE   \n",
       "1188    Africa Eastern and Southern          AFE   \n",
       "1492     Africa Western and Central          AFW   \n",
       "2631     Africa Western and Central          AFW   \n",
       "4074                     Arab World          ARB   \n",
       "...                             ...          ...   \n",
       "380697                  Yemen, Rep.          YEM   \n",
       "381001                       Zambia          ZMB   \n",
       "382140                       Zambia          ZMB   \n",
       "382444                     Zimbabwe          ZWE   \n",
       "383583                     Zimbabwe          ZWE   \n",
       "\n",
       "                                           indicator_name     indicator_code  \\\n",
       "49      Adolescents out of school (% of lower secondar...  SE.SEC.UNER.LO.ZS   \n",
       "1188                             Rural land area (sq. km)  AG.LND.TOTL.RU.K2   \n",
       "1492    Adolescents out of school (% of lower secondar...  SE.SEC.UNER.LO.ZS   \n",
       "2631                             Rural land area (sq. km)  AG.LND.TOTL.RU.K2   \n",
       "4074                             Rural land area (sq. km)  AG.LND.TOTL.RU.K2   \n",
       "...                                                   ...                ...   \n",
       "380697                           Rural land area (sq. km)  AG.LND.TOTL.RU.K2   \n",
       "381001  Adolescents out of school (% of lower secondar...  SE.SEC.UNER.LO.ZS   \n",
       "382140                           Rural land area (sq. km)  AG.LND.TOTL.RU.K2   \n",
       "382444  Adolescents out of school (% of lower secondar...  SE.SEC.UNER.LO.ZS   \n",
       "383583                           Rural land area (sq. km)  AG.LND.TOTL.RU.K2   \n",
       "\n",
       "        2016  \n",
       "49       NaN  \n",
       "1188     NaN  \n",
       "1492     NaN  \n",
       "2631     NaN  \n",
       "4074     NaN  \n",
       "...      ...  \n",
       "380697   NaN  \n",
       "381001   NaN  \n",
       "382140   NaN  \n",
       "382444   NaN  \n",
       "383583   NaN  \n",
       "\n",
       "[453 rows x 5 columns]"
      ]
     },
     "execution_count": 33,
     "metadata": {},
     "output_type": "execute_result"
    }
   ],
   "source": [
    "missing_values=subset_2016[subset_2016.get('2016').isnull()]\n",
    "\n",
    "missing_values"
   ]
  },
  {
   "cell_type": "code",
   "execution_count": 34,
   "metadata": {},
   "outputs": [
    {
     "data": {
      "text/plain": [
       "Int64Index([    49,   1188,   1492,   2631,   4074,   5517,   6960,   8403,\n",
       "              9846,  11289,\n",
       "            ...\n",
       "            376672, 377411, 377811, 378854, 379254, 380697, 381001, 382140,\n",
       "            382444, 383583],\n",
       "           dtype='int64', length=453)"
      ]
     },
     "execution_count": 34,
     "metadata": {},
     "output_type": "execute_result"
    }
   ],
   "source": [
    "indexNaN = missing_values.index\n",
    "indexNaN"
   ]
  },
  {
   "cell_type": "code",
   "execution_count": 35,
   "metadata": {},
   "outputs": [
    {
     "data": {
      "text/plain": [
       "Rural land area (sq. km)                                                                                     266\n",
       "Adolescents out of school (% of lower secondary school age)                                                  118\n",
       "Mortality rate attributed to unsafe water, unsafe sanitation and lack of hygiene (per 100,000 population)     35\n",
       "Life expectancy at birth, total (years)                                                                       17\n",
       "GDP (current US$)                                                                                             12\n",
       "People using at least basic drinking water services (% of population)                                          5\n",
       "Name: indicator_name, dtype: int64"
      ]
     },
     "execution_count": 35,
     "metadata": {},
     "output_type": "execute_result"
    }
   ],
   "source": [
    "missing_values.indicator_name.value_counts()"
   ]
  },
  {
   "cell_type": "markdown",
   "metadata": {},
   "source": [
    "After counting the missing values for each indicator, I concluded that most of the NaN values occur for the indicators:\n",
    "\n",
    "* \"Rural land area (sq. km)\"\n",
    "* \"Adolescents out of school (% of lower secondary school age)\".\n",
    "\n",
    "That is why I chose to drop off those cases from the dataset. I did it by getting their indexes and aply the function `drop()`."
   ]
  },
  {
   "cell_type": "code",
   "execution_count": 36,
   "metadata": {},
   "outputs": [
    {
     "name": "stdout",
     "output_type": "stream",
     "text": [
      "[  1188   2631   4074   5517   6960   8403   9846  11289  12732  14175\n",
      "  15618  17061  18504  19947  21390  22833  24276  25719  27162  28605\n",
      "  30048  31491  32934  34377  35820  37263  38706  40149  41592  43035\n",
      "  44478  45921  47364  48807  50250  51693  53136  54579  56022  57465\n",
      "  58908  60351  61794  63237  64680  66123  67566  69009  70452  71895\n",
      "  73338  74781  76224  77667  79110  80553  81996  83439  84882  86325\n",
      "  87768  89211  90654  92097  93540  94983  96426  97869  99312 100755\n",
      " 102198 103641 105084 106527 107970 109413 110856 112299 113742 115185\n",
      " 116628 118071 119514 120957 122400 123843 125286 126729 128172 129615\n",
      " 131058 132501 133944 135387 136830 138273 139716 141159 142602 144045\n",
      " 145488 146931 148374 149817 151260 152703 154146 155589 157032 158475\n",
      " 159918 161361 162804 164247 165690 167133 168576 170019 171462 172905\n",
      " 174348 175791 177234 178677 180120 181563 183006 184449 185892 187335\n",
      " 188778 190221 191664 193107 194550 195993 197436 198879 200322 201765\n",
      " 203208 204651 206094 207537 208980 210423 211866 213309 214752 216195\n",
      " 217638 219081 220524 221967 223410 224853 226296 227739 229182 230625\n",
      " 232068 233511 234954 236397 237840 239283 240726 242169 243612 245055\n",
      " 246498 247941 249384 250827 252270 253713 255156 256599 258042 259485\n",
      " 260928 262371 263814 265257 266700 268143 269586 271029 272472 273915\n",
      " 275358 276801 278244 279687 281130 282573 284016 285459 286902 288345\n",
      " 289788 291231 292674 294117 295560 297003 298446 299889 301332 302775\n",
      " 304218 305661 307104 308547 309990 311433 312876 314319 315762 317205\n",
      " 318648 320091 321534 322977 324420 325863 327306 328749 330192 331635\n",
      " 333078 334521 335964 337407 338850 340293 341736 343179 344622 346065\n",
      " 347508 348951 350394 351837 353280 354723 356166 357609 359052 360495\n",
      " 361938 363381 364824 366267 367710 369153 370596 372039 373482 374925\n",
      " 376368 377811 379254 380697 382140 383583]\n"
     ]
    }
   ],
   "source": [
    "indexes_todrop1=missing_values[missing_values['indicator_name']=='Rural land area (sq. km)'].index.values\n",
    "print(indexes_todrop1)"
   ]
  },
  {
   "cell_type": "code",
   "execution_count": 37,
   "metadata": {},
   "outputs": [
    {
     "data": {
      "text/html": [
       "<div>\n",
       "<style scoped>\n",
       "    .dataframe tbody tr th:only-of-type {\n",
       "        vertical-align: middle;\n",
       "    }\n",
       "\n",
       "    .dataframe tbody tr th {\n",
       "        vertical-align: top;\n",
       "    }\n",
       "\n",
       "    .dataframe thead th {\n",
       "        text-align: right;\n",
       "    }\n",
       "</style>\n",
       "<table border=\"1\" class=\"dataframe\">\n",
       "  <thead>\n",
       "    <tr style=\"text-align: right;\">\n",
       "      <th></th>\n",
       "      <th>country_name</th>\n",
       "      <th>country_code</th>\n",
       "      <th>indicator_name</th>\n",
       "      <th>indicator_code</th>\n",
       "      <th>2016</th>\n",
       "    </tr>\n",
       "  </thead>\n",
       "  <tbody>\n",
       "    <tr>\n",
       "      <th>49</th>\n",
       "      <td>Africa Eastern and Southern</td>\n",
       "      <td>AFE</td>\n",
       "      <td>Adolescents out of school (% of lower secondar...</td>\n",
       "      <td>SE.SEC.UNER.LO.ZS</td>\n",
       "      <td>NaN</td>\n",
       "    </tr>\n",
       "    <tr>\n",
       "      <th>466</th>\n",
       "      <td>Africa Eastern and Southern</td>\n",
       "      <td>AFE</td>\n",
       "      <td>GDP (current US$)</td>\n",
       "      <td>NY.GDP.MKTP.CD</td>\n",
       "      <td>8.547519e+11</td>\n",
       "    </tr>\n",
       "    <tr>\n",
       "      <th>696</th>\n",
       "      <td>Africa Eastern and Southern</td>\n",
       "      <td>AFE</td>\n",
       "      <td>Life expectancy at birth, total (years)</td>\n",
       "      <td>SP.DYN.LE00.IN</td>\n",
       "      <td>6.278768e+01</td>\n",
       "    </tr>\n",
       "    <tr>\n",
       "      <th>788</th>\n",
       "      <td>Africa Eastern and Southern</td>\n",
       "      <td>AFE</td>\n",
       "      <td>Mortality rate attributed to unsafe water, uns...</td>\n",
       "      <td>SH.STA.WASH.P5</td>\n",
       "      <td>3.941944e+01</td>\n",
       "    </tr>\n",
       "    <tr>\n",
       "      <th>959</th>\n",
       "      <td>Africa Eastern and Southern</td>\n",
       "      <td>AFE</td>\n",
       "      <td>People using at least basic drinking water ser...</td>\n",
       "      <td>SH.H2O.BASW.ZS</td>\n",
       "      <td>5.521221e+01</td>\n",
       "    </tr>\n",
       "  </tbody>\n",
       "</table>\n",
       "</div>"
      ],
      "text/plain": [
       "                    country_name country_code  \\\n",
       "49   Africa Eastern and Southern          AFE   \n",
       "466  Africa Eastern and Southern          AFE   \n",
       "696  Africa Eastern and Southern          AFE   \n",
       "788  Africa Eastern and Southern          AFE   \n",
       "959  Africa Eastern and Southern          AFE   \n",
       "\n",
       "                                        indicator_name     indicator_code  \\\n",
       "49   Adolescents out of school (% of lower secondar...  SE.SEC.UNER.LO.ZS   \n",
       "466                                  GDP (current US$)     NY.GDP.MKTP.CD   \n",
       "696            Life expectancy at birth, total (years)     SP.DYN.LE00.IN   \n",
       "788  Mortality rate attributed to unsafe water, uns...     SH.STA.WASH.P5   \n",
       "959  People using at least basic drinking water ser...     SH.H2O.BASW.ZS   \n",
       "\n",
       "             2016  \n",
       "49            NaN  \n",
       "466  8.547519e+11  \n",
       "696  6.278768e+01  \n",
       "788  3.941944e+01  \n",
       "959  5.521221e+01  "
      ]
     },
     "execution_count": 37,
     "metadata": {},
     "output_type": "execute_result"
    }
   ],
   "source": [
    "clean_df=subset_2016.drop(indexes_todrop1)\n",
    "clean_df.head()"
   ]
  },
  {
   "cell_type": "code",
   "execution_count": 38,
   "metadata": {},
   "outputs": [
    {
     "name": "stdout",
     "output_type": "stream",
     "text": [
      "[    49   1492  30352  50554  54883  70756  73642  75085  76528  77971\n",
      "  79414  83743  92401  99616 101059 105388 106831 108274 111160 115489\n",
      " 118375 121261 122704 124147 127033 129919 132805 134248 135691 142906\n",
      " 148678 150121 157336 158779 161665 163108 164551 165994 170323 171766\n",
      " 173209 181867 183310 184753 187639 189082 190525 191968 199183 200626\n",
      " 203512 206398 207841 212170 213613 215056 216499 217942 219385 220828\n",
      " 222271 223714 229486 232372 233815 241030 245359 255460 258346 259789\n",
      " 262675 264118 265561 267004 272776 275662 278548 279991 281434 285763\n",
      " 287206 288649 291535 304522 305965 307408 308851 311737 314623 316066\n",
      " 318952 323281 324724 326167 327610 330496 331939 334825 337711 339154\n",
      " 340597 343483 344926 347812 350698 352141 353584 355027 357913 359356\n",
      " 362242 363685 366571 372343 375229 376672 381001 382444]\n"
     ]
    }
   ],
   "source": [
    "indexes_todrop2=missing_values[missing_values['indicator_name']=='Adolescents out of school (% of lower secondary school age)'].index.values\n",
    "print(indexes_todrop2)\n",
    "\n",
    "index_todrop2=[i for i in indexes_todrop2 if i not in indexes_todrop1] #to exclude the indexes that already have been droped"
   ]
  },
  {
   "cell_type": "code",
   "execution_count": 39,
   "metadata": {
    "scrolled": true
   },
   "outputs": [
    {
     "data": {
      "text/html": [
       "<div>\n",
       "<style scoped>\n",
       "    .dataframe tbody tr th:only-of-type {\n",
       "        vertical-align: middle;\n",
       "    }\n",
       "\n",
       "    .dataframe tbody tr th {\n",
       "        vertical-align: top;\n",
       "    }\n",
       "\n",
       "    .dataframe thead th {\n",
       "        text-align: right;\n",
       "    }\n",
       "</style>\n",
       "<table border=\"1\" class=\"dataframe\">\n",
       "  <thead>\n",
       "    <tr style=\"text-align: right;\">\n",
       "      <th></th>\n",
       "      <th>country_name</th>\n",
       "      <th>country_code</th>\n",
       "      <th>indicator_name</th>\n",
       "      <th>indicator_code</th>\n",
       "      <th>2016</th>\n",
       "    </tr>\n",
       "  </thead>\n",
       "  <tbody>\n",
       "    <tr>\n",
       "      <th>466</th>\n",
       "      <td>Africa Eastern and Southern</td>\n",
       "      <td>AFE</td>\n",
       "      <td>GDP (current US$)</td>\n",
       "      <td>NY.GDP.MKTP.CD</td>\n",
       "      <td>8.547519e+11</td>\n",
       "    </tr>\n",
       "    <tr>\n",
       "      <th>696</th>\n",
       "      <td>Africa Eastern and Southern</td>\n",
       "      <td>AFE</td>\n",
       "      <td>Life expectancy at birth, total (years)</td>\n",
       "      <td>SP.DYN.LE00.IN</td>\n",
       "      <td>6.278768e+01</td>\n",
       "    </tr>\n",
       "    <tr>\n",
       "      <th>788</th>\n",
       "      <td>Africa Eastern and Southern</td>\n",
       "      <td>AFE</td>\n",
       "      <td>Mortality rate attributed to unsafe water, uns...</td>\n",
       "      <td>SH.STA.WASH.P5</td>\n",
       "      <td>3.941944e+01</td>\n",
       "    </tr>\n",
       "    <tr>\n",
       "      <th>959</th>\n",
       "      <td>Africa Eastern and Southern</td>\n",
       "      <td>AFE</td>\n",
       "      <td>People using at least basic drinking water ser...</td>\n",
       "      <td>SH.H2O.BASW.ZS</td>\n",
       "      <td>5.521221e+01</td>\n",
       "    </tr>\n",
       "    <tr>\n",
       "      <th>1909</th>\n",
       "      <td>Africa Western and Central</td>\n",
       "      <td>AFW</td>\n",
       "      <td>GDP (current US$)</td>\n",
       "      <td>NY.GDP.MKTP.CD</td>\n",
       "      <td>6.874847e+11</td>\n",
       "    </tr>\n",
       "  </tbody>\n",
       "</table>\n",
       "</div>"
      ],
      "text/plain": [
       "                     country_name country_code  \\\n",
       "466   Africa Eastern and Southern          AFE   \n",
       "696   Africa Eastern and Southern          AFE   \n",
       "788   Africa Eastern and Southern          AFE   \n",
       "959   Africa Eastern and Southern          AFE   \n",
       "1909   Africa Western and Central          AFW   \n",
       "\n",
       "                                         indicator_name  indicator_code  \\\n",
       "466                                   GDP (current US$)  NY.GDP.MKTP.CD   \n",
       "696             Life expectancy at birth, total (years)  SP.DYN.LE00.IN   \n",
       "788   Mortality rate attributed to unsafe water, uns...  SH.STA.WASH.P5   \n",
       "959   People using at least basic drinking water ser...  SH.H2O.BASW.ZS   \n",
       "1909                                  GDP (current US$)  NY.GDP.MKTP.CD   \n",
       "\n",
       "              2016  \n",
       "466   8.547519e+11  \n",
       "696   6.278768e+01  \n",
       "788   3.941944e+01  \n",
       "959   5.521221e+01  \n",
       "1909  6.874847e+11  "
      ]
     },
     "execution_count": 39,
     "metadata": {},
     "output_type": "execute_result"
    }
   ],
   "source": [
    "clean_df2=clean_df.drop(index_todrop2)\n",
    "clean_df2.head()"
   ]
  },
  {
   "cell_type": "markdown",
   "metadata": {},
   "source": [
    "I also tried to get a sense of how many missing values remained for each country:"
   ]
  },
  {
   "cell_type": "code",
   "execution_count": 40,
   "metadata": {
    "scrolled": true
   },
   "outputs": [
    {
     "data": {
      "text/html": [
       "<div>\n",
       "<style scoped>\n",
       "    .dataframe tbody tr th:only-of-type {\n",
       "        vertical-align: middle;\n",
       "    }\n",
       "\n",
       "    .dataframe tbody tr th {\n",
       "        vertical-align: top;\n",
       "    }\n",
       "\n",
       "    .dataframe thead th {\n",
       "        text-align: right;\n",
       "    }\n",
       "</style>\n",
       "<table border=\"1\" class=\"dataframe\">\n",
       "  <thead>\n",
       "    <tr style=\"text-align: right;\">\n",
       "      <th></th>\n",
       "      <th>country_name</th>\n",
       "      <th>country_code</th>\n",
       "      <th>indicator_name</th>\n",
       "      <th>indicator_code</th>\n",
       "      <th>2016</th>\n",
       "    </tr>\n",
       "  </thead>\n",
       "  <tbody>\n",
       "    <tr>\n",
       "      <th>50971</th>\n",
       "      <td>Not classified</td>\n",
       "      <td>INX</td>\n",
       "      <td>GDP (current US$)</td>\n",
       "      <td>NY.GDP.MKTP.CD</td>\n",
       "      <td>NaN</td>\n",
       "    </tr>\n",
       "    <tr>\n",
       "      <th>51201</th>\n",
       "      <td>Not classified</td>\n",
       "      <td>INX</td>\n",
       "      <td>Life expectancy at birth, total (years)</td>\n",
       "      <td>SP.DYN.LE00.IN</td>\n",
       "      <td>NaN</td>\n",
       "    </tr>\n",
       "    <tr>\n",
       "      <th>51293</th>\n",
       "      <td>Not classified</td>\n",
       "      <td>INX</td>\n",
       "      <td>Mortality rate attributed to unsafe water, uns...</td>\n",
       "      <td>SH.STA.WASH.P5</td>\n",
       "      <td>NaN</td>\n",
       "    </tr>\n",
       "    <tr>\n",
       "      <th>51464</th>\n",
       "      <td>Not classified</td>\n",
       "      <td>INX</td>\n",
       "      <td>People using at least basic drinking water ser...</td>\n",
       "      <td>SH.H2O.BASW.ZS</td>\n",
       "      <td>NaN</td>\n",
       "    </tr>\n",
       "    <tr>\n",
       "      <th>75732</th>\n",
       "      <td>American Samoa</td>\n",
       "      <td>ASM</td>\n",
       "      <td>Life expectancy at birth, total (years)</td>\n",
       "      <td>SP.DYN.LE00.IN</td>\n",
       "      <td>NaN</td>\n",
       "    </tr>\n",
       "    <tr>\n",
       "      <th>...</th>\n",
       "      <td>...</td>\n",
       "      <td>...</td>\n",
       "      <td>...</td>\n",
       "      <td>...</td>\n",
       "      <td>...</td>\n",
       "    </tr>\n",
       "    <tr>\n",
       "      <th>361446</th>\n",
       "      <td>Tuvalu</td>\n",
       "      <td>TUV</td>\n",
       "      <td>Life expectancy at birth, total (years)</td>\n",
       "      <td>SP.DYN.LE00.IN</td>\n",
       "      <td>NaN</td>\n",
       "    </tr>\n",
       "    <tr>\n",
       "      <th>361538</th>\n",
       "      <td>Tuvalu</td>\n",
       "      <td>TUV</td>\n",
       "      <td>Mortality rate attributed to unsafe water, uns...</td>\n",
       "      <td>SH.STA.WASH.P5</td>\n",
       "      <td>NaN</td>\n",
       "    </tr>\n",
       "    <tr>\n",
       "      <th>374203</th>\n",
       "      <td>Venezuela, RB</td>\n",
       "      <td>VEN</td>\n",
       "      <td>GDP (current US$)</td>\n",
       "      <td>NY.GDP.MKTP.CD</td>\n",
       "      <td>NaN</td>\n",
       "    </tr>\n",
       "    <tr>\n",
       "      <th>377411</th>\n",
       "      <td>Virgin Islands (U.S.)</td>\n",
       "      <td>VIR</td>\n",
       "      <td>Mortality rate attributed to unsafe water, uns...</td>\n",
       "      <td>SH.STA.WASH.P5</td>\n",
       "      <td>NaN</td>\n",
       "    </tr>\n",
       "    <tr>\n",
       "      <th>378854</th>\n",
       "      <td>West Bank and Gaza</td>\n",
       "      <td>PSE</td>\n",
       "      <td>Mortality rate attributed to unsafe water, uns...</td>\n",
       "      <td>SH.STA.WASH.P5</td>\n",
       "      <td>NaN</td>\n",
       "    </tr>\n",
       "  </tbody>\n",
       "</table>\n",
       "<p>69 rows × 5 columns</p>\n",
       "</div>"
      ],
      "text/plain": [
       "                 country_name country_code  \\\n",
       "50971          Not classified          INX   \n",
       "51201          Not classified          INX   \n",
       "51293          Not classified          INX   \n",
       "51464          Not classified          INX   \n",
       "75732          American Samoa          ASM   \n",
       "...                       ...          ...   \n",
       "361446                 Tuvalu          TUV   \n",
       "361538                 Tuvalu          TUV   \n",
       "374203          Venezuela, RB          VEN   \n",
       "377411  Virgin Islands (U.S.)          VIR   \n",
       "378854     West Bank and Gaza          PSE   \n",
       "\n",
       "                                           indicator_name  indicator_code  \\\n",
       "50971                                   GDP (current US$)  NY.GDP.MKTP.CD   \n",
       "51201             Life expectancy at birth, total (years)  SP.DYN.LE00.IN   \n",
       "51293   Mortality rate attributed to unsafe water, uns...  SH.STA.WASH.P5   \n",
       "51464   People using at least basic drinking water ser...  SH.H2O.BASW.ZS   \n",
       "75732             Life expectancy at birth, total (years)  SP.DYN.LE00.IN   \n",
       "...                                                   ...             ...   \n",
       "361446            Life expectancy at birth, total (years)  SP.DYN.LE00.IN   \n",
       "361538  Mortality rate attributed to unsafe water, uns...  SH.STA.WASH.P5   \n",
       "374203                                  GDP (current US$)  NY.GDP.MKTP.CD   \n",
       "377411  Mortality rate attributed to unsafe water, uns...  SH.STA.WASH.P5   \n",
       "378854  Mortality rate attributed to unsafe water, uns...  SH.STA.WASH.P5   \n",
       "\n",
       "        2016  \n",
       "50971    NaN  \n",
       "51201    NaN  \n",
       "51293    NaN  \n",
       "51464    NaN  \n",
       "75732    NaN  \n",
       "...      ...  \n",
       "361446   NaN  \n",
       "361538   NaN  \n",
       "374203   NaN  \n",
       "377411   NaN  \n",
       "378854   NaN  \n",
       "\n",
       "[69 rows x 5 columns]"
      ]
     },
     "execution_count": 40,
     "metadata": {},
     "output_type": "execute_result"
    }
   ],
   "source": [
    "new_missing_values=clean_df2[clean_df2.get('2016').isnull()]\n",
    "new_missing_values"
   ]
  },
  {
   "cell_type": "code",
   "execution_count": 41,
   "metadata": {},
   "outputs": [
    {
     "data": {
      "text/plain": [
       "Not classified               4\n",
       "Gibraltar                    3\n",
       "British Virgin Islands       3\n",
       "Dominica                     3\n",
       "St. Kitts and Nevis          3\n",
       "St. Martin (French part)     3\n",
       "New Caledonia                2\n",
       "Marshall Islands             2\n",
       "San Marino                   2\n",
       "Northern Mariana Islands     2\n",
       "Tuvalu                       2\n",
       "Monaco                       2\n",
       "Turks and Caicos Islands     2\n",
       "Isle of Man                  2\n",
       "Cayman Islands               2\n",
       "Kosovo                       2\n",
       "Palau                        2\n",
       "French Polynesia             2\n",
       "Andorra                      2\n",
       "Channel Islands              2\n",
       "American Samoa               2\n",
       "Nauru                        2\n",
       "Eritrea                      1\n",
       "Syrian Arab Republic         1\n",
       "Guam                         1\n",
       "Venezuela, RB                1\n",
       "Faroe Islands                1\n",
       "Greenland                    1\n",
       "Liechtenstein                1\n",
       "Curacao                      1\n",
       "Puerto Rico                  1\n",
       "South Sudan                  1\n",
       "Korea, Dem. People's Rep.    1\n",
       "Sint Maarten (Dutch part)    1\n",
       "Macao SAR, China             1\n",
       "Hong Kong SAR, China         1\n",
       "Bermuda                      1\n",
       "West Bank and Gaza           1\n",
       "Aruba                        1\n",
       "Virgin Islands (U.S.)        1\n",
       "Name: country_name, dtype: int64"
      ]
     },
     "execution_count": 41,
     "metadata": {},
     "output_type": "execute_result"
    }
   ],
   "source": [
    "missing_values_percountry=new_missing_values.country_name.value_counts()\n",
    "missing_values_percountry"
   ]
  },
  {
   "cell_type": "markdown",
   "metadata": {},
   "source": [
    "Since it doesn’t make sense to include in the analysis of the hypothesis a \"Not Classified\" country, I decided to exclude this data from the data frame. As for the remaining countries in the list above, with 1, 2 or 3 missing values, I decided to leave them in the data frame, since I believe that the remaining cases are sufficient to proceed with the analysis (even after the previously excluded cases)."
   ]
  },
  {
   "cell_type": "code",
   "execution_count": 42,
   "metadata": {},
   "outputs": [
    {
     "name": "stdout",
     "output_type": "stream",
     "text": [
      "[50971 51201 51293 51464]\n"
     ]
    }
   ],
   "source": [
    "indexes_todrop3=clean_df2[clean_df2['country_name']=='Not classified'].index.values\n",
    "print(indexes_todrop3)"
   ]
  },
  {
   "cell_type": "code",
   "execution_count": 43,
   "metadata": {
    "scrolled": true
   },
   "outputs": [
    {
     "data": {
      "text/html": [
       "<div>\n",
       "<style scoped>\n",
       "    .dataframe tbody tr th:only-of-type {\n",
       "        vertical-align: middle;\n",
       "    }\n",
       "\n",
       "    .dataframe tbody tr th {\n",
       "        vertical-align: top;\n",
       "    }\n",
       "\n",
       "    .dataframe thead th {\n",
       "        text-align: right;\n",
       "    }\n",
       "</style>\n",
       "<table border=\"1\" class=\"dataframe\">\n",
       "  <thead>\n",
       "    <tr style=\"text-align: right;\">\n",
       "      <th></th>\n",
       "      <th>country_name</th>\n",
       "      <th>country_code</th>\n",
       "      <th>indicator_name</th>\n",
       "      <th>indicator_code</th>\n",
       "      <th>2016</th>\n",
       "    </tr>\n",
       "  </thead>\n",
       "  <tbody>\n",
       "    <tr>\n",
       "      <th>466</th>\n",
       "      <td>Africa Eastern and Southern</td>\n",
       "      <td>AFE</td>\n",
       "      <td>GDP (current US$)</td>\n",
       "      <td>NY.GDP.MKTP.CD</td>\n",
       "      <td>8.547519e+11</td>\n",
       "    </tr>\n",
       "    <tr>\n",
       "      <th>696</th>\n",
       "      <td>Africa Eastern and Southern</td>\n",
       "      <td>AFE</td>\n",
       "      <td>Life expectancy at birth, total (years)</td>\n",
       "      <td>SP.DYN.LE00.IN</td>\n",
       "      <td>6.278768e+01</td>\n",
       "    </tr>\n",
       "    <tr>\n",
       "      <th>788</th>\n",
       "      <td>Africa Eastern and Southern</td>\n",
       "      <td>AFE</td>\n",
       "      <td>Mortality rate attributed to unsafe water, uns...</td>\n",
       "      <td>SH.STA.WASH.P5</td>\n",
       "      <td>3.941944e+01</td>\n",
       "    </tr>\n",
       "    <tr>\n",
       "      <th>959</th>\n",
       "      <td>Africa Eastern and Southern</td>\n",
       "      <td>AFE</td>\n",
       "      <td>People using at least basic drinking water ser...</td>\n",
       "      <td>SH.H2O.BASW.ZS</td>\n",
       "      <td>5.521221e+01</td>\n",
       "    </tr>\n",
       "    <tr>\n",
       "      <th>1909</th>\n",
       "      <td>Africa Western and Central</td>\n",
       "      <td>AFW</td>\n",
       "      <td>GDP (current US$)</td>\n",
       "      <td>NY.GDP.MKTP.CD</td>\n",
       "      <td>6.874847e+11</td>\n",
       "    </tr>\n",
       "  </tbody>\n",
       "</table>\n",
       "</div>"
      ],
      "text/plain": [
       "                     country_name country_code  \\\n",
       "466   Africa Eastern and Southern          AFE   \n",
       "696   Africa Eastern and Southern          AFE   \n",
       "788   Africa Eastern and Southern          AFE   \n",
       "959   Africa Eastern and Southern          AFE   \n",
       "1909   Africa Western and Central          AFW   \n",
       "\n",
       "                                         indicator_name  indicator_code  \\\n",
       "466                                   GDP (current US$)  NY.GDP.MKTP.CD   \n",
       "696             Life expectancy at birth, total (years)  SP.DYN.LE00.IN   \n",
       "788   Mortality rate attributed to unsafe water, uns...  SH.STA.WASH.P5   \n",
       "959   People using at least basic drinking water ser...  SH.H2O.BASW.ZS   \n",
       "1909                                  GDP (current US$)  NY.GDP.MKTP.CD   \n",
       "\n",
       "              2016  \n",
       "466   8.547519e+11  \n",
       "696   6.278768e+01  \n",
       "788   3.941944e+01  \n",
       "959   5.521221e+01  \n",
       "1909  6.874847e+11  "
      ]
     },
     "execution_count": 43,
     "metadata": {},
     "output_type": "execute_result"
    }
   ],
   "source": [
    "clean_df3=clean_df2.drop(indexes_todrop3)\n",
    "clean_df3.head()"
   ]
  },
  {
   "cell_type": "markdown",
   "metadata": {},
   "source": [
    "<br/>\n",
    "\n",
    "***\n",
    "\n",
    "# ``Task 4: Reshape the Data``\n"
   ]
  },
  {
   "cell_type": "markdown",
   "metadata": {},
   "source": [
    "To reshape the data and set the indicator codes as the columns and the country codes as the rows, I used the `pivot()` function:"
   ]
  },
  {
   "cell_type": "code",
   "execution_count": 44,
   "metadata": {},
   "outputs": [
    {
     "data": {
      "text/html": [
       "<div>\n",
       "<style scoped>\n",
       "    .dataframe tbody tr th:only-of-type {\n",
       "        vertical-align: middle;\n",
       "    }\n",
       "\n",
       "    .dataframe tbody tr th {\n",
       "        vertical-align: top;\n",
       "    }\n",
       "\n",
       "    .dataframe thead th {\n",
       "        text-align: right;\n",
       "    }\n",
       "</style>\n",
       "<table border=\"1\" class=\"dataframe\">\n",
       "  <thead>\n",
       "    <tr style=\"text-align: right;\">\n",
       "      <th>indicator_code</th>\n",
       "      <th>NY.GDP.MKTP.CD</th>\n",
       "      <th>SE.SEC.UNER.LO.ZS</th>\n",
       "      <th>SH.H2O.BASW.ZS</th>\n",
       "      <th>SH.STA.WASH.P5</th>\n",
       "      <th>SP.DYN.LE00.IN</th>\n",
       "    </tr>\n",
       "    <tr>\n",
       "      <th>country_code</th>\n",
       "      <th></th>\n",
       "      <th></th>\n",
       "      <th></th>\n",
       "      <th></th>\n",
       "      <th></th>\n",
       "    </tr>\n",
       "  </thead>\n",
       "  <tbody>\n",
       "    <tr>\n",
       "      <th>ABW</th>\n",
       "      <td>2.983637e+09</td>\n",
       "      <td>NaN</td>\n",
       "      <td>97.869023</td>\n",
       "      <td>NaN</td>\n",
       "      <td>75.868000</td>\n",
       "    </tr>\n",
       "    <tr>\n",
       "      <th>AFE</th>\n",
       "      <td>8.547519e+11</td>\n",
       "      <td>NaN</td>\n",
       "      <td>55.212210</td>\n",
       "      <td>39.419441</td>\n",
       "      <td>62.787681</td>\n",
       "    </tr>\n",
       "    <tr>\n",
       "      <th>AFG</th>\n",
       "      <td>1.801775e+10</td>\n",
       "      <td>NaN</td>\n",
       "      <td>64.286484</td>\n",
       "      <td>13.900000</td>\n",
       "      <td>63.763000</td>\n",
       "    </tr>\n",
       "    <tr>\n",
       "      <th>AFW</th>\n",
       "      <td>6.874847e+11</td>\n",
       "      <td>NaN</td>\n",
       "      <td>67.108909</td>\n",
       "      <td>58.632192</td>\n",
       "      <td>56.974761</td>\n",
       "    </tr>\n",
       "    <tr>\n",
       "      <th>AGO</th>\n",
       "      <td>1.011239e+11</td>\n",
       "      <td>NaN</td>\n",
       "      <td>55.084276</td>\n",
       "      <td>48.800000</td>\n",
       "      <td>59.925000</td>\n",
       "    </tr>\n",
       "  </tbody>\n",
       "</table>\n",
       "</div>"
      ],
      "text/plain": [
       "indicator_code  NY.GDP.MKTP.CD  SE.SEC.UNER.LO.ZS  SH.H2O.BASW.ZS  \\\n",
       "country_code                                                        \n",
       "ABW               2.983637e+09                NaN       97.869023   \n",
       "AFE               8.547519e+11                NaN       55.212210   \n",
       "AFG               1.801775e+10                NaN       64.286484   \n",
       "AFW               6.874847e+11                NaN       67.108909   \n",
       "AGO               1.011239e+11                NaN       55.084276   \n",
       "\n",
       "indicator_code  SH.STA.WASH.P5  SP.DYN.LE00.IN  \n",
       "country_code                                    \n",
       "ABW                        NaN       75.868000  \n",
       "AFE                  39.419441       62.787681  \n",
       "AFG                  13.900000       63.763000  \n",
       "AFW                  58.632192       56.974761  \n",
       "AGO                  48.800000       59.925000  "
      ]
     },
     "execution_count": 44,
     "metadata": {},
     "output_type": "execute_result"
    }
   ],
   "source": [
    "df_pivoted=clean_df3.pivot(index='country_code', columns=\"indicator_code\", values='2016')\n",
    "df_pivoted.head()"
   ]
  },
  {
   "cell_type": "markdown",
   "metadata": {},
   "source": [
    "Then, I examined the dimensions of the new pivoted data:"
   ]
  },
  {
   "cell_type": "code",
   "execution_count": 45,
   "metadata": {},
   "outputs": [
    {
     "name": "stdout",
     "output_type": "stream",
     "text": [
      "(265, 5)\n"
     ]
    }
   ],
   "source": [
    "print(df_pivoted.shape)"
   ]
  },
  {
   "cell_type": "code",
   "execution_count": 46,
   "metadata": {},
   "outputs": [
    {
     "data": {
      "text/plain": [
       "Index(['NY.GDP.MKTP.CD', 'SE.SEC.UNER.LO.ZS', 'SH.H2O.BASW.ZS',\n",
       "       'SH.STA.WASH.P5', 'SP.DYN.LE00.IN'],\n",
       "      dtype='object', name='indicator_code')"
      ]
     },
     "execution_count": 46,
     "metadata": {},
     "output_type": "execute_result"
    }
   ],
   "source": [
    "df_pivoted.columns"
   ]
  },
  {
   "cell_type": "markdown",
   "metadata": {},
   "source": [
    "I renamed all column names to something more useful:"
   ]
  },
  {
   "cell_type": "code",
   "execution_count": 47,
   "metadata": {},
   "outputs": [
    {
     "data": {
      "text/html": [
       "<div>\n",
       "<style scoped>\n",
       "    .dataframe tbody tr th:only-of-type {\n",
       "        vertical-align: middle;\n",
       "    }\n",
       "\n",
       "    .dataframe tbody tr th {\n",
       "        vertical-align: top;\n",
       "    }\n",
       "\n",
       "    .dataframe thead th {\n",
       "        text-align: right;\n",
       "    }\n",
       "</style>\n",
       "<table border=\"1\" class=\"dataframe\">\n",
       "  <thead>\n",
       "    <tr style=\"text-align: right;\">\n",
       "      <th>indicator_code</th>\n",
       "      <th>GDP</th>\n",
       "      <th>Education</th>\n",
       "      <th>H20_services_use</th>\n",
       "      <th>Mortality</th>\n",
       "      <th>Life_expectancy</th>\n",
       "    </tr>\n",
       "    <tr>\n",
       "      <th>country_code</th>\n",
       "      <th></th>\n",
       "      <th></th>\n",
       "      <th></th>\n",
       "      <th></th>\n",
       "      <th></th>\n",
       "    </tr>\n",
       "  </thead>\n",
       "  <tbody>\n",
       "    <tr>\n",
       "      <th>ABW</th>\n",
       "      <td>2.983637e+09</td>\n",
       "      <td>NaN</td>\n",
       "      <td>97.869023</td>\n",
       "      <td>NaN</td>\n",
       "      <td>75.868000</td>\n",
       "    </tr>\n",
       "    <tr>\n",
       "      <th>AFE</th>\n",
       "      <td>8.547519e+11</td>\n",
       "      <td>NaN</td>\n",
       "      <td>55.212210</td>\n",
       "      <td>39.419441</td>\n",
       "      <td>62.787681</td>\n",
       "    </tr>\n",
       "    <tr>\n",
       "      <th>AFG</th>\n",
       "      <td>1.801775e+10</td>\n",
       "      <td>NaN</td>\n",
       "      <td>64.286484</td>\n",
       "      <td>13.900000</td>\n",
       "      <td>63.763000</td>\n",
       "    </tr>\n",
       "    <tr>\n",
       "      <th>AFW</th>\n",
       "      <td>6.874847e+11</td>\n",
       "      <td>NaN</td>\n",
       "      <td>67.108909</td>\n",
       "      <td>58.632192</td>\n",
       "      <td>56.974761</td>\n",
       "    </tr>\n",
       "    <tr>\n",
       "      <th>AGO</th>\n",
       "      <td>1.011239e+11</td>\n",
       "      <td>NaN</td>\n",
       "      <td>55.084276</td>\n",
       "      <td>48.800000</td>\n",
       "      <td>59.925000</td>\n",
       "    </tr>\n",
       "  </tbody>\n",
       "</table>\n",
       "</div>"
      ],
      "text/plain": [
       "indicator_code           GDP  Education  H20_services_use  Mortality  \\\n",
       "country_code                                                           \n",
       "ABW             2.983637e+09        NaN         97.869023        NaN   \n",
       "AFE             8.547519e+11        NaN         55.212210  39.419441   \n",
       "AFG             1.801775e+10        NaN         64.286484  13.900000   \n",
       "AFW             6.874847e+11        NaN         67.108909  58.632192   \n",
       "AGO             1.011239e+11        NaN         55.084276  48.800000   \n",
       "\n",
       "indicator_code  Life_expectancy  \n",
       "country_code                     \n",
       "ABW                   75.868000  \n",
       "AFE                   62.787681  \n",
       "AFG                   63.763000  \n",
       "AFW                   56.974761  \n",
       "AGO                   59.925000  "
      ]
     },
     "execution_count": 47,
     "metadata": {},
     "output_type": "execute_result"
    }
   ],
   "source": [
    "df_pivoted=df_pivoted.rename(columns={'AG.LND.TOTL.RU.K2': 'Rural_land_area'})\n",
    "df_pivoted=df_pivoted.rename(columns={'NY.GDP.MKTP.CD': 'GDP'})\n",
    "df_pivoted=df_pivoted.rename(columns={'SE.SEC.UNER.LO.ZS': 'Education'})\n",
    "df_pivoted=df_pivoted.rename(columns={'SH.H2O.BASW.ZS': 'H20_services_use'})\n",
    "df_pivoted=df_pivoted.rename(columns={'SH.STA.WASH.P5': 'Mortality'})\n",
    "df_pivoted=df_pivoted.rename(columns={'SP.DYN.LE00.IN': 'Life_expectancy'})\n",
    "df_pivoted.head()"
   ]
  },
  {
   "cell_type": "markdown",
   "metadata": {},
   "source": [
    "Finally, I sorted the data by putting higher values for the \"H20_services_use\" to go first"
   ]
  },
  {
   "cell_type": "code",
   "execution_count": 48,
   "metadata": {},
   "outputs": [
    {
     "data": {
      "text/html": [
       "<div>\n",
       "<style scoped>\n",
       "    .dataframe tbody tr th:only-of-type {\n",
       "        vertical-align: middle;\n",
       "    }\n",
       "\n",
       "    .dataframe tbody tr th {\n",
       "        vertical-align: top;\n",
       "    }\n",
       "\n",
       "    .dataframe thead th {\n",
       "        text-align: right;\n",
       "    }\n",
       "</style>\n",
       "<table border=\"1\" class=\"dataframe\">\n",
       "  <thead>\n",
       "    <tr style=\"text-align: right;\">\n",
       "      <th>indicator_code</th>\n",
       "      <th>GDP</th>\n",
       "      <th>Education</th>\n",
       "      <th>H20_services_use</th>\n",
       "      <th>Mortality</th>\n",
       "      <th>Life_expectancy</th>\n",
       "    </tr>\n",
       "    <tr>\n",
       "      <th>country_code</th>\n",
       "      <th></th>\n",
       "      <th></th>\n",
       "      <th></th>\n",
       "      <th></th>\n",
       "      <th></th>\n",
       "    </tr>\n",
       "  </thead>\n",
       "  <tbody>\n",
       "    <tr>\n",
       "      <th>PLW</th>\n",
       "      <td>2.950654e+08</td>\n",
       "      <td>NaN</td>\n",
       "      <td>100.000004</td>\n",
       "      <td>NaN</td>\n",
       "      <td>NaN</td>\n",
       "    </tr>\n",
       "    <tr>\n",
       "      <th>FIN</th>\n",
       "      <td>2.406079e+11</td>\n",
       "      <td>0.86193</td>\n",
       "      <td>100.000002</td>\n",
       "      <td>0.1</td>\n",
       "      <td>81.429268</td>\n",
       "    </tr>\n",
       "    <tr>\n",
       "      <th>FRA</th>\n",
       "      <td>2.471286e+12</td>\n",
       "      <td>1.76387</td>\n",
       "      <td>100.000002</td>\n",
       "      <td>0.3</td>\n",
       "      <td>82.573171</td>\n",
       "    </tr>\n",
       "    <tr>\n",
       "      <th>SMR</th>\n",
       "      <td>1.468377e+09</td>\n",
       "      <td>NaN</td>\n",
       "      <td>100.000000</td>\n",
       "      <td>NaN</td>\n",
       "      <td>NaN</td>\n",
       "    </tr>\n",
       "    <tr>\n",
       "      <th>PYF</th>\n",
       "      <td>NaN</td>\n",
       "      <td>NaN</td>\n",
       "      <td>100.000000</td>\n",
       "      <td>NaN</td>\n",
       "      <td>77.024000</td>\n",
       "    </tr>\n",
       "  </tbody>\n",
       "</table>\n",
       "</div>"
      ],
      "text/plain": [
       "indicator_code           GDP  Education  H20_services_use  Mortality  \\\n",
       "country_code                                                           \n",
       "PLW             2.950654e+08        NaN        100.000004        NaN   \n",
       "FIN             2.406079e+11    0.86193        100.000002        0.1   \n",
       "FRA             2.471286e+12    1.76387        100.000002        0.3   \n",
       "SMR             1.468377e+09        NaN        100.000000        NaN   \n",
       "PYF                      NaN        NaN        100.000000        NaN   \n",
       "\n",
       "indicator_code  Life_expectancy  \n",
       "country_code                     \n",
       "PLW                         NaN  \n",
       "FIN                   81.429268  \n",
       "FRA                   82.573171  \n",
       "SMR                         NaN  \n",
       "PYF                   77.024000  "
      ]
     },
     "execution_count": 48,
     "metadata": {},
     "output_type": "execute_result"
    }
   ],
   "source": [
    "final_df = df_pivoted.sort_values(by=\"H20_services_use\", ascending=False)\n",
    "final_df.head()"
   ]
  },
  {
   "cell_type": "markdown",
   "metadata": {},
   "source": [
    "<br/>\n",
    "\n",
    "***\n",
    "\n",
    "# ``Task 5: Saving the Results``\n"
   ]
  },
  {
   "cell_type": "code",
   "execution_count": 49,
   "metadata": {},
   "outputs": [],
   "source": [
    "final_df.to_csv(\"data/assignment-01-cleaned.csv\", index=False, header=True)"
   ]
  }
 ],
 "metadata": {
  "kernelspec": {
   "display_name": "Python 3",
   "language": "python",
   "name": "python3"
  },
  "language_info": {
   "codemirror_mode": {
    "name": "ipython",
    "version": 3
   },
   "file_extension": ".py",
   "mimetype": "text/x-python",
   "name": "python",
   "nbconvert_exporter": "python",
   "pygments_lexer": "ipython3",
   "version": "3.8.8"
  }
 },
 "nbformat": 4,
 "nbformat_minor": 4
}
