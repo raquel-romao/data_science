{
 "cells": [
  {
   "cell_type": "code",
   "execution_count": 66,
   "id": "fcb4d7ec",
   "metadata": {},
   "outputs": [],
   "source": [
    "#Imports the necessary libraries\n",
    "import os\n",
    "import pandas as pd\n",
    "import geopandas as gpd             \n",
    "import numpy as np\n",
    "import palettable as pltt\n",
    "import seaborn as sns\n",
    "import matplotlib.pyplot as plt\n",
    "from pysal.lib import weights\n",
    "from pysal.explore import esda\n",
    "from splot.esda import moran_scatterplot, lisa_cluster, plot_local_autocorrelation\n",
    "\n",
    "import osmnx as ox, geopandas as gpd\n",
    "%matplotlib inline\n",
    "ox.config(log_console=True, use_cache=True)\n",
    "\n",
    "import matplotlib.style as style \n",
    "style.use('seaborn-colorblind') "
   ]
  },
  {
   "cell_type": "code",
   "execution_count": 67,
   "id": "078840ef",
   "metadata": {},
   "outputs": [],
   "source": [
    "data_18 = pd.read_csv('data/2018.csv')"
   ]
  },
  {
   "cell_type": "code",
   "execution_count": 68,
   "id": "1c98f5b5",
   "metadata": {},
   "outputs": [],
   "source": [
    "data_19 = pd.read_csv('data/2019.csv')"
   ]
  },
  {
   "cell_type": "code",
   "execution_count": 69,
   "id": "26db83c8",
   "metadata": {},
   "outputs": [],
   "source": [
    "data_20 = pd.read_csv('data/2020.csv')"
   ]
  },
  {
   "cell_type": "code",
   "execution_count": 70,
   "id": "d6c4d040",
   "metadata": {},
   "outputs": [
    {
     "data": {
      "text/html": [
       "<div>\n",
       "<style scoped>\n",
       "    .dataframe tbody tr th:only-of-type {\n",
       "        vertical-align: middle;\n",
       "    }\n",
       "\n",
       "    .dataframe tbody tr th {\n",
       "        vertical-align: top;\n",
       "    }\n",
       "\n",
       "    .dataframe thead th {\n",
       "        text-align: right;\n",
       "    }\n",
       "</style>\n",
       "<table border=\"1\" class=\"dataframe\">\n",
       "  <thead>\n",
       "    <tr style=\"text-align: right;\">\n",
       "      <th></th>\n",
       "      <th>Unnamed: 0</th>\n",
       "      <th>Neighbourhood</th>\n",
       "      <th>year</th>\n",
       "      <th>potential_labour_force</th>\n",
       "      <th>private_cars</th>\n",
       "      <th>offences</th>\n",
       "      <th>dutch_natives</th>\n",
       "      <th>n_inhabitants</th>\n",
       "      <th>population_density</th>\n",
       "      <th>older_65</th>\n",
       "      <th>single_person_households</th>\n",
       "      <th>households_without_children</th>\n",
       "      <th>households_with_children</th>\n",
       "      <th>disability_benefit</th>\n",
       "      <th>distance_to_gp</th>\n",
       "      <th>low_income_households</th>\n",
       "      <th>wealth_private_households</th>\n",
       "      <th>geometry</th>\n",
       "      <th>number_calls</th>\n",
       "      <th>number_calls_n</th>\n",
       "    </tr>\n",
       "  </thead>\n",
       "  <tbody>\n",
       "    <tr>\n",
       "      <th>0</th>\n",
       "      <td>0</td>\n",
       "      <td>Archipelbuurt</td>\n",
       "      <td>2018</td>\n",
       "      <td>3943.0</td>\n",
       "      <td>0.61</td>\n",
       "      <td>269.0</td>\n",
       "      <td>57.9</td>\n",
       "      <td>6100</td>\n",
       "      <td>7014</td>\n",
       "      <td>1320</td>\n",
       "      <td>1855</td>\n",
       "      <td>780</td>\n",
       "      <td>735</td>\n",
       "      <td>130</td>\n",
       "      <td>0.3</td>\n",
       "      <td>5.9</td>\n",
       "      <td>109.5</td>\n",
       "      <td>POLYGON ((4.306254151048128 52.09662959799297,...</td>\n",
       "      <td>1260.0</td>\n",
       "      <td>0.206557</td>\n",
       "    </tr>\n",
       "    <tr>\n",
       "      <th>1</th>\n",
       "      <td>2</td>\n",
       "      <td>Arendsdorp</td>\n",
       "      <td>2018</td>\n",
       "      <td>701.0</td>\n",
       "      <td>0.88</td>\n",
       "      <td>69.0</td>\n",
       "      <td>57.8</td>\n",
       "      <td>1305</td>\n",
       "      <td>2552</td>\n",
       "      <td>340</td>\n",
       "      <td>225</td>\n",
       "      <td>125</td>\n",
       "      <td>180</td>\n",
       "      <td>10</td>\n",
       "      <td>0.6</td>\n",
       "      <td>6.2</td>\n",
       "      <td>469.3</td>\n",
       "      <td>POLYGON ((4.323289661487788 52.09920995837605,...</td>\n",
       "      <td>173.0</td>\n",
       "      <td>0.132567</td>\n",
       "    </tr>\n",
       "    <tr>\n",
       "      <th>2</th>\n",
       "      <td>4</td>\n",
       "      <td>Belgisch Park</td>\n",
       "      <td>2018</td>\n",
       "      <td>5310.0</td>\n",
       "      <td>0.72</td>\n",
       "      <td>460.0</td>\n",
       "      <td>63.4</td>\n",
       "      <td>8205</td>\n",
       "      <td>7747</td>\n",
       "      <td>1655</td>\n",
       "      <td>2115</td>\n",
       "      <td>1000</td>\n",
       "      <td>1095</td>\n",
       "      <td>220</td>\n",
       "      <td>0.8</td>\n",
       "      <td>7.1</td>\n",
       "      <td>76.0</td>\n",
       "      <td>POLYGON ((4.28055557947404 52.11705929964018, ...</td>\n",
       "      <td>569.0</td>\n",
       "      <td>0.069348</td>\n",
       "    </tr>\n",
       "    <tr>\n",
       "      <th>3</th>\n",
       "      <td>6</td>\n",
       "      <td>Bezuidenhout-Midden</td>\n",
       "      <td>2018</td>\n",
       "      <td>2994.0</td>\n",
       "      <td>0.56</td>\n",
       "      <td>421.0</td>\n",
       "      <td>52.2</td>\n",
       "      <td>4285</td>\n",
       "      <td>6908</td>\n",
       "      <td>550</td>\n",
       "      <td>1235</td>\n",
       "      <td>520</td>\n",
       "      <td>555</td>\n",
       "      <td>80</td>\n",
       "      <td>0.7</td>\n",
       "      <td>4.8</td>\n",
       "      <td>75.2</td>\n",
       "      <td>POLYGON ((4.334697269720919 52.08803839554967,...</td>\n",
       "      <td>390.0</td>\n",
       "      <td>0.091015</td>\n",
       "    </tr>\n",
       "    <tr>\n",
       "      <th>4</th>\n",
       "      <td>8</td>\n",
       "      <td>Bezuidenhout-Oost</td>\n",
       "      <td>2018</td>\n",
       "      <td>6708.0</td>\n",
       "      <td>0.58</td>\n",
       "      <td>395.0</td>\n",
       "      <td>61.2</td>\n",
       "      <td>9010</td>\n",
       "      <td>11737</td>\n",
       "      <td>1200</td>\n",
       "      <td>2780</td>\n",
       "      <td>1425</td>\n",
       "      <td>1050</td>\n",
       "      <td>200</td>\n",
       "      <td>0.4</td>\n",
       "      <td>5.2</td>\n",
       "      <td>37.8</td>\n",
       "      <td>POLYGON ((4.342348958074489 52.09126303890616,...</td>\n",
       "      <td>339.0</td>\n",
       "      <td>0.037625</td>\n",
       "    </tr>\n",
       "  </tbody>\n",
       "</table>\n",
       "</div>"
      ],
      "text/plain": [
       "   Unnamed: 0        Neighbourhood  year  potential_labour_force  \\\n",
       "0           0        Archipelbuurt  2018                  3943.0   \n",
       "1           2           Arendsdorp  2018                   701.0   \n",
       "2           4        Belgisch Park  2018                  5310.0   \n",
       "3           6  Bezuidenhout-Midden  2018                  2994.0   \n",
       "4           8    Bezuidenhout-Oost  2018                  6708.0   \n",
       "\n",
       "   private_cars  offences  dutch_natives  n_inhabitants  population_density  \\\n",
       "0          0.61     269.0           57.9           6100                7014   \n",
       "1          0.88      69.0           57.8           1305                2552   \n",
       "2          0.72     460.0           63.4           8205                7747   \n",
       "3          0.56     421.0           52.2           4285                6908   \n",
       "4          0.58     395.0           61.2           9010               11737   \n",
       "\n",
       "   older_65  single_person_households  households_without_children  \\\n",
       "0      1320                      1855                          780   \n",
       "1       340                       225                          125   \n",
       "2      1655                      2115                         1000   \n",
       "3       550                      1235                          520   \n",
       "4      1200                      2780                         1425   \n",
       "\n",
       "   households_with_children  disability_benefit  distance_to_gp  \\\n",
       "0                       735                 130             0.3   \n",
       "1                       180                  10             0.6   \n",
       "2                      1095                 220             0.8   \n",
       "3                       555                  80             0.7   \n",
       "4                      1050                 200             0.4   \n",
       "\n",
       "   low_income_households  wealth_private_households  \\\n",
       "0                    5.9                      109.5   \n",
       "1                    6.2                      469.3   \n",
       "2                    7.1                       76.0   \n",
       "3                    4.8                       75.2   \n",
       "4                    5.2                       37.8   \n",
       "\n",
       "                                            geometry  number_calls  \\\n",
       "0  POLYGON ((4.306254151048128 52.09662959799297,...        1260.0   \n",
       "1  POLYGON ((4.323289661487788 52.09920995837605,...         173.0   \n",
       "2  POLYGON ((4.28055557947404 52.11705929964018, ...         569.0   \n",
       "3  POLYGON ((4.334697269720919 52.08803839554967,...         390.0   \n",
       "4  POLYGON ((4.342348958074489 52.09126303890616,...         339.0   \n",
       "\n",
       "   number_calls_n  \n",
       "0        0.206557  \n",
       "1        0.132567  \n",
       "2        0.069348  \n",
       "3        0.091015  \n",
       "4        0.037625  "
      ]
     },
     "execution_count": 70,
     "metadata": {},
     "output_type": "execute_result"
    }
   ],
   "source": [
    "data_18.head()"
   ]
  },
  {
   "cell_type": "code",
   "execution_count": 71,
   "id": "cb989112",
   "metadata": {},
   "outputs": [],
   "source": [
    "data_18 = data_18.set_index('Neighbourhood')"
   ]
  },
  {
   "cell_type": "code",
   "execution_count": 72,
   "id": "c6c06e5d",
   "metadata": {},
   "outputs": [
    {
     "data": {
      "text/html": [
       "<div>\n",
       "<style scoped>\n",
       "    .dataframe tbody tr th:only-of-type {\n",
       "        vertical-align: middle;\n",
       "    }\n",
       "\n",
       "    .dataframe tbody tr th {\n",
       "        vertical-align: top;\n",
       "    }\n",
       "\n",
       "    .dataframe thead th {\n",
       "        text-align: right;\n",
       "    }\n",
       "</style>\n",
       "<table border=\"1\" class=\"dataframe\">\n",
       "  <thead>\n",
       "    <tr style=\"text-align: right;\">\n",
       "      <th></th>\n",
       "      <th>Unnamed: 0</th>\n",
       "      <th>year</th>\n",
       "      <th>potential_labour_force</th>\n",
       "      <th>private_cars</th>\n",
       "      <th>offences</th>\n",
       "      <th>dutch_natives</th>\n",
       "      <th>n_inhabitants</th>\n",
       "      <th>population_density</th>\n",
       "      <th>older_65</th>\n",
       "      <th>single_person_households</th>\n",
       "      <th>households_without_children</th>\n",
       "      <th>households_with_children</th>\n",
       "      <th>disability_benefit</th>\n",
       "      <th>distance_to_gp</th>\n",
       "      <th>low_income_households</th>\n",
       "      <th>wealth_private_households</th>\n",
       "      <th>geometry</th>\n",
       "      <th>number_calls</th>\n",
       "      <th>number_calls_n</th>\n",
       "    </tr>\n",
       "    <tr>\n",
       "      <th>Neighbourhood</th>\n",
       "      <th></th>\n",
       "      <th></th>\n",
       "      <th></th>\n",
       "      <th></th>\n",
       "      <th></th>\n",
       "      <th></th>\n",
       "      <th></th>\n",
       "      <th></th>\n",
       "      <th></th>\n",
       "      <th></th>\n",
       "      <th></th>\n",
       "      <th></th>\n",
       "      <th></th>\n",
       "      <th></th>\n",
       "      <th></th>\n",
       "      <th></th>\n",
       "      <th></th>\n",
       "      <th></th>\n",
       "      <th></th>\n",
       "    </tr>\n",
       "  </thead>\n",
       "  <tbody>\n",
       "    <tr>\n",
       "      <th>Archipelbuurt</th>\n",
       "      <td>0</td>\n",
       "      <td>2018</td>\n",
       "      <td>3943.0</td>\n",
       "      <td>0.61</td>\n",
       "      <td>269.0</td>\n",
       "      <td>57.9</td>\n",
       "      <td>6100</td>\n",
       "      <td>7014</td>\n",
       "      <td>1320</td>\n",
       "      <td>1855</td>\n",
       "      <td>780</td>\n",
       "      <td>735</td>\n",
       "      <td>130</td>\n",
       "      <td>0.3</td>\n",
       "      <td>5.9</td>\n",
       "      <td>109.5</td>\n",
       "      <td>POLYGON ((4.306254151048128 52.09662959799297,...</td>\n",
       "      <td>1260.0</td>\n",
       "      <td>0.206557</td>\n",
       "    </tr>\n",
       "    <tr>\n",
       "      <th>Arendsdorp</th>\n",
       "      <td>2</td>\n",
       "      <td>2018</td>\n",
       "      <td>701.0</td>\n",
       "      <td>0.88</td>\n",
       "      <td>69.0</td>\n",
       "      <td>57.8</td>\n",
       "      <td>1305</td>\n",
       "      <td>2552</td>\n",
       "      <td>340</td>\n",
       "      <td>225</td>\n",
       "      <td>125</td>\n",
       "      <td>180</td>\n",
       "      <td>10</td>\n",
       "      <td>0.6</td>\n",
       "      <td>6.2</td>\n",
       "      <td>469.3</td>\n",
       "      <td>POLYGON ((4.323289661487788 52.09920995837605,...</td>\n",
       "      <td>173.0</td>\n",
       "      <td>0.132567</td>\n",
       "    </tr>\n",
       "    <tr>\n",
       "      <th>Belgisch Park</th>\n",
       "      <td>4</td>\n",
       "      <td>2018</td>\n",
       "      <td>5310.0</td>\n",
       "      <td>0.72</td>\n",
       "      <td>460.0</td>\n",
       "      <td>63.4</td>\n",
       "      <td>8205</td>\n",
       "      <td>7747</td>\n",
       "      <td>1655</td>\n",
       "      <td>2115</td>\n",
       "      <td>1000</td>\n",
       "      <td>1095</td>\n",
       "      <td>220</td>\n",
       "      <td>0.8</td>\n",
       "      <td>7.1</td>\n",
       "      <td>76.0</td>\n",
       "      <td>POLYGON ((4.28055557947404 52.11705929964018, ...</td>\n",
       "      <td>569.0</td>\n",
       "      <td>0.069348</td>\n",
       "    </tr>\n",
       "    <tr>\n",
       "      <th>Bezuidenhout-Midden</th>\n",
       "      <td>6</td>\n",
       "      <td>2018</td>\n",
       "      <td>2994.0</td>\n",
       "      <td>0.56</td>\n",
       "      <td>421.0</td>\n",
       "      <td>52.2</td>\n",
       "      <td>4285</td>\n",
       "      <td>6908</td>\n",
       "      <td>550</td>\n",
       "      <td>1235</td>\n",
       "      <td>520</td>\n",
       "      <td>555</td>\n",
       "      <td>80</td>\n",
       "      <td>0.7</td>\n",
       "      <td>4.8</td>\n",
       "      <td>75.2</td>\n",
       "      <td>POLYGON ((4.334697269720919 52.08803839554967,...</td>\n",
       "      <td>390.0</td>\n",
       "      <td>0.091015</td>\n",
       "    </tr>\n",
       "    <tr>\n",
       "      <th>Bezuidenhout-Oost</th>\n",
       "      <td>8</td>\n",
       "      <td>2018</td>\n",
       "      <td>6708.0</td>\n",
       "      <td>0.58</td>\n",
       "      <td>395.0</td>\n",
       "      <td>61.2</td>\n",
       "      <td>9010</td>\n",
       "      <td>11737</td>\n",
       "      <td>1200</td>\n",
       "      <td>2780</td>\n",
       "      <td>1425</td>\n",
       "      <td>1050</td>\n",
       "      <td>200</td>\n",
       "      <td>0.4</td>\n",
       "      <td>5.2</td>\n",
       "      <td>37.8</td>\n",
       "      <td>POLYGON ((4.342348958074489 52.09126303890616,...</td>\n",
       "      <td>339.0</td>\n",
       "      <td>0.037625</td>\n",
       "    </tr>\n",
       "  </tbody>\n",
       "</table>\n",
       "</div>"
      ],
      "text/plain": [
       "                     Unnamed: 0  year  potential_labour_force  private_cars  \\\n",
       "Neighbourhood                                                                 \n",
       "Archipelbuurt                 0  2018                  3943.0          0.61   \n",
       "Arendsdorp                    2  2018                   701.0          0.88   \n",
       "Belgisch Park                 4  2018                  5310.0          0.72   \n",
       "Bezuidenhout-Midden           6  2018                  2994.0          0.56   \n",
       "Bezuidenhout-Oost             8  2018                  6708.0          0.58   \n",
       "\n",
       "                     offences  dutch_natives  n_inhabitants  \\\n",
       "Neighbourhood                                                 \n",
       "Archipelbuurt           269.0           57.9           6100   \n",
       "Arendsdorp               69.0           57.8           1305   \n",
       "Belgisch Park           460.0           63.4           8205   \n",
       "Bezuidenhout-Midden     421.0           52.2           4285   \n",
       "Bezuidenhout-Oost       395.0           61.2           9010   \n",
       "\n",
       "                     population_density  older_65  single_person_households  \\\n",
       "Neighbourhood                                                                 \n",
       "Archipelbuurt                      7014      1320                      1855   \n",
       "Arendsdorp                         2552       340                       225   \n",
       "Belgisch Park                      7747      1655                      2115   \n",
       "Bezuidenhout-Midden                6908       550                      1235   \n",
       "Bezuidenhout-Oost                 11737      1200                      2780   \n",
       "\n",
       "                     households_without_children  households_with_children  \\\n",
       "Neighbourhood                                                                \n",
       "Archipelbuurt                                780                       735   \n",
       "Arendsdorp                                   125                       180   \n",
       "Belgisch Park                               1000                      1095   \n",
       "Bezuidenhout-Midden                          520                       555   \n",
       "Bezuidenhout-Oost                           1425                      1050   \n",
       "\n",
       "                     disability_benefit  distance_to_gp  \\\n",
       "Neighbourhood                                             \n",
       "Archipelbuurt                       130             0.3   \n",
       "Arendsdorp                           10             0.6   \n",
       "Belgisch Park                       220             0.8   \n",
       "Bezuidenhout-Midden                  80             0.7   \n",
       "Bezuidenhout-Oost                   200             0.4   \n",
       "\n",
       "                     low_income_households  wealth_private_households  \\\n",
       "Neighbourhood                                                           \n",
       "Archipelbuurt                          5.9                      109.5   \n",
       "Arendsdorp                             6.2                      469.3   \n",
       "Belgisch Park                          7.1                       76.0   \n",
       "Bezuidenhout-Midden                    4.8                       75.2   \n",
       "Bezuidenhout-Oost                      5.2                       37.8   \n",
       "\n",
       "                                                              geometry  \\\n",
       "Neighbourhood                                                            \n",
       "Archipelbuurt        POLYGON ((4.306254151048128 52.09662959799297,...   \n",
       "Arendsdorp           POLYGON ((4.323289661487788 52.09920995837605,...   \n",
       "Belgisch Park        POLYGON ((4.28055557947404 52.11705929964018, ...   \n",
       "Bezuidenhout-Midden  POLYGON ((4.334697269720919 52.08803839554967,...   \n",
       "Bezuidenhout-Oost    POLYGON ((4.342348958074489 52.09126303890616,...   \n",
       "\n",
       "                     number_calls  number_calls_n  \n",
       "Neighbourhood                                      \n",
       "Archipelbuurt              1260.0        0.206557  \n",
       "Arendsdorp                  173.0        0.132567  \n",
       "Belgisch Park               569.0        0.069348  \n",
       "Bezuidenhout-Midden         390.0        0.091015  \n",
       "Bezuidenhout-Oost           339.0        0.037625  "
      ]
     },
     "execution_count": 72,
     "metadata": {},
     "output_type": "execute_result"
    }
   ],
   "source": [
    "data_18.head()"
   ]
  },
  {
   "cell_type": "code",
   "execution_count": 73,
   "id": "27d93ed7",
   "metadata": {},
   "outputs": [],
   "source": [
    "data_19 = data_19.set_index('Neighbourhood')"
   ]
  },
  {
   "cell_type": "code",
   "execution_count": 74,
   "id": "7257f5f7",
   "metadata": {},
   "outputs": [],
   "source": [
    "data_20 = data_20.set_index('Neighbourhood')"
   ]
  },
  {
   "cell_type": "code",
   "execution_count": 75,
   "id": "2bf51690",
   "metadata": {},
   "outputs": [],
   "source": [
    "corr_matrix = data_18.corr()"
   ]
  },
  {
   "cell_type": "code",
   "execution_count": 76,
   "id": "85417ba3",
   "metadata": {},
   "outputs": [],
   "source": [
    "from random import randint\n",
    "color = []\n",
    "n = 20\n",
    "for i in range(n):\n",
    "    color.append('#%06X' % randint(0, 0xFFFFFF))"
   ]
  },
  {
   "cell_type": "code",
   "execution_count": 77,
   "id": "3019a5d2",
   "metadata": {},
   "outputs": [],
   "source": [
    "import seaborn as sns\n",
    "color = sns.color_palette(\"flare\", 11)"
   ]
  },
  {
   "cell_type": "code",
   "execution_count": 78,
   "id": "909a7231",
   "metadata": {},
   "outputs": [
    {
     "data": {
      "text/html": [
       "<svg  width=\"605\" height=\"55\"><rect x=\"0\" y=\"0\" width=\"55\" height=\"55\" style=\"fill:#eb9b74;stroke-width:2;stroke:rgb(255,255,255)\"/><rect x=\"55\" y=\"0\" width=\"55\" height=\"55\" style=\"fill:#e98768;stroke-width:2;stroke:rgb(255,255,255)\"/><rect x=\"110\" y=\"0\" width=\"55\" height=\"55\" style=\"fill:#e5715e;stroke-width:2;stroke:rgb(255,255,255)\"/><rect x=\"165\" y=\"0\" width=\"55\" height=\"55\" style=\"fill:#de5d5c;stroke-width:2;stroke:rgb(255,255,255)\"/><rect x=\"220\" y=\"0\" width=\"55\" height=\"55\" style=\"fill:#d34c60;stroke-width:2;stroke:rgb(255,255,255)\"/><rect x=\"275\" y=\"0\" width=\"55\" height=\"55\" style=\"fill:#c14168;stroke-width:2;stroke:rgb(255,255,255)\"/><rect x=\"330\" y=\"0\" width=\"55\" height=\"55\" style=\"fill:#ae3b6d;stroke-width:2;stroke:rgb(255,255,255)\"/><rect x=\"385\" y=\"0\" width=\"55\" height=\"55\" style=\"fill:#9a3670;stroke-width:2;stroke:rgb(255,255,255)\"/><rect x=\"440\" y=\"0\" width=\"55\" height=\"55\" style=\"fill:#863071;stroke-width:2;stroke:rgb(255,255,255)\"/><rect x=\"495\" y=\"0\" width=\"55\" height=\"55\" style=\"fill:#722c6e;stroke-width:2;stroke:rgb(255,255,255)\"/><rect x=\"550\" y=\"0\" width=\"55\" height=\"55\" style=\"fill:#5e2868;stroke-width:2;stroke:rgb(255,255,255)\"/></svg>"
      ],
      "text/plain": [
       "[(0.92198615, 0.60943622, 0.45509686),\n",
       " (0.91262605, 0.52893336, 0.40749715),\n",
       " (0.89737819, 0.44322747, 0.37043052),\n",
       " (0.87199254, 0.3633634, 0.35974223),\n",
       " (0.82754694, 0.29677989, 0.37712733),\n",
       " (0.75861834, 0.25356035, 0.40663694),\n",
       " (0.68113541, 0.23115942, 0.42717615),\n",
       " (0.60407977, 0.21017746, 0.43913439),\n",
       " (0.52386353, 0.18939409, 0.44182449),\n",
       " (0.44584668, 0.17360625, 0.43114133),\n",
       " (0.36833779, 0.15813871, 0.40911916)]"
      ]
     },
     "execution_count": 78,
     "metadata": {},
     "output_type": "execute_result"
    }
   ],
   "source": [
    "color"
   ]
  },
  {
   "cell_type": "markdown",
   "id": "6f5bad67",
   "metadata": {},
   "source": [
    "###### Outliers for number of calls > 2000 & > 1.5 for number of calls_n, for three of the neighbourhoods for all variables"
   ]
  },
  {
   "cell_type": "markdown",
   "id": "fbcbb356",
   "metadata": {},
   "source": [
    "#### Employed persons will be a limitation of our work"
   ]
  },
  {
   "cell_type": "code",
   "execution_count": 15,
   "id": "5be6da7d",
   "metadata": {},
   "outputs": [],
   "source": [
    "data_18 = data_18[data_18.number_calls < 2000]"
   ]
  },
  {
   "cell_type": "code",
   "execution_count": 16,
   "id": "e6f7487c",
   "metadata": {},
   "outputs": [],
   "source": [
    "data_18 = data_18[data_18.number_calls_n < 1.5]"
   ]
  },
  {
   "cell_type": "code",
   "execution_count": 79,
   "id": "870d4089",
   "metadata": {},
   "outputs": [],
   "source": [
    "from sklearn.metrics import mean_squared_error"
   ]
  },
  {
   "cell_type": "code",
   "execution_count": 80,
   "id": "f4fe89b9",
   "metadata": {
    "scrolled": true
   },
   "outputs": [
    {
     "data": {
      "image/png": "[encoded data removed]",
      "text/plain": [
       "<Figure size 720x360 with 1 Axes>"
      ]
     },
     "metadata": {
      "needs_background": "light"
     },
     "output_type": "display_data"
    }
   ],
   "source": [
    "fig, ax = plt.subplots(1, 1, figsize=(10,5))\n",
    "sns.set(font_scale=1)\n",
    "\n",
    "sns.regplot(x = \"n_inhabitants\", y = \"number_calls\", data=data_18, ci=None, color=color[10])\n",
    "ax.set_xlabel('Number of inhabitants', fontsize=14)\n",
    "ax.set_ylabel('Number of calls', fontsize=14)\n",
    "ax.set_title('Number of calls vs. Number of inhabitants', fontsize=14)\n",
    "ax.grid(False)\n",
    "ax.set_facecolor('w')\n",
    "ax.spines['bottom'].set_color('0.9')\n",
    "ax.spines['left'].set_color('0.9')\n",
    "ax.spines['top'].set_color('0.9')\n",
    "ax.spines['right'].set_color('0.9')\n",
    "fig.savefig('figures_regplot/outliers/regplot_inhabitants.png', dpi=300, bbox_inches='tight')\n",
    "\n",
    "for txt in fig.texts:\n",
    "    txt.set_visible(False)"
   ]
  },
  {
   "cell_type": "code",
   "execution_count": 53,
   "id": "e50e5da0",
   "metadata": {},
   "outputs": [
    {
     "name": "stdout",
     "output_type": "stream",
     "text": [
      "correlation private_cars: 0.27497\n"
     ]
    }
   ],
   "source": [
    "print('correlation private_cars:', round(corr_matrix.loc['number_calls', \"n_inhabitants\"], 5))"
   ]
  },
  {
   "cell_type": "code",
   "execution_count": 54,
   "id": "d195e02d",
   "metadata": {},
   "outputs": [
    {
     "data": {
      "text/plain": [
       "34268053.16961639"
      ]
     },
     "execution_count": 54,
     "metadata": {},
     "output_type": "execute_result"
    }
   ],
   "source": [
    "mean_squared_error(data_18[\"n_inhabitants\"], data_18['number_calls_n'])"
   ]
  },
  {
   "cell_type": "code",
   "execution_count": 55,
   "id": "dd5f24f9",
   "metadata": {},
   "outputs": [
    {
     "data": {
      "text/plain": [
       "5853.892138536239"
      ]
     },
     "execution_count": 55,
     "metadata": {},
     "output_type": "execute_result"
    }
   ],
   "source": [
    "import math\n",
    "math.sqrt(mean_squared_error(data_18[\"n_inhabitants\"], data_18['number_calls_n']))"
   ]
  },
  {
   "cell_type": "code",
   "execution_count": 18,
   "id": "5d3db88e",
   "metadata": {
    "scrolled": true
   },
   "outputs": [
    {
     "data": {
      "image/png": "[encoded data removed]",
      "text/plain": [
       "<Figure size 720x360 with 1 Axes>"
      ]
     },
     "metadata": {},
     "output_type": "display_data"
    }
   ],
   "source": [
    "fig, ax = plt.subplots(1, 1, figsize=(10,5))\n",
    "sns.set(font_scale=1)\n",
    "\n",
    "sns.regplot(x = \"private_cars\", y = \"number_calls_n\", data=data_18, ci=None, color=color[0])\n",
    "ax.set_xlabel('Private cars per adress', fontsize=14)\n",
    "ax.set_ylabel('Number of calls', fontsize=14)\n",
    "ax.set_title('Number of calls vs. Private cars per address', fontsize=14)\n",
    "ax.grid(False)\n",
    "ax.set_facecolor('w')\n",
    "ax.spines['bottom'].set_color('0.9')\n",
    "ax.spines['left'].set_color('0.9')\n",
    "ax.spines['top'].set_color('0.9')\n",
    "ax.spines['right'].set_color('0.9')\n",
    "fig.savefig('figures/regplot_cars.png', dpi=300, bbox_inches='tight')\n",
    "\n",
    "for txt in fig.texts:\n",
    "    txt.set_visible(False)"
   ]
  },
  {
   "cell_type": "code",
   "execution_count": 19,
   "id": "c2f63de0",
   "metadata": {
    "scrolled": true
   },
   "outputs": [
    {
     "name": "stdout",
     "output_type": "stream",
     "text": [
      "correlation private_cars: -0.03716\n"
     ]
    }
   ],
   "source": [
    "print('correlation private_cars:', round(corr_matrix.loc['number_calls_n', 'private_cars'], 5))"
   ]
  },
  {
   "cell_type": "code",
   "execution_count": 24,
   "id": "aaa786ee",
   "metadata": {
    "scrolled": true
   },
   "outputs": [
    {
     "data": {
      "text/plain": [
       "0.43795875896059844"
      ]
     },
     "execution_count": 24,
     "metadata": {},
     "output_type": "execute_result"
    }
   ],
   "source": [
    "mean_squared_error(data_18['private_cars'], data_18['number_calls_n'])"
   ]
  },
  {
   "cell_type": "code",
   "execution_count": 27,
   "id": "46db250a",
   "metadata": {},
   "outputs": [
    {
     "data": {
      "text/plain": [
       "0.6617845260812604"
      ]
     },
     "execution_count": 27,
     "metadata": {},
     "output_type": "execute_result"
    }
   ],
   "source": [
    "import math\n",
    "math.sqrt(mean_squared_error(data_18['private_cars'], data_18['number_calls_n']))"
   ]
  },
  {
   "cell_type": "code",
   "execution_count": 17,
   "id": "e18bdca0",
   "metadata": {},
   "outputs": [
    {
     "data": {
      "image/png": "[encoded data removed]",
      "text/plain": [
       "<Figure size 720x360 with 1 Axes>"
      ]
     },
     "metadata": {},
     "output_type": "display_data"
    }
   ],
   "source": [
    "fig, ax = plt.subplots(1, 1, figsize=(10,5))\n",
    "sns.set(font_scale=1)\n",
    "\n",
    "sns.regplot(x = \"offences\" , y =\"number_calls\", data=data_18, ci=None, color=color[1])\n",
    "ax.set_xlabel('All offences', fontsize=14)\n",
    "ax.set_ylabel('Number of calls', fontsize=14)\n",
    "ax.set_title('Number of calls vs. All offences', fontsize=14)\n",
    "plt.show\n",
    "\n",
    "ax.grid(False)\n",
    "ax.set_facecolor('w')\n",
    "ax.spines['bottom'].set_color('0.9')\n",
    "ax.spines['left'].set_color('0.9')\n",
    "ax.spines['top'].set_color('0.9')\n",
    "ax.spines['right'].set_color('0.9')\n",
    "\n",
    "for txt in fig.texts:\n",
    "    txt.set_visible(False)\n",
    "    \n",
    "fig.savefig('figures/regplot_offences.png', dpi=300, bbox_inches='tight')"
   ]
  },
  {
   "cell_type": "code",
   "execution_count": 18,
   "id": "5deee15c",
   "metadata": {
    "scrolled": false
   },
   "outputs": [
    {
     "name": "stdout",
     "output_type": "stream",
     "text": [
      "correlation offences: 0.32022\n"
     ]
    }
   ],
   "source": [
    "print('correlation offences:', round(corr_matrix.loc['number_calls', 'offences'], 5))"
   ]
  },
  {
   "cell_type": "code",
   "execution_count": 23,
   "id": "0ab4ba67",
   "metadata": {},
   "outputs": [
    {
     "data": {
      "text/plain": [
       "75467.45283018867"
      ]
     },
     "execution_count": 23,
     "metadata": {},
     "output_type": "execute_result"
    }
   ],
   "source": [
    "mean_squared_error(data_18['offences'], data_18['number_calls'])"
   ]
  },
  {
   "cell_type": "code",
   "execution_count": 28,
   "id": "f4df2812",
   "metadata": {},
   "outputs": [
    {
     "data": {
      "text/plain": [
       "274.7134012569985"
      ]
     },
     "execution_count": 28,
     "metadata": {},
     "output_type": "execute_result"
    }
   ],
   "source": [
    "import math\n",
    "math.sqrt(mean_squared_error(data_18['offences'], data_18['number_calls']))"
   ]
  },
  {
   "cell_type": "code",
   "execution_count": 19,
   "id": "27ae0e20",
   "metadata": {},
   "outputs": [
    {
     "data": {
      "image/png": "[encoded data removed]",
      "text/plain": [
       "<Figure size 720x360 with 1 Axes>"
      ]
     },
     "metadata": {},
     "output_type": "display_data"
    }
   ],
   "source": [
    "fig, ax = plt.subplots(1, 1, figsize=(10,5))\n",
    "sns.set(font_scale=1)\n",
    "\n",
    "sns.regplot(x = \"dutch_natives\" , y = \"number_calls_n\", data=data_18, ci=None, color=color[2])\n",
    "ax.set_xlabel('% Dutch natives' , fontsize=14)\n",
    "ax.set_ylabel('Number of calls', fontsize=14)\n",
    "ax.set_title('Number of calls vs. % Dutch natives', fontsize=14)\n",
    "plt.show\n",
    "\n",
    "for txt in fig.texts:\n",
    "    txt.set_visible(False)\n",
    "\n",
    "ax.grid(False)\n",
    "ax.set_facecolor('w')\n",
    "ax.spines['bottom'].set_color('0.9')\n",
    "ax.spines['left'].set_color('0.9')\n",
    "ax.spines['top'].set_color('0.9')\n",
    "ax.spines['right'].set_color('0.9')\n",
    "\n",
    "for txt in fig.texts:\n",
    "    txt.set_visible(False)\n",
    "\n",
    "fig.savefig('figures/regplot_dutch.png', dpi=300, bbox_inches='tight')"
   ]
  },
  {
   "cell_type": "code",
   "execution_count": 20,
   "id": "7fb8706d",
   "metadata": {},
   "outputs": [
    {
     "name": "stdout",
     "output_type": "stream",
     "text": [
      "correlation dutch_natives: 0.17476\n"
     ]
    }
   ],
   "source": [
    "print('correlation dutch_natives:', round(corr_matrix.loc['dutch_natives', 'number_calls_n'], 5))"
   ]
  },
  {
   "cell_type": "code",
   "execution_count": 25,
   "id": "cb361504",
   "metadata": {},
   "outputs": [
    {
     "data": {
      "text/plain": [
       "229378.39669811318"
      ]
     },
     "execution_count": 25,
     "metadata": {},
     "output_type": "execute_result"
    }
   ],
   "source": [
    "mean_squared_error(data_18['dutch_natives'], data_18['number_calls'])"
   ]
  },
  {
   "cell_type": "code",
   "execution_count": 29,
   "id": "f34467ec",
   "metadata": {},
   "outputs": [
    {
     "data": {
      "text/plain": [
       "478.9346476275372"
      ]
     },
     "execution_count": 29,
     "metadata": {},
     "output_type": "execute_result"
    }
   ],
   "source": [
    "import math\n",
    "math.sqrt(mean_squared_error(data_18['dutch_natives'], data_18['number_calls']))"
   ]
  },
  {
   "cell_type": "code",
   "execution_count": 21,
   "id": "43916d1d",
   "metadata": {},
   "outputs": [
    {
     "data": {
      "image/png": "[encoded data removed]",
      "text/plain": [
       "<Figure size 720x360 with 1 Axes>"
      ]
     },
     "metadata": {},
     "output_type": "display_data"
    }
   ],
   "source": [
    "fig, ax = plt.subplots(1, 1, figsize=(10,5))\n",
    "sns.set(font_scale=1)\n",
    "\n",
    "sns.regplot(x = \"older_65\", y = \"number_calls\", data=data_18, ci=None, color=color[3])\n",
    "ax.set_xlabel('Number of people 65 or older', fontsize=14)\n",
    "ax.set_ylabel('Number of calls', fontsize=14)\n",
    "ax.set_title('Number of calls vs. Number of people 65 or older', fontsize=14)\n",
    "plt.show\n",
    "\n",
    "for txt in fig.texts:\n",
    "    txt.set_visible(False)\n",
    "\n",
    "ax.grid(False)\n",
    "ax.set_facecolor('w')\n",
    "ax.spines['bottom'].set_color('0.9')\n",
    "ax.spines['left'].set_color('0.9')\n",
    "ax.spines['top'].set_color('0.9')\n",
    "ax.spines['right'].set_color('0.9')\n",
    "\n",
    "for txt in fig.texts:\n",
    "    txt.set_visible(False)\n",
    "\n",
    "fig.savefig('figures/regplot_65.png', dpi=300, bbox_inches='tight')"
   ]
  },
  {
   "cell_type": "code",
   "execution_count": 22,
   "id": "b2f57d10",
   "metadata": {
    "scrolled": false
   },
   "outputs": [
    {
     "name": "stdout",
     "output_type": "stream",
     "text": [
      "correlation older_65: 0.22559\n"
     ]
    }
   ],
   "source": [
    "print('correlation older_65:', round(corr_matrix.loc['older_65', 'number_calls'], 5))"
   ]
  },
  {
   "cell_type": "code",
   "execution_count": 30,
   "id": "2b308a4c",
   "metadata": {},
   "outputs": [
    {
     "data": {
      "text/plain": [
       "234612.7358490566"
      ]
     },
     "execution_count": 30,
     "metadata": {},
     "output_type": "execute_result"
    }
   ],
   "source": [
    "mean_squared_error(data_18['older_65'], data_18['number_calls'])"
   ]
  },
  {
   "cell_type": "code",
   "execution_count": 31,
   "id": "0f031e84",
   "metadata": {},
   "outputs": [
    {
     "data": {
      "text/plain": [
       "484.36838857326"
      ]
     },
     "execution_count": 31,
     "metadata": {},
     "output_type": "execute_result"
    }
   ],
   "source": [
    "import math\n",
    "math.sqrt(mean_squared_error(data_18['older_65'], data_18['number_calls']))"
   ]
  },
  {
   "cell_type": "code",
   "execution_count": 23,
   "id": "0e44e428",
   "metadata": {},
   "outputs": [
    {
     "data": {
      "image/png": "[encoded data removed]",
      "text/plain": [
       "<Figure size 720x360 with 1 Axes>"
      ]
     },
     "metadata": {},
     "output_type": "display_data"
    }
   ],
   "source": [
    "fig, ax = plt.subplots(1, 1, figsize=(10,5))\n",
    "sns.set(font_scale=1)\n",
    "\n",
    "sns.regplot(x = \"single_person_households\" , y = \"number_calls\", data=data_18, ci=None, color=color[4])\n",
    "ax.set_xlabel('Single person households', fontsize=14)\n",
    "ax.set_ylabel('Number of calls', fontsize=14)\n",
    "ax.set_title('Number of calls vs. Single person households', fontsize=14)\n",
    "plt.show\n",
    "\n",
    "for txt in fig.texts:\n",
    "    txt.set_visible(False)\n",
    "    \n",
    "ax.grid(False)\n",
    "ax.set_facecolor('w')\n",
    "ax.spines['bottom'].set_color('0.9')\n",
    "ax.spines['left'].set_color('0.9')\n",
    "ax.spines['top'].set_color('0.9')\n",
    "ax.spines['right'].set_color('0.9')\n",
    "\n",
    "for txt in fig.texts:\n",
    "    txt.set_visible(False)\n",
    "    \n",
    "fig.savefig('figures/regplot_singlehouseholds.png', dpi=300, bbox_inches='tight')"
   ]
  },
  {
   "cell_type": "code",
   "execution_count": 24,
   "id": "4f4d3152",
   "metadata": {},
   "outputs": [
    {
     "name": "stdout",
     "output_type": "stream",
     "text": [
      "correlation single_person_households: 0.32874\n"
     ]
    }
   ],
   "source": [
    "print('correlation single_person_households:', round(corr_matrix.loc['single_person_households', 'number_calls'], 5))"
   ]
  },
  {
   "cell_type": "code",
   "execution_count": 32,
   "id": "89c4176c",
   "metadata": {},
   "outputs": [
    {
     "data": {
      "text/plain": [
       "1009999.1509433963"
      ]
     },
     "execution_count": 32,
     "metadata": {},
     "output_type": "execute_result"
    }
   ],
   "source": [
    "mean_squared_error(data_18['single_person_households'], data_18['number_calls'])"
   ]
  },
  {
   "cell_type": "code",
   "execution_count": 33,
   "id": "1291dd4d",
   "metadata": {},
   "outputs": [
    {
     "data": {
      "text/plain": [
       "1004.9871396905515"
      ]
     },
     "execution_count": 33,
     "metadata": {},
     "output_type": "execute_result"
    }
   ],
   "source": [
    "import math\n",
    "math.sqrt(mean_squared_error(data_18['single_person_households'], data_18['number_calls']))"
   ]
  },
  {
   "cell_type": "code",
   "execution_count": 25,
   "id": "800f6c75",
   "metadata": {},
   "outputs": [
    {
     "data": {
      "image/png": "[encoded data removed]",
      "text/plain": [
       "<Figure size 720x360 with 1 Axes>"
      ]
     },
     "metadata": {},
     "output_type": "display_data"
    }
   ],
   "source": [
    "fig, ax = plt.subplots(1, 1, figsize=(10,5))\n",
    "sns.set(font_scale=1)\n",
    "\n",
    "sns.regplot(x = \"households_with_children\", y = \"number_calls\", data=data_18, ci=None, color=color[5])\n",
    "ax.set_xlabel('Households with children', fontsize=14)\n",
    "ax.set_ylabel('Number of calls', fontsize=14)\n",
    "ax.set_title('Number of calls vs. Households with children', fontsize=14)\n",
    "plt.show\n",
    "\n",
    "for txt in fig.texts:\n",
    "    txt.set_visible(False)\n",
    "    \n",
    "ax.grid(False)\n",
    "ax.set_facecolor('w')\n",
    "ax.spines['bottom'].set_color('0.9')\n",
    "ax.spines['left'].set_color('0.9')\n",
    "ax.spines['top'].set_color('0.9')\n",
    "ax.spines['right'].set_color('0.9')\n",
    "\n",
    "for txt in fig.texts:\n",
    "    txt.set_visible(False)\n",
    "\n",
    "fig.savefig('figures/regplot_childrenhouseholds.png', dpi=300, bbox_inches='tight')"
   ]
  },
  {
   "cell_type": "code",
   "execution_count": 26,
   "id": "1c875cdc",
   "metadata": {},
   "outputs": [
    {
     "name": "stdout",
     "output_type": "stream",
     "text": [
      "correlation households_with_children: 0.21031\n"
     ]
    }
   ],
   "source": [
    "print('correlation households_with_children:', round(corr_matrix.loc['households_with_children', 'number_calls'], 5))"
   ]
  },
  {
   "cell_type": "code",
   "execution_count": 34,
   "id": "3de5fef7",
   "metadata": {},
   "outputs": [
    {
     "data": {
      "text/plain": [
       "306398.72641509434"
      ]
     },
     "execution_count": 34,
     "metadata": {},
     "output_type": "execute_result"
    }
   ],
   "source": [
    "mean_squared_error(data_18['households_with_children'], data_18['number_calls'])"
   ]
  },
  {
   "cell_type": "code",
   "execution_count": 35,
   "id": "042d45e7",
   "metadata": {},
   "outputs": [
    {
     "data": {
      "text/plain": [
       "553.5329497103983"
      ]
     },
     "execution_count": 35,
     "metadata": {},
     "output_type": "execute_result"
    }
   ],
   "source": [
    "import math\n",
    "math.sqrt(mean_squared_error(data_18['households_with_children'], data_18['number_calls']))"
   ]
  },
  {
   "cell_type": "code",
   "execution_count": 27,
   "id": "1983a8cb",
   "metadata": {},
   "outputs": [
    {
     "data": {
      "image/png": "[encoded data removed]",
      "text/plain": [
       "<Figure size 720x360 with 1 Axes>"
      ]
     },
     "metadata": {},
     "output_type": "display_data"
    }
   ],
   "source": [
    "fig, ax = plt.subplots(1, 1, figsize=(10,5))\n",
    "sns.set(font_scale=1)\n",
    "\n",
    "sns.regplot(x = \"disability_benefit\" , y = \"number_calls\", data=data_18, ci=None, color=color[6])\n",
    "ax.set_xlabel('People with disability benefit', fontsize=14)\n",
    "ax.set_ylabel('Number of calls', fontsize=14)\n",
    "ax.set_title('Number of calls vs. People with disability benefit', fontsize=14)\n",
    "plt.show\n",
    "\n",
    "for txt in fig.texts:\n",
    "    txt.set_visible(False)\n",
    "    \n",
    "ax.grid(False)\n",
    "ax.set_facecolor('w')\n",
    "ax.spines['bottom'].set_color('0.9')\n",
    "ax.spines['left'].set_color('0.9')\n",
    "ax.spines['top'].set_color('0.9')\n",
    "ax.spines['right'].set_color('0.9')\n",
    "\n",
    "for txt in fig.texts:\n",
    "    txt.set_visible(False)\n",
    "    \n",
    "fig.savefig('figures/regplot_disability.png', dpi=300, bbox_inches='tight')"
   ]
  },
  {
   "cell_type": "code",
   "execution_count": 28,
   "id": "809ff293",
   "metadata": {},
   "outputs": [
    {
     "name": "stdout",
     "output_type": "stream",
     "text": [
      "correlation disability_benefit: 0.29852\n"
     ]
    }
   ],
   "source": [
    "print('correlation disability_benefit:', round(corr_matrix.loc['disability_benefit', 'number_calls'], 5))"
   ]
  },
  {
   "cell_type": "code",
   "execution_count": 36,
   "id": "bda442f7",
   "metadata": {},
   "outputs": [
    {
     "data": {
      "text/plain": [
       "91352.12264150943"
      ]
     },
     "execution_count": 36,
     "metadata": {},
     "output_type": "execute_result"
    }
   ],
   "source": [
    "mean_squared_error(data_18['disability_benefit'], data_18['number_calls'])"
   ]
  },
  {
   "cell_type": "code",
   "execution_count": 37,
   "id": "7c1b2285",
   "metadata": {},
   "outputs": [
    {
     "data": {
      "text/plain": [
       "302.24513667139365"
      ]
     },
     "execution_count": 37,
     "metadata": {},
     "output_type": "execute_result"
    }
   ],
   "source": [
    "import math\n",
    "math.sqrt(mean_squared_error(data_18['disability_benefit'], data_18['number_calls']))"
   ]
  },
  {
   "cell_type": "code",
   "execution_count": 29,
   "id": "5f88f67c",
   "metadata": {},
   "outputs": [
    {
     "data": {
      "image/png": "[encoded data removed]",
      "text/plain": [
       "<Figure size 720x360 with 1 Axes>"
      ]
     },
     "metadata": {},
     "output_type": "display_data"
    }
   ],
   "source": [
    "fig, ax = plt.subplots(1, 1, figsize=(10,5))\n",
    "sns.set(font_scale=1)\n",
    "\n",
    "sns.regplot(x = \"distance_to_gp\" , y = \"number_calls\", data=data_18, ci=None, color=color[7])\n",
    "ax.set_xlabel('Distance to GP' , fontsize=14)\n",
    "ax.set_ylabel('Number of calls', fontsize=14)\n",
    "ax.set_title('Number of calls vs. Distance to GP', fontsize=14)\n",
    "plt.show\n",
    "\n",
    "for txt in fig.texts:\n",
    "    txt.set_visible(False)\n",
    "    \n",
    "ax.grid(False)\n",
    "ax.set_facecolor('w')\n",
    "ax.spines['bottom'].set_color('0.9')\n",
    "ax.spines['left'].set_color('0.9')\n",
    "ax.spines['top'].set_color('0.9')\n",
    "ax.spines['right'].set_color('0.9')\n",
    "\n",
    "for txt in fig.texts:\n",
    "    txt.set_visible(False)\n",
    "    \n",
    "fig.savefig('figures/regplot_distanceGP.png', dpi=300, bbox_inches='tight')"
   ]
  },
  {
   "cell_type": "code",
   "execution_count": 30,
   "id": "19a68ff7",
   "metadata": {},
   "outputs": [
    {
     "name": "stdout",
     "output_type": "stream",
     "text": [
      "correlation distance_to_gp: -0.21495\n"
     ]
    }
   ],
   "source": [
    "print('correlation distance_to_gp:', round(corr_matrix.loc['distance_to_gp', 'number_calls'], 5))"
   ]
  },
  {
   "cell_type": "code",
   "execution_count": 38,
   "id": "7e14c7a7",
   "metadata": {},
   "outputs": [
    {
     "data": {
      "text/plain": [
       "264788.5068867925"
      ]
     },
     "execution_count": 38,
     "metadata": {},
     "output_type": "execute_result"
    }
   ],
   "source": [
    "mean_squared_error(data_18['distance_to_gp'], data_18['number_calls'])"
   ]
  },
  {
   "cell_type": "code",
   "execution_count": 39,
   "id": "aeae8588",
   "metadata": {},
   "outputs": [
    {
     "data": {
      "text/plain": [
       "514.5760457763191"
      ]
     },
     "execution_count": 39,
     "metadata": {},
     "output_type": "execute_result"
    }
   ],
   "source": [
    "import math\n",
    "math.sqrt(mean_squared_error(data_18['distance_to_gp'], data_18['number_calls']))"
   ]
  },
  {
   "cell_type": "code",
   "execution_count": 31,
   "id": "7f2f049d",
   "metadata": {},
   "outputs": [
    {
     "data": {
      "image/png": "[encoded data removed]",
      "text/plain": [
       "<Figure size 720x360 with 1 Axes>"
      ]
     },
     "metadata": {},
     "output_type": "display_data"
    }
   ],
   "source": [
    "fig, ax = plt.subplots(1, 1, figsize=(10,5))\n",
    "sns.set(font_scale=1)\n",
    "\n",
    "sns.regplot(x = \"low_income_households\", y = \"number_calls_n\", data=data_18, ci=None, color=color[8])\n",
    "ax.set_xlabel('Low-income households', fontsize=14)\n",
    "ax.set_ylabel('Number of calls', fontsize=14)\n",
    "ax.set_title('Number of calls vs. Low-income households', fontsize=14)\n",
    "plt.show\n",
    "\n",
    "for txt in fig.texts:\n",
    "    txt.set_visible(False)\n",
    "\n",
    "ax.grid(False)\n",
    "ax.set_facecolor('w')\n",
    "ax.spines['bottom'].set_color('0.9')\n",
    "ax.spines['left'].set_color('0.9')\n",
    "ax.spines['top'].set_color('0.9')\n",
    "ax.spines['right'].set_color('0.9')\n",
    "\n",
    "for txt in fig.texts:\n",
    "    txt.set_visible(False)\n",
    "    \n",
    "fig.savefig('figures/regplot_lowincomeHouseholds.png', dpi=300, bbox_inches='tight')"
   ]
  },
  {
   "cell_type": "code",
   "execution_count": 32,
   "id": "3554a925",
   "metadata": {
    "scrolled": true
   },
   "outputs": [
    {
     "name": "stdout",
     "output_type": "stream",
     "text": [
      "correlation potencial_labour_force: 0.02865\n"
     ]
    }
   ],
   "source": [
    "print('correlation potencial_labour_force:', round(corr_matrix.loc['low_income_households', 'number_calls_n'], 5))"
   ]
  },
  {
   "cell_type": "code",
   "execution_count": 40,
   "id": "19cb9d0a",
   "metadata": {},
   "outputs": [
    {
     "data": {
      "text/plain": [
       "254234.26667487886"
      ]
     },
     "execution_count": 40,
     "metadata": {},
     "output_type": "execute_result"
    }
   ],
   "source": [
    "mean_squared_error(data_18['low_income_households'], data_18['number_calls'])"
   ]
  },
  {
   "cell_type": "code",
   "execution_count": 41,
   "id": "af87a4a6",
   "metadata": {},
   "outputs": [
    {
     "data": {
      "text/plain": [
       "504.216487904629"
      ]
     },
     "execution_count": 41,
     "metadata": {},
     "output_type": "execute_result"
    }
   ],
   "source": [
    "import math\n",
    "math.sqrt(mean_squared_error(data_18['low_income_households'], data_18['number_calls']))"
   ]
  },
  {
   "cell_type": "code",
   "execution_count": 33,
   "id": "456e32f8",
   "metadata": {},
   "outputs": [
    {
     "data": {
      "image/png": "[encoded data removed]",
      "text/plain": [
       "<Figure size 720x360 with 1 Axes>"
      ]
     },
     "metadata": {},
     "output_type": "display_data"
    }
   ],
   "source": [
    "fig, ax = plt.subplots(1, 1, figsize=(10,5))\n",
    "sns.set(font_scale=1)\n",
    "\n",
    "sns.regplot(x = \"wealth_private_households\", y =  \"number_calls_n\", data=data_18, ci=None, color=color[9])\n",
    "ax.set_xlabel('Median wealth of private households', fontsize=14)\n",
    "ax.set_ylabel('Number of calls', fontsize=14)\n",
    "ax.set_title('Number of calls vs. Median wealth of private households', fontsize=14)\n",
    "plt.show\n",
    "\n",
    "for txt in fig.texts:\n",
    "    txt.set_visible(False)\n",
    "    \n",
    "ax.grid(False)\n",
    "ax.set_facecolor('w')\n",
    "ax.spines['bottom'].set_color('0.9')\n",
    "ax.spines['left'].set_color('0.9')\n",
    "ax.spines['top'].set_color('0.9')\n",
    "ax.spines['right'].set_color('0.9')\n",
    "\n",
    "for txt in fig.texts:\n",
    "    txt.set_visible(False)\n",
    "    \n",
    "fig.savefig('figures/regplot_medianWealthHouseholds.png', dpi=300, bbox_inches='tight')"
   ]
  },
  {
   "cell_type": "code",
   "execution_count": 34,
   "id": "51d7ae7e",
   "metadata": {},
   "outputs": [
    {
     "name": "stdout",
     "output_type": "stream",
     "text": [
      "correlation wealth_private_households: 0.02225\n"
     ]
    }
   ],
   "source": [
    "print('correlation wealth_private_households:', round(corr_matrix.loc['number_calls_n', 'wealth_private_households'], 5))"
   ]
  },
  {
   "cell_type": "code",
   "execution_count": 42,
   "id": "915fa91f",
   "metadata": {},
   "outputs": [
    {
     "data": {
      "text/plain": [
       "251057.04483191707"
      ]
     },
     "execution_count": 42,
     "metadata": {},
     "output_type": "execute_result"
    }
   ],
   "source": [
    "mean_squared_error(data_18['wealth_private_households'], data_18['number_calls'])"
   ]
  },
  {
   "cell_type": "code",
   "execution_count": 43,
   "id": "6f6c9f87",
   "metadata": {},
   "outputs": [
    {
     "data": {
      "text/plain": [
       "501.05592984408145"
      ]
     },
     "execution_count": 43,
     "metadata": {},
     "output_type": "execute_result"
    }
   ],
   "source": [
    "import math\n",
    "math.sqrt(mean_squared_error(data_18['wealth_private_households'], data_18['number_calls']))"
   ]
  },
  {
   "cell_type": "markdown",
   "id": "91448d66",
   "metadata": {},
   "source": [
    "**VARIABLES**\n",
    "<br>\n",
    "<br>\n",
    "\"Number of employed persons\" : \"employed_persons\"\n",
    "<br>\n",
    "<br>\n",
    "\"Potential labour force\" : \"potencial_labour_force\"\n",
    "<br>\n",
    "<br>\n",
    "\"cars\" : \"private_cars\"\n",
    "<br>\n",
    "<br>\n",
    "\"All offences\" : \"offences\"\n",
    "<br>\n",
    "<br>\n",
    "\"% Dutch natives\" : \"dutch_natives\"\n",
    "<br>\n",
    "<br>\n",
    "\"Number of inhabitants\" : \"n_inhabitants\"\n",
    "<br>\n",
    "<br>\n",
    "\"Population density\" : \"population_density\"\n",
    "<br>\n",
    "<br>\n",
    "\"65 or older\" : \"65_or_older\"\n",
    "<br>\n",
    "<br>\n",
    "\"Single person households\" : \"single_person_households\"\n",
    "<br>\n",
    "<br>\n",
    "\"Households without children\" : \"households_without_children\"\n",
    "<br>\n",
    "<br>\n",
    "\"Households with children\" : \"households_with_children\"\n",
    "<br>\n",
    "<br>\n",
    "\"Person with disability benefit\" : \"disability_benefit\"\n",
    "<br>\n",
    "<br>\n",
    "\"Distance to GP\" : \"distance_to_gp\"\n",
    "<br>\n",
    "<br>\n",
    "\"Low-income households\" : \"low_income_households\"\n",
    "<br>\n",
    "<br>\n",
    "\"Median wealth of private households\" : \"wealth_private_households\"\n",
    "<br>\n",
    "<br>\n",
    "\"Number of calls\" : \"number_calls\"\n",
    "<br>"
   ]
  },
  {
   "cell_type": "code",
   "execution_count": 62,
   "id": "604dbff8",
   "metadata": {},
   "outputs": [],
   "source": [
    "import statsmodels.api as sm"
   ]
  },
  {
   "cell_type": "markdown",
   "id": "5442d03d",
   "metadata": {},
   "source": [
    "### RESULTS:\n",
    "(without outliers)\n",
    "\n",
    "\"private_cars\" **N** (R-squared: 0.009) - The regression coef from statsmodels are: beta_0 = 0.15040058 and beta_1 = -0.04741964\n",
    "<br>\n",
    "<br>\n",
    "\"offences\" (R-squared: 0.430) - The regression coef from statsmodels are: beta_0 = 209.56537383 and beta_1 = 0.66346518\n",
    "<br>\n",
    "<br>\n",
    "\"dutch_natives\" **N** (R-squared: 0.083) - The regression coef from statsmodels are: beta_0 = 0.03175620 and beta_1 = 0.00166862\n",
    "<br>\n",
    "<br>\n",
    "\"65 or older\" (R-squared:  0.430) - The regression coef from statsmodels are: beta_0 = 138.62449840 and beta_1 = 0.39172622\n",
    "<br>\n",
    "<br>\n",
    "\"single_person_households\" (R-squared: 0.542) - The regression coef from statsmodels are: beta_0 = 127.79067293 and beta_1 = 0.25215665\n",
    "<br>\n",
    "<br>\n",
    "\"households_with_children\" (R-squared: 0.360) - The regression coef from statsmodels are: beta_0 = 159.67565461 and beta_1 = 0.33724615\n",
    "<br>\n",
    "<br>\n",
    "\"disability_benefit\" (R-squared: 0.477) - The regression coef from statsmodels are: beta_0 = 163.02549602 and beta_1 = 1.18589354\n",
    "<br>\n",
    "<br>\n",
    "\"distance_to_gp\" (R-squared: 0.104) - The regression coef from statsmodels are: beta_0 = 586.63484364 and beta_1 = -270.43142011\n",
    "<br>\n",
    "<br>\n",
    "\"low_income_households\" **N** (R-squared: -0.009) - The regression coef from statsmodels are: beta_0 = 0.12044701 and beta_1 = -0.00034227\n",
    "<br>\n",
    "<br>\n",
    "\"wealth_private_households\" **N** (R-squared: 0.015) - The regression coef from statsmodels are: beta_0 = 0.10785109 and beta_1 = 0.00009960\n",
    "<br>\n",
    "<br>\n",
    "\"n_inhabitants\"  (R-squared: 0.509) - beta_0 = 82.80438524 and beta_1 = 0.06775468"
   ]
  },
  {
   "cell_type": "code",
   "execution_count": 56,
   "id": "b368849b",
   "metadata": {},
   "outputs": [],
   "source": [
    "y = np.asarray(data_18['number_calls'])"
   ]
  },
  {
   "cell_type": "code",
   "execution_count": 59,
   "id": "ea1a5e09",
   "metadata": {},
   "outputs": [],
   "source": [
    "y_n = np.asarray(data_18['number_calls_n'])"
   ]
  },
  {
   "cell_type": "code",
   "execution_count": 60,
   "id": "9ad3b89c",
   "metadata": {
    "scrolled": true
   },
   "outputs": [
    {
     "name": "stdout",
     "output_type": "stream",
     "text": [
      "y shape: (106, 1)\n",
      "y_n shape: (106, 1)\n"
     ]
    }
   ],
   "source": [
    "y = y.reshape(y.shape[0], 1)\n",
    "y_n = y_n.reshape(y_n.shape[0], 1)\n",
    "x = x.reshape(x.shape[0], 1)\n",
    "\n",
    "print('y shape:', y.shape)\n",
    "print('y_n shape:', y_n.shape)"
   ]
  },
  {
   "cell_type": "code",
   "execution_count": 63,
   "id": "6738e7d7",
   "metadata": {},
   "outputs": [
    {
     "name": "stdout",
     "output_type": "stream",
     "text": [
      "The regression coef from statsmodels are: beta_0 = 82.80438524 and beta_1 = 0.06775468\n"
     ]
    }
   ],
   "source": [
    "#Creates the X matrix and appends a column of ones to x_train\n",
    "X = sm.add_constant(x)\n",
    "\n",
    "#To build the OLS model (ordinary least squares) \n",
    "toyregr_sm = sm.OLS(y, X)\n",
    "\n",
    "#To fit and save regression info in results_sm\n",
    "results_sm = toyregr_sm.fit()\n",
    "\n",
    "#To get the beta parameters\n",
    "beta0_sm = results_sm.params[0]\n",
    "beta1_sm = results_sm.params[1]\n",
    "\n",
    "print(f'The regression coef from statsmodels are: beta_0 = {beta0_sm:8.8f} and beta_1 = {beta1_sm:8.8f}')"
   ]
  },
  {
   "cell_type": "code",
   "execution_count": 64,
   "id": "becf7862",
   "metadata": {},
   "outputs": [
    {
     "name": "stdout",
     "output_type": "stream",
     "text": [
      "                            OLS Regression Results                            \n",
      "==============================================================================\n",
      "Dep. Variable:                      y   R-squared:                       0.509\n",
      "Model:                            OLS   Adj. R-squared:                  0.504\n",
      "Method:                 Least Squares   F-statistic:                     107.8\n",
      "Date:                Tue, 02 Nov 2021   Prob (F-statistic):           9.35e-18\n",
      "Time:                        21:34:53   Log-Likelihood:                -719.80\n",
      "No. Observations:                 106   AIC:                             1444.\n",
      "Df Residuals:                     104   BIC:                             1449.\n",
      "Df Model:                           1                                         \n",
      "Covariance Type:            nonrobust                                         \n",
      "==============================================================================\n",
      "                 coef    std err          t      P>|t|      [0.025      0.975]\n",
      "------------------------------------------------------------------------------\n",
      "const         82.8044     38.198      2.168      0.032       7.056     158.553\n",
      "x1             0.0678      0.007     10.384      0.000       0.055       0.081\n",
      "==============================================================================\n",
      "Omnibus:                       29.692   Durbin-Watson:                   1.799\n",
      "Prob(Omnibus):                  0.000   Jarque-Bera (JB):               51.293\n",
      "Skew:                           1.203   Prob(JB):                     7.27e-12\n",
      "Kurtosis:                       5.413   Cond. No.                     1.06e+04\n",
      "==============================================================================\n",
      "\n",
      "Notes:\n",
      "[1] Standard Errors assume that the covariance matrix of the errors is correctly specified.\n",
      "[2] The condition number is large, 1.06e+04. This might indicate that there are\n",
      "strong multicollinearity or other numerical problems.\n"
     ]
    }
   ],
   "source": [
    "print(results_sm.summary())"
   ]
  },
  {
   "cell_type": "code",
   "execution_count": 93,
   "id": "54a53221",
   "metadata": {},
   "outputs": [],
   "source": [
    "x = np.asarray(data_18['private_cars'])"
   ]
  },
  {
   "cell_type": "code",
   "execution_count": 56,
   "id": "aad2204f",
   "metadata": {},
   "outputs": [],
   "source": [
    "x = np.asarray(data_18['offences'])"
   ]
  },
  {
   "cell_type": "code",
   "execution_count": 99,
   "id": "fb12128e",
   "metadata": {},
   "outputs": [],
   "source": [
    "x = np.asarray(data_18['dutch_natives'])"
   ]
  },
  {
   "cell_type": "code",
   "execution_count": 65,
   "id": "ba17fe71",
   "metadata": {},
   "outputs": [],
   "source": [
    "x = np.asarray(data_18['older_65'])"
   ]
  },
  {
   "cell_type": "code",
   "execution_count": 69,
   "id": "82f001a6",
   "metadata": {},
   "outputs": [],
   "source": [
    "x = np.asarray(data_18['single_person_households'])"
   ]
  },
  {
   "cell_type": "code",
   "execution_count": 73,
   "id": "724a6fba",
   "metadata": {},
   "outputs": [],
   "source": [
    "x = np.asarray(data_18['households_with_children'])"
   ]
  },
  {
   "cell_type": "code",
   "execution_count": 77,
   "id": "c440f54a",
   "metadata": {},
   "outputs": [],
   "source": [
    "x = np.asarray(data_18['disability_benefit'])"
   ]
  },
  {
   "cell_type": "code",
   "execution_count": 81,
   "id": "3342ce74",
   "metadata": {},
   "outputs": [],
   "source": [
    "x = np.asarray(data_18['distance_to_gp'])"
   ]
  },
  {
   "cell_type": "code",
   "execution_count": 103,
   "id": "708b899a",
   "metadata": {},
   "outputs": [],
   "source": [
    "x = np.asarray(data_18['low_income_households'])"
   ]
  },
  {
   "cell_type": "code",
   "execution_count": 89,
   "id": "bc06c9e5",
   "metadata": {},
   "outputs": [],
   "source": [
    "x = np.asarray(data_18['wealth_private_households'])"
   ]
  },
  {
   "cell_type": "code",
   "execution_count": 57,
   "id": "2941bc18",
   "metadata": {},
   "outputs": [],
   "source": [
    "x = np.asarray(data_18['n_inhabitants'])"
   ]
  }
 ],
 "metadata": {
  "kernelspec": {
   "display_name": "gds",
   "language": "python",
   "name": "gds"
  },
  "language_info": {
   "codemirror_mode": {
    "name": "ipython",
    "version": 3
   },
   "file_extension": ".py",
   "mimetype": "text/x-python",
   "name": "python",
   "nbconvert_exporter": "python",
   "pygments_lexer": "ipython3",
   "version": "3.8.12"
  }
 },
 "nbformat": 4,
 "nbformat_minor": 5
}
